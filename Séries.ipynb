{
 "cells": [
  {
   "attachments": {},
   "cell_type": "markdown",
   "id": "49a3de58",
   "metadata": {},
   "source": [
    "## Importando Bibliotecas ##"
   ]
  },
  {
   "cell_type": "code",
   "execution_count": 74,
   "id": "a3b6e4dd",
   "metadata": {},
   "outputs": [],
   "source": [
    "%matplotlib inline\n",
    "import matplotlib.pyplot as plt\n",
    "import pandas as pd\n",
    "import pandas_datareader as pdr\n",
    "import seaborn as sns\n",
    "import numpy as np\n",
    "from statsmodels.tsa.api import acf, graphics, pacf\n",
    "from statsmodels.tsa.ar_model import AutoReg, ar_select_order\n",
    "from statsmodels.graphics.tsaplots import plot_pacf, plot_acf\n",
    "import math\n",
    "from statsmodels.tsa.seasonal import seasonal_decompose"
   ]
  },
  {
   "attachments": {},
   "cell_type": "markdown",
   "id": "1598703d",
   "metadata": {},
   "source": [
    "## Observando a estacionariedade das séries ##"
   ]
  },
  {
   "attachments": {},
   "cell_type": "markdown",
   "id": "22f15bb0",
   "metadata": {},
   "source": [
    "## 1. Balança Comercial ##"
   ]
  },
  {
   "cell_type": "code",
   "execution_count": 60,
   "id": "2c26344b",
   "metadata": {},
   "outputs": [],
   "source": [
    "balanca = pd.read_excel('balanca_comercial.xls', parse_dates=['Data'])"
   ]
  },
  {
   "cell_type": "code",
   "execution_count": 61,
   "id": "be15ae20",
   "metadata": {},
   "outputs": [
    {
     "data": {
      "text/html": [
       "<div>\n",
       "<style scoped>\n",
       "    .dataframe tbody tr th:only-of-type {\n",
       "        vertical-align: middle;\n",
       "    }\n",
       "\n",
       "    .dataframe tbody tr th {\n",
       "        vertical-align: top;\n",
       "    }\n",
       "\n",
       "    .dataframe thead th {\n",
       "        text-align: right;\n",
       "    }\n",
       "</style>\n",
       "<table border=\"1\" class=\"dataframe\">\n",
       "  <thead>\n",
       "    <tr style=\"text-align: right;\">\n",
       "      <th></th>\n",
       "      <th>Data</th>\n",
       "      <th>Balanço de pagamentos - balança comercial - saldo - US$ (milhões)  - Banco Central do Brasil, Balanço de Pagamentos (BPM6) (BCB / BP (BPM6)) - BPAG12_BC12 -</th>\n",
       "    </tr>\n",
       "  </thead>\n",
       "  <tbody>\n",
       "    <tr>\n",
       "      <th>0</th>\n",
       "      <td>1995-01-01</td>\n",
       "      <td>-398.728132</td>\n",
       "    </tr>\n",
       "    <tr>\n",
       "      <th>1</th>\n",
       "      <td>1995-02-01</td>\n",
       "      <td>-1151.625706</td>\n",
       "    </tr>\n",
       "    <tr>\n",
       "      <th>2</th>\n",
       "      <td>1995-03-01</td>\n",
       "      <td>-1019.483914</td>\n",
       "    </tr>\n",
       "    <tr>\n",
       "      <th>3</th>\n",
       "      <td>1995-04-01</td>\n",
       "      <td>-565.690024</td>\n",
       "    </tr>\n",
       "    <tr>\n",
       "      <th>4</th>\n",
       "      <td>1995-05-01</td>\n",
       "      <td>-781.699265</td>\n",
       "    </tr>\n",
       "    <tr>\n",
       "      <th>...</th>\n",
       "      <td>...</td>\n",
       "      <td>...</td>\n",
       "    </tr>\n",
       "    <tr>\n",
       "      <th>336</th>\n",
       "      <td>2023-01-01</td>\n",
       "      <td>894.689159</td>\n",
       "    </tr>\n",
       "    <tr>\n",
       "      <th>337</th>\n",
       "      <td>2023-02-01</td>\n",
       "      <td>2262.890102</td>\n",
       "    </tr>\n",
       "    <tr>\n",
       "      <th>338</th>\n",
       "      <td>2023-03-01</td>\n",
       "      <td>9340.252047</td>\n",
       "    </tr>\n",
       "    <tr>\n",
       "      <th>339</th>\n",
       "      <td>2023-04-01</td>\n",
       "      <td>6942.439554</td>\n",
       "    </tr>\n",
       "    <tr>\n",
       "      <th>340</th>\n",
       "      <td>2023-05-01</td>\n",
       "      <td>9718.732581</td>\n",
       "    </tr>\n",
       "  </tbody>\n",
       "</table>\n",
       "<p>341 rows × 2 columns</p>\n",
       "</div>"
      ],
      "text/plain": [
       "          Data  \\\n",
       "0   1995-01-01   \n",
       "1   1995-02-01   \n",
       "2   1995-03-01   \n",
       "3   1995-04-01   \n",
       "4   1995-05-01   \n",
       "..         ...   \n",
       "336 2023-01-01   \n",
       "337 2023-02-01   \n",
       "338 2023-03-01   \n",
       "339 2023-04-01   \n",
       "340 2023-05-01   \n",
       "\n",
       "     Balanço de pagamentos - balança comercial - saldo - US$ (milhões)  - Banco Central do Brasil, Balanço de Pagamentos (BPM6) (BCB / BP (BPM6)) - BPAG12_BC12 -   \n",
       "0                                          -398.728132                                                                                                              \n",
       "1                                         -1151.625706                                                                                                              \n",
       "2                                         -1019.483914                                                                                                              \n",
       "3                                          -565.690024                                                                                                              \n",
       "4                                          -781.699265                                                                                                              \n",
       "..                                                 ...                                                                                                              \n",
       "336                                         894.689159                                                                                                              \n",
       "337                                        2262.890102                                                                                                              \n",
       "338                                        9340.252047                                                                                                              \n",
       "339                                        6942.439554                                                                                                              \n",
       "340                                        9718.732581                                                                                                              \n",
       "\n",
       "[341 rows x 2 columns]"
      ]
     },
     "execution_count": 61,
     "metadata": {},
     "output_type": "execute_result"
    }
   ],
   "source": [
    "balanca"
   ]
  },
  {
   "cell_type": "code",
   "execution_count": 62,
   "id": "a40e9439",
   "metadata": {},
   "outputs": [
    {
     "data": {
      "text/html": [
       "<div>\n",
       "<style scoped>\n",
       "    .dataframe tbody tr th:only-of-type {\n",
       "        vertical-align: middle;\n",
       "    }\n",
       "\n",
       "    .dataframe tbody tr th {\n",
       "        vertical-align: top;\n",
       "    }\n",
       "\n",
       "    .dataframe thead th {\n",
       "        text-align: right;\n",
       "    }\n",
       "</style>\n",
       "<table border=\"1\" class=\"dataframe\">\n",
       "  <thead>\n",
       "    <tr style=\"text-align: right;\">\n",
       "      <th></th>\n",
       "      <th>Data</th>\n",
       "      <th>Balanço de pagamentos - balança comercial - saldo - US$ (milhões)  - Banco Central do Brasil, Balanço de Pagamentos (BPM6) (BCB / BP (BPM6)) - BPAG12_BC12 -</th>\n",
       "    </tr>\n",
       "  </thead>\n",
       "  <tbody>\n",
       "    <tr>\n",
       "      <th>0</th>\n",
       "      <td>1995-01-01</td>\n",
       "      <td>-398.728132</td>\n",
       "    </tr>\n",
       "    <tr>\n",
       "      <th>1</th>\n",
       "      <td>1995-02-01</td>\n",
       "      <td>-1151.625706</td>\n",
       "    </tr>\n",
       "    <tr>\n",
       "      <th>2</th>\n",
       "      <td>1995-03-01</td>\n",
       "      <td>-1019.483914</td>\n",
       "    </tr>\n",
       "    <tr>\n",
       "      <th>3</th>\n",
       "      <td>1995-04-01</td>\n",
       "      <td>-565.690024</td>\n",
       "    </tr>\n",
       "    <tr>\n",
       "      <th>4</th>\n",
       "      <td>1995-05-01</td>\n",
       "      <td>-781.699265</td>\n",
       "    </tr>\n",
       "    <tr>\n",
       "      <th>...</th>\n",
       "      <td>...</td>\n",
       "      <td>...</td>\n",
       "    </tr>\n",
       "    <tr>\n",
       "      <th>336</th>\n",
       "      <td>2023-01-01</td>\n",
       "      <td>894.689159</td>\n",
       "    </tr>\n",
       "    <tr>\n",
       "      <th>337</th>\n",
       "      <td>2023-02-01</td>\n",
       "      <td>2262.890102</td>\n",
       "    </tr>\n",
       "    <tr>\n",
       "      <th>338</th>\n",
       "      <td>2023-03-01</td>\n",
       "      <td>9340.252047</td>\n",
       "    </tr>\n",
       "    <tr>\n",
       "      <th>339</th>\n",
       "      <td>2023-04-01</td>\n",
       "      <td>6942.439554</td>\n",
       "    </tr>\n",
       "    <tr>\n",
       "      <th>340</th>\n",
       "      <td>2023-05-01</td>\n",
       "      <td>9718.732581</td>\n",
       "    </tr>\n",
       "  </tbody>\n",
       "</table>\n",
       "<p>341 rows × 2 columns</p>\n",
       "</div>"
      ],
      "text/plain": [
       "          Data  \\\n",
       "0   1995-01-01   \n",
       "1   1995-02-01   \n",
       "2   1995-03-01   \n",
       "3   1995-04-01   \n",
       "4   1995-05-01   \n",
       "..         ...   \n",
       "336 2023-01-01   \n",
       "337 2023-02-01   \n",
       "338 2023-03-01   \n",
       "339 2023-04-01   \n",
       "340 2023-05-01   \n",
       "\n",
       "     Balanço de pagamentos - balança comercial - saldo - US$ (milhões)  - Banco Central do Brasil, Balanço de Pagamentos (BPM6) (BCB / BP (BPM6)) - BPAG12_BC12 -   \n",
       "0                                          -398.728132                                                                                                              \n",
       "1                                         -1151.625706                                                                                                              \n",
       "2                                         -1019.483914                                                                                                              \n",
       "3                                          -565.690024                                                                                                              \n",
       "4                                          -781.699265                                                                                                              \n",
       "..                                                 ...                                                                                                              \n",
       "336                                         894.689159                                                                                                              \n",
       "337                                        2262.890102                                                                                                              \n",
       "338                                        9340.252047                                                                                                              \n",
       "339                                        6942.439554                                                                                                              \n",
       "340                                        9718.732581                                                                                                              \n",
       "\n",
       "[341 rows x 2 columns]"
      ]
     },
     "execution_count": 62,
     "metadata": {},
     "output_type": "execute_result"
    }
   ],
   "source": [
    "balanca_novo = balanca.rename(columns = {'Balanço de pagamentos - balança comercial - saldo - US$ (milhões) - Banco Central do Brasil, Balanço de Pagamentos (BPM6) (BCB / BP (BPM6)) - BPAG12_BC12 -':'Saldo Balanca'})\n",
    "balanca_novo"
   ]
  },
  {
   "cell_type": "code",
   "execution_count": 63,
   "id": "b4607455",
   "metadata": {},
   "outputs": [],
   "source": [
    "balanca_novo = balanca_novo.set_axis(['Data', 'Saldo Balanca'], axis='columns')"
   ]
  },
  {
   "cell_type": "code",
   "execution_count": 64,
   "id": "46f4256b",
   "metadata": {},
   "outputs": [
    {
     "data": {
      "text/html": [
       "<div>\n",
       "<style scoped>\n",
       "    .dataframe tbody tr th:only-of-type {\n",
       "        vertical-align: middle;\n",
       "    }\n",
       "\n",
       "    .dataframe tbody tr th {\n",
       "        vertical-align: top;\n",
       "    }\n",
       "\n",
       "    .dataframe thead th {\n",
       "        text-align: right;\n",
       "    }\n",
       "</style>\n",
       "<table border=\"1\" class=\"dataframe\">\n",
       "  <thead>\n",
       "    <tr style=\"text-align: right;\">\n",
       "      <th></th>\n",
       "      <th>Data</th>\n",
       "      <th>Saldo Balanca</th>\n",
       "    </tr>\n",
       "  </thead>\n",
       "  <tbody>\n",
       "    <tr>\n",
       "      <th>0</th>\n",
       "      <td>1995-01-01</td>\n",
       "      <td>-398.728132</td>\n",
       "    </tr>\n",
       "    <tr>\n",
       "      <th>1</th>\n",
       "      <td>1995-02-01</td>\n",
       "      <td>-1151.625706</td>\n",
       "    </tr>\n",
       "    <tr>\n",
       "      <th>2</th>\n",
       "      <td>1995-03-01</td>\n",
       "      <td>-1019.483914</td>\n",
       "    </tr>\n",
       "    <tr>\n",
       "      <th>3</th>\n",
       "      <td>1995-04-01</td>\n",
       "      <td>-565.690024</td>\n",
       "    </tr>\n",
       "    <tr>\n",
       "      <th>4</th>\n",
       "      <td>1995-05-01</td>\n",
       "      <td>-781.699265</td>\n",
       "    </tr>\n",
       "    <tr>\n",
       "      <th>...</th>\n",
       "      <td>...</td>\n",
       "      <td>...</td>\n",
       "    </tr>\n",
       "    <tr>\n",
       "      <th>336</th>\n",
       "      <td>2023-01-01</td>\n",
       "      <td>894.689159</td>\n",
       "    </tr>\n",
       "    <tr>\n",
       "      <th>337</th>\n",
       "      <td>2023-02-01</td>\n",
       "      <td>2262.890102</td>\n",
       "    </tr>\n",
       "    <tr>\n",
       "      <th>338</th>\n",
       "      <td>2023-03-01</td>\n",
       "      <td>9340.252047</td>\n",
       "    </tr>\n",
       "    <tr>\n",
       "      <th>339</th>\n",
       "      <td>2023-04-01</td>\n",
       "      <td>6942.439554</td>\n",
       "    </tr>\n",
       "    <tr>\n",
       "      <th>340</th>\n",
       "      <td>2023-05-01</td>\n",
       "      <td>9718.732581</td>\n",
       "    </tr>\n",
       "  </tbody>\n",
       "</table>\n",
       "<p>341 rows × 2 columns</p>\n",
       "</div>"
      ],
      "text/plain": [
       "          Data  Saldo Balanca\n",
       "0   1995-01-01    -398.728132\n",
       "1   1995-02-01   -1151.625706\n",
       "2   1995-03-01   -1019.483914\n",
       "3   1995-04-01    -565.690024\n",
       "4   1995-05-01    -781.699265\n",
       "..         ...            ...\n",
       "336 2023-01-01     894.689159\n",
       "337 2023-02-01    2262.890102\n",
       "338 2023-03-01    9340.252047\n",
       "339 2023-04-01    6942.439554\n",
       "340 2023-05-01    9718.732581\n",
       "\n",
       "[341 rows x 2 columns]"
      ]
     },
     "execution_count": 64,
     "metadata": {},
     "output_type": "execute_result"
    }
   ],
   "source": [
    "balanca_novo"
   ]
  },
  {
   "cell_type": "code",
   "execution_count": 65,
   "id": "45551f61",
   "metadata": {},
   "outputs": [
    {
     "data": {
      "text/plain": [
       "Data             datetime64[ns]\n",
       "Saldo Balanca           float64\n",
       "dtype: object"
      ]
     },
     "execution_count": 65,
     "metadata": {},
     "output_type": "execute_result"
    }
   ],
   "source": [
    "balanca_novo.dtypes"
   ]
  },
  {
   "cell_type": "code",
   "execution_count": 66,
   "id": "fa27371a",
   "metadata": {},
   "outputs": [
    {
     "data": {
      "text/html": [
       "<div>\n",
       "<style scoped>\n",
       "    .dataframe tbody tr th:only-of-type {\n",
       "        vertical-align: middle;\n",
       "    }\n",
       "\n",
       "    .dataframe tbody tr th {\n",
       "        vertical-align: top;\n",
       "    }\n",
       "\n",
       "    .dataframe thead th {\n",
       "        text-align: right;\n",
       "    }\n",
       "</style>\n",
       "<table border=\"1\" class=\"dataframe\">\n",
       "  <thead>\n",
       "    <tr style=\"text-align: right;\">\n",
       "      <th></th>\n",
       "      <th>Data</th>\n",
       "      <th>Saldo Balanca</th>\n",
       "    </tr>\n",
       "  </thead>\n",
       "  <tbody>\n",
       "    <tr>\n",
       "      <th>0</th>\n",
       "      <td>1995-01</td>\n",
       "      <td>-398.728132</td>\n",
       "    </tr>\n",
       "    <tr>\n",
       "      <th>1</th>\n",
       "      <td>1995-02</td>\n",
       "      <td>-1151.625706</td>\n",
       "    </tr>\n",
       "    <tr>\n",
       "      <th>2</th>\n",
       "      <td>1995-03</td>\n",
       "      <td>-1019.483914</td>\n",
       "    </tr>\n",
       "    <tr>\n",
       "      <th>3</th>\n",
       "      <td>1995-04</td>\n",
       "      <td>-565.690024</td>\n",
       "    </tr>\n",
       "    <tr>\n",
       "      <th>4</th>\n",
       "      <td>1995-05</td>\n",
       "      <td>-781.699265</td>\n",
       "    </tr>\n",
       "    <tr>\n",
       "      <th>...</th>\n",
       "      <td>...</td>\n",
       "      <td>...</td>\n",
       "    </tr>\n",
       "    <tr>\n",
       "      <th>336</th>\n",
       "      <td>2023-01</td>\n",
       "      <td>894.689159</td>\n",
       "    </tr>\n",
       "    <tr>\n",
       "      <th>337</th>\n",
       "      <td>2023-02</td>\n",
       "      <td>2262.890102</td>\n",
       "    </tr>\n",
       "    <tr>\n",
       "      <th>338</th>\n",
       "      <td>2023-03</td>\n",
       "      <td>9340.252047</td>\n",
       "    </tr>\n",
       "    <tr>\n",
       "      <th>339</th>\n",
       "      <td>2023-04</td>\n",
       "      <td>6942.439554</td>\n",
       "    </tr>\n",
       "    <tr>\n",
       "      <th>340</th>\n",
       "      <td>2023-05</td>\n",
       "      <td>9718.732581</td>\n",
       "    </tr>\n",
       "  </tbody>\n",
       "</table>\n",
       "<p>341 rows × 2 columns</p>\n",
       "</div>"
      ],
      "text/plain": [
       "        Data  Saldo Balanca\n",
       "0    1995-01    -398.728132\n",
       "1    1995-02   -1151.625706\n",
       "2    1995-03   -1019.483914\n",
       "3    1995-04    -565.690024\n",
       "4    1995-05    -781.699265\n",
       "..       ...            ...\n",
       "336  2023-01     894.689159\n",
       "337  2023-02    2262.890102\n",
       "338  2023-03    9340.252047\n",
       "339  2023-04    6942.439554\n",
       "340  2023-05    9718.732581\n",
       "\n",
       "[341 rows x 2 columns]"
      ]
     },
     "execution_count": 66,
     "metadata": {},
     "output_type": "execute_result"
    }
   ],
   "source": [
    "balanca_novo['Data'] = pd.to_datetime(balanca_novo['Data'], format='%Y.%m').dt.strftime('%Y-%m')\n",
    "balanca_novo"
   ]
  },
  {
   "cell_type": "code",
   "execution_count": 191,
   "id": "dcb02637",
   "metadata": {},
   "outputs": [
    {
     "data": {
      "text/plain": [
       "Saldo Balanca    float64\n",
       "dtype: object"
      ]
     },
     "execution_count": 191,
     "metadata": {},
     "output_type": "execute_result"
    }
   ],
   "source": [
    "balanca_novo.dtypes"
   ]
  },
  {
   "cell_type": "code",
   "execution_count": 67,
   "id": "c7ba0caf",
   "metadata": {},
   "outputs": [],
   "source": [
    "balanca_novo = balanca_novo.set_index('Data')"
   ]
  },
  {
   "cell_type": "code",
   "execution_count": 72,
   "id": "035dac45",
   "metadata": {},
   "outputs": [
    {
     "data": {
      "image/png": "[encoded data removed]",
      "text/plain": [
       "<Figure size 2160x720 with 1 Axes>"
      ]
     },
     "metadata": {
      "needs_background": "light"
     },
     "output_type": "display_data"
    }
   ],
   "source": [
    "fig, axs = plt.subplots(figsize=(30,10))\n",
    "balanca_novo['Saldo Balanca'].plot(ax=axs)\n",
    "axs.set_xlabel('Data')\n",
    "plt.show()"
   ]
  },
  {
   "attachments": {},
   "cell_type": "markdown",
   "id": "e6bbc415",
   "metadata": {},
   "source": [
    "## Implementando teste ADF ##"
   ]
  },
  {
   "cell_type": "code",
   "execution_count": 68,
   "id": "f5652e01",
   "metadata": {},
   "outputs": [],
   "source": [
    "from statsmodels.tsa.stattools import adfuller\n",
    "\n",
    "\n",
    "def adf_test(timeseries):\n",
    "    print(\"Results of Dickey-Fuller Test:\")\n",
    "    dftest = adfuller(timeseries, autolag=\"AIC\")\n",
    "    dfoutput = pd.Series(\n",
    "        dftest[0:4],\n",
    "        index=[\n",
    "            \"Test Statistic\",\n",
    "            \"p-value\",\n",
    "            \"#Lags Used\",\n",
    "            \"Number of Observations Used\",\n",
    "        ],\n",
    "    )\n",
    "    for key, value in dftest[4].items():\n",
    "        dfoutput[\"Critical Value (%s)\" % key] = value\n",
    "    print(dfoutput)"
   ]
  },
  {
   "attachments": {},
   "cell_type": "markdown",
   "id": "b5d33a5f",
   "metadata": {},
   "source": [
    "## Implementando teste KPSS ##"
   ]
  },
  {
   "cell_type": "code",
   "execution_count": 69,
   "id": "7c92d8f3",
   "metadata": {},
   "outputs": [],
   "source": [
    "from statsmodels.tsa.stattools import kpss\n",
    "\n",
    "\n",
    "def kpss_test(timeseries):\n",
    "    print(\"Results of KPSS Test:\")\n",
    "    kpsstest = kpss(timeseries, regression=\"c\", nlags=\"auto\")\n",
    "    kpss_output = pd.Series(\n",
    "        kpsstest[0:3], index=[\"Test Statistic\", \"p-value\", \"Lags Used\"]\n",
    "    )\n",
    "    for key, value in kpsstest[3].items():\n",
    "        kpss_output[\"Critical Value (%s)\" % key] = value\n",
    "    print(kpss_output)"
   ]
  },
  {
   "attachments": {},
   "cell_type": "markdown",
   "id": "401cd5c8",
   "metadata": {},
   "source": [
    "## Testando a série de balança comercial ##"
   ]
  },
  {
   "cell_type": "code",
   "execution_count": 71,
   "id": "b92060cb",
   "metadata": {},
   "outputs": [
    {
     "name": "stdout",
     "output_type": "stream",
     "text": [
      "Results of Dickey-Fuller Test:\n",
      "Test Statistic                  -1.398814\n",
      "p-value                          0.582845\n",
      "#Lags Used                      14.000000\n",
      "Number of Observations Used    326.000000\n",
      "Critical Value (1%)             -3.450569\n",
      "Critical Value (5%)             -2.870447\n",
      "Critical Value (10%)            -2.571515\n",
      "dtype: float64\n"
     ]
    }
   ],
   "source": [
    "adf_test(balanca_novo[\"Saldo Balanca\"])"
   ]
  },
  {
   "attachments": {},
   "cell_type": "markdown",
   "id": "67bb4d97",
   "metadata": {},
   "source": [
    "### Para o teste ADF, a hipótese nula é de uma raíz unitária, logo, para o valor da estatística do teste de -1.39, falhamos em rejeitar a hipótese nula, dado que estamos fora da região crítica. Assim, podemos concluir que a séria tem uma raíz unitária, a partir desse teste. ###"
   ]
  },
  {
   "cell_type": "code",
   "execution_count": 73,
   "id": "1b2ce5d9",
   "metadata": {},
   "outputs": [
    {
     "name": "stdout",
     "output_type": "stream",
     "text": [
      "Results of KPSS Test:\n",
      "Test Statistic            1.409952\n",
      "p-value                   0.010000\n",
      "Lags Used                10.000000\n",
      "Critical Value (10%)      0.347000\n",
      "Critical Value (5%)       0.463000\n",
      "Critical Value (2.5%)     0.574000\n",
      "Critical Value (1%)       0.739000\n",
      "dtype: float64\n"
     ]
    },
    {
     "name": "stderr",
     "output_type": "stream",
     "text": [
      "c:\\Users\\luizv\\anaconda3\\lib\\site-packages\\statsmodels\\tsa\\stattools.py:1906: InterpolationWarning: The test statistic is outside of the range of p-values available in the\n",
      "look-up table. The actual p-value is smaller than the p-value returned.\n",
      "\n",
      "  warnings.warn(\n"
     ]
    }
   ],
   "source": [
    "kpss_test(balanca_novo['Saldo Balanca'])"
   ]
  },
  {
   "attachments": {},
   "cell_type": "markdown",
   "id": "be6c0388",
   "metadata": {},
   "source": [
    "### Para o teste KPSS, a hipótese nula é de que a série não tem uma raíz unitária. Neste caso, a estatística do teste de 1.41 nós rejeitamos a hipótese nula, concluindo que a série tem uma raiz unitária. Logo, é não estacionária. ###\n"
   ]
  },
  {
   "cell_type": "code",
   "execution_count": 519,
   "id": "97cc5f1a",
   "metadata": {},
   "outputs": [
    {
     "data": {
      "image/png": "[encoded data removed]",
      "text/plain": [
       "<Figure size 432x288 with 1 Axes>"
      ]
     },
     "metadata": {
      "needs_background": "light"
     },
     "output_type": "display_data"
    },
    {
     "data": {
      "image/png": "[encoded data removed]",
      "text/plain": [
       "<Figure size 432x288 with 1 Axes>"
      ]
     },
     "metadata": {
      "needs_background": "light"
     },
     "output_type": "display_data"
    }
   ],
   "source": [
    "pacf_balanca = plot_pacf(balanca['Saldo Balanca'])\n",
    "acf_balanca = plot_acf(balanca['Saldo Balanca'])"
   ]
  },
  {
   "attachments": {},
   "cell_type": "markdown",
   "id": "359eeb44",
   "metadata": {},
   "source": [
    "## Aqui, a partir da função de autocorrelação, é possível observar um possível comportamento sazonal da série, sendo assim, irei fazer o processo de retirar a sazonalidade da série e refazer os testes ##"
   ]
  },
  {
   "cell_type": "code",
   "execution_count": 76,
   "id": "c2bdcdf0",
   "metadata": {},
   "outputs": [],
   "source": [
    "result=seasonal_decompose(balanca_novo['Saldo Balanca'], model='additive', period=12)"
   ]
  },
  {
   "cell_type": "code",
   "execution_count": 79,
   "id": "b6663320",
   "metadata": {},
   "outputs": [
    {
     "data": {
      "image/png": "[encoded data removed]",
      "text/plain": [
       "<Figure size 432x288 with 4 Axes>"
      ]
     },
     "execution_count": 79,
     "metadata": {},
     "output_type": "execute_result"
    },
    {
     "data": {
      "image/png": "[encoded data removed]",
      "text/plain": [
       "<Figure size 432x288 with 4 Axes>"
      ]
     },
     "metadata": {
      "needs_background": "light"
     },
     "output_type": "display_data"
    }
   ],
   "source": [
    "result.plot()"
   ]
  },
  {
   "cell_type": "code",
   "execution_count": 93,
   "id": "922dfaab",
   "metadata": {},
   "outputs": [
    {
     "data": {
      "text/plain": [
       "Data\n",
       "1995-01   -1958.478799\n",
       "1995-02    -900.706367\n",
       "1995-03    -121.393697\n",
       "1995-04     519.177787\n",
       "1995-05     859.050790\n",
       "              ...     \n",
       "2023-01   -1958.478799\n",
       "2023-02    -900.706367\n",
       "2023-03    -121.393697\n",
       "2023-04     519.177787\n",
       "2023-05     859.050790\n",
       "Name: seasonal, Length: 341, dtype: float64"
      ]
     },
     "execution_count": 93,
     "metadata": {},
     "output_type": "execute_result"
    }
   ],
   "source": [
    "sazonalidade = result.seasonal\n",
    "sazonalidade"
   ]
  },
  {
   "attachments": {},
   "cell_type": "markdown",
   "id": "db9cf4fb",
   "metadata": {},
   "source": [
    "## Removendo a Sazonalidade ##"
   ]
  },
  {
   "cell_type": "code",
   "execution_count": 98,
   "id": "d580df18",
   "metadata": {},
   "outputs": [
    {
     "data": {
      "text/plain": [
       "Data\n",
       "1995-01    1559.750667\n",
       "1995-02    -250.919339\n",
       "1995-03    -898.090217\n",
       "1995-04   -1084.867811\n",
       "1995-05   -1640.750055\n",
       "              ...     \n",
       "2023-01    2853.167958\n",
       "2023-02    3163.596469\n",
       "2023-03    9461.645744\n",
       "2023-04    6423.261767\n",
       "2023-05    8859.681790\n",
       "Length: 341, dtype: float64"
      ]
     },
     "execution_count": 98,
     "metadata": {},
     "output_type": "execute_result"
    }
   ],
   "source": [
    "balanca_novo_dess = balanca_novo['Saldo Balanca'] - sazonalidade\n",
    "balanca_novo_dess \n"
   ]
  },
  {
   "cell_type": "code",
   "execution_count": 121,
   "id": "56f4b5df",
   "metadata": {},
   "outputs": [],
   "source": [
    "df_balanca_dess = balanca_novo_dess.to_frame()"
   ]
  },
  {
   "cell_type": "code",
   "execution_count": 132,
   "id": "0f95fec4",
   "metadata": {},
   "outputs": [],
   "source": [
    "df_balanca_dess = df_balanca_dess.set_axis(['Saldo'], axis='columns')"
   ]
  },
  {
   "cell_type": "code",
   "execution_count": 133,
   "id": "119a02b4",
   "metadata": {},
   "outputs": [
    {
     "data": {
      "text/html": [
       "<div>\n",
       "<style scoped>\n",
       "    .dataframe tbody tr th:only-of-type {\n",
       "        vertical-align: middle;\n",
       "    }\n",
       "\n",
       "    .dataframe tbody tr th {\n",
       "        vertical-align: top;\n",
       "    }\n",
       "\n",
       "    .dataframe thead th {\n",
       "        text-align: right;\n",
       "    }\n",
       "</style>\n",
       "<table border=\"1\" class=\"dataframe\">\n",
       "  <thead>\n",
       "    <tr style=\"text-align: right;\">\n",
       "      <th></th>\n",
       "      <th>Saldo</th>\n",
       "    </tr>\n",
       "    <tr>\n",
       "      <th>Data</th>\n",
       "      <th></th>\n",
       "    </tr>\n",
       "  </thead>\n",
       "  <tbody>\n",
       "    <tr>\n",
       "      <th>1995-01</th>\n",
       "      <td>1559.750667</td>\n",
       "    </tr>\n",
       "    <tr>\n",
       "      <th>1995-02</th>\n",
       "      <td>-250.919339</td>\n",
       "    </tr>\n",
       "    <tr>\n",
       "      <th>1995-03</th>\n",
       "      <td>-898.090217</td>\n",
       "    </tr>\n",
       "    <tr>\n",
       "      <th>1995-04</th>\n",
       "      <td>-1084.867811</td>\n",
       "    </tr>\n",
       "    <tr>\n",
       "      <th>1995-05</th>\n",
       "      <td>-1640.750055</td>\n",
       "    </tr>\n",
       "    <tr>\n",
       "      <th>...</th>\n",
       "      <td>...</td>\n",
       "    </tr>\n",
       "    <tr>\n",
       "      <th>2023-01</th>\n",
       "      <td>2853.167958</td>\n",
       "    </tr>\n",
       "    <tr>\n",
       "      <th>2023-02</th>\n",
       "      <td>3163.596469</td>\n",
       "    </tr>\n",
       "    <tr>\n",
       "      <th>2023-03</th>\n",
       "      <td>9461.645744</td>\n",
       "    </tr>\n",
       "    <tr>\n",
       "      <th>2023-04</th>\n",
       "      <td>6423.261767</td>\n",
       "    </tr>\n",
       "    <tr>\n",
       "      <th>2023-05</th>\n",
       "      <td>8859.681790</td>\n",
       "    </tr>\n",
       "  </tbody>\n",
       "</table>\n",
       "<p>341 rows × 1 columns</p>\n",
       "</div>"
      ],
      "text/plain": [
       "               Saldo\n",
       "Data                \n",
       "1995-01  1559.750667\n",
       "1995-02  -250.919339\n",
       "1995-03  -898.090217\n",
       "1995-04 -1084.867811\n",
       "1995-05 -1640.750055\n",
       "...              ...\n",
       "2023-01  2853.167958\n",
       "2023-02  3163.596469\n",
       "2023-03  9461.645744\n",
       "2023-04  6423.261767\n",
       "2023-05  8859.681790\n",
       "\n",
       "[341 rows x 1 columns]"
      ]
     },
     "execution_count": 133,
     "metadata": {},
     "output_type": "execute_result"
    }
   ],
   "source": [
    "df_balanca_dess"
   ]
  },
  {
   "attachments": {},
   "cell_type": "markdown",
   "id": "2aed94bd",
   "metadata": {},
   "source": [
    "## Testando a série da balança comercial dessazonalidada ##"
   ]
  },
  {
   "cell_type": "code",
   "execution_count": 134,
   "id": "ec54ee6c",
   "metadata": {},
   "outputs": [
    {
     "data": {
      "image/png": "[encoded data removed]",
      "text/plain": [
       "<Figure size 2160x720 with 1 Axes>"
      ]
     },
     "metadata": {
      "needs_background": "light"
     },
     "output_type": "display_data"
    }
   ],
   "source": [
    "fig, axs = plt.subplots(figsize=(30,10))\n",
    "df_balanca_dess['Saldo'].plot(ax=axs)\n",
    "axs.set_xlabel('Data')\n",
    "plt.show()"
   ]
  },
  {
   "attachments": {},
   "cell_type": "markdown",
   "id": "91b1f6f5",
   "metadata": {},
   "source": [
    "## Funções de autocorrelação ##"
   ]
  },
  {
   "cell_type": "code",
   "execution_count": 135,
   "id": "c4d1db08",
   "metadata": {},
   "outputs": [
    {
     "data": {
      "image/png": "[encoded data removed]",
      "text/plain": [
       "<Figure size 432x288 with 1 Axes>"
      ]
     },
     "metadata": {
      "needs_background": "light"
     },
     "output_type": "display_data"
    },
    {
     "data": {
      "image/png": "[encoded data removed]",
      "text/plain": [
       "<Figure size 432x288 with 1 Axes>"
      ]
     },
     "metadata": {
      "needs_background": "light"
     },
     "output_type": "display_data"
    }
   ],
   "source": [
    "pacf_balanca_dess = plot_pacf(df_balanca_dess['Saldo'])\n",
    "acf_balanca_dess = plot_acf(df_balanca_dess['Saldo'])"
   ]
  },
  {
   "cell_type": "code",
   "execution_count": 136,
   "id": "6e541d6f",
   "metadata": {},
   "outputs": [
    {
     "name": "stdout",
     "output_type": "stream",
     "text": [
      "Results of Dickey-Fuller Test:\n",
      "Test Statistic                  -1.425205\n",
      "p-value                          0.570135\n",
      "#Lags Used                      14.000000\n",
      "Number of Observations Used    326.000000\n",
      "Critical Value (1%)             -3.450569\n",
      "Critical Value (5%)             -2.870447\n",
      "Critical Value (10%)            -2.571515\n",
      "dtype: float64\n",
      "Results of KPSS Test:\n",
      "Test Statistic            1.403586\n",
      "p-value                   0.010000\n",
      "Lags Used                10.000000\n",
      "Critical Value (10%)      0.347000\n",
      "Critical Value (5%)       0.463000\n",
      "Critical Value (2.5%)     0.574000\n",
      "Critical Value (1%)       0.739000\n",
      "dtype: float64\n"
     ]
    },
    {
     "name": "stderr",
     "output_type": "stream",
     "text": [
      "c:\\Users\\luizv\\anaconda3\\lib\\site-packages\\statsmodels\\tsa\\stattools.py:1906: InterpolationWarning: The test statistic is outside of the range of p-values available in the\n",
      "look-up table. The actual p-value is smaller than the p-value returned.\n",
      "\n",
      "  warnings.warn(\n"
     ]
    }
   ],
   "source": [
    "adf_test(df_balanca_dess[\"Saldo\"])\n",
    "kpss_test(df_balanca_dess['Saldo'])"
   ]
  },
  {
   "attachments": {},
   "cell_type": "markdown",
   "id": "09fe2433",
   "metadata": {},
   "source": [
    "### A série sem a sasonalidade continua apontando a presença da raíz unitária, a partir dos testes ADF e KPSS ###"
   ]
  },
  {
   "attachments": {},
   "cell_type": "markdown",
   "id": "20866088",
   "metadata": {},
   "source": [
    "## 2. Cambio ##"
   ]
  },
  {
   "cell_type": "code",
   "execution_count": 137,
   "id": "c995f3bd",
   "metadata": {},
   "outputs": [
    {
     "data": {
      "text/html": [
       "<div>\n",
       "<style scoped>\n",
       "    .dataframe tbody tr th:only-of-type {\n",
       "        vertical-align: middle;\n",
       "    }\n",
       "\n",
       "    .dataframe tbody tr th {\n",
       "        vertical-align: top;\n",
       "    }\n",
       "\n",
       "    .dataframe thead th {\n",
       "        text-align: right;\n",
       "    }\n",
       "</style>\n",
       "<table border=\"1\" class=\"dataframe\">\n",
       "  <thead>\n",
       "    <tr style=\"text-align: right;\">\n",
       "      <th></th>\n",
       "      <th>Data</th>\n",
       "      <th>Taxa de câmbio - R$ / US$ - comercial - compra - fim período - R$ - Banco Central do Brasil, Boletim, Seção Balanço de Pagamentos (Bacen / Boletim / BP) - BM12_ERCF12</th>\n",
       "      <th>Unnamed: 2</th>\n",
       "    </tr>\n",
       "  </thead>\n",
       "  <tbody>\n",
       "    <tr>\n",
       "      <th>0</th>\n",
       "      <td>1953-01-01</td>\n",
       "      <td>6,68363636363636E-15</td>\n",
       "      <td>NaN</td>\n",
       "    </tr>\n",
       "    <tr>\n",
       "      <th>1</th>\n",
       "      <td>1953-02-01</td>\n",
       "      <td>1,49090909090909E-14</td>\n",
       "      <td>NaN</td>\n",
       "    </tr>\n",
       "    <tr>\n",
       "      <th>2</th>\n",
       "      <td>1953-03-01</td>\n",
       "      <td>1,49090909090909E-14</td>\n",
       "      <td>NaN</td>\n",
       "    </tr>\n",
       "    <tr>\n",
       "      <th>3</th>\n",
       "      <td>1953-04-01</td>\n",
       "      <td>1,41818181818182E-14</td>\n",
       "      <td>NaN</td>\n",
       "    </tr>\n",
       "    <tr>\n",
       "      <th>4</th>\n",
       "      <td>1953-05-01</td>\n",
       "      <td>1,56363636363636E-14</td>\n",
       "      <td>NaN</td>\n",
       "    </tr>\n",
       "    <tr>\n",
       "      <th>...</th>\n",
       "      <td>...</td>\n",
       "      <td>...</td>\n",
       "      <td>...</td>\n",
       "    </tr>\n",
       "    <tr>\n",
       "      <th>840</th>\n",
       "      <td>2023-01-01</td>\n",
       "      <td>5,0987</td>\n",
       "      <td>NaN</td>\n",
       "    </tr>\n",
       "    <tr>\n",
       "      <th>841</th>\n",
       "      <td>2023-02-01</td>\n",
       "      <td>5,2072</td>\n",
       "      <td>NaN</td>\n",
       "    </tr>\n",
       "    <tr>\n",
       "      <th>842</th>\n",
       "      <td>2023-03-01</td>\n",
       "      <td>5,0798</td>\n",
       "      <td>NaN</td>\n",
       "    </tr>\n",
       "    <tr>\n",
       "      <th>843</th>\n",
       "      <td>2023-04-01</td>\n",
       "      <td>5,0001</td>\n",
       "      <td>NaN</td>\n",
       "    </tr>\n",
       "    <tr>\n",
       "      <th>844</th>\n",
       "      <td>2023-05-01</td>\n",
       "      <td>5,0953</td>\n",
       "      <td>NaN</td>\n",
       "    </tr>\n",
       "  </tbody>\n",
       "</table>\n",
       "<p>845 rows × 3 columns</p>\n",
       "</div>"
      ],
      "text/plain": [
       "          Data  \\\n",
       "0   1953-01-01   \n",
       "1   1953-02-01   \n",
       "2   1953-03-01   \n",
       "3   1953-04-01   \n",
       "4   1953-05-01   \n",
       "..         ...   \n",
       "840 2023-01-01   \n",
       "841 2023-02-01   \n",
       "842 2023-03-01   \n",
       "843 2023-04-01   \n",
       "844 2023-05-01   \n",
       "\n",
       "    Taxa de câmbio - R$ / US$ - comercial - compra - fim período - R$ - Banco Central do Brasil, Boletim, Seção Balanço de Pagamentos (Bacen / Boletim / BP) - BM12_ERCF12  \\\n",
       "0                                 6,68363636363636E-15                                                                                                                       \n",
       "1                                 1,49090909090909E-14                                                                                                                       \n",
       "2                                 1,49090909090909E-14                                                                                                                       \n",
       "3                                 1,41818181818182E-14                                                                                                                       \n",
       "4                                 1,56363636363636E-14                                                                                                                       \n",
       "..                                                 ...                                                                                                                       \n",
       "840                                             5,0987                                                                                                                       \n",
       "841                                             5,2072                                                                                                                       \n",
       "842                                             5,0798                                                                                                                       \n",
       "843                                             5,0001                                                                                                                       \n",
       "844                                             5,0953                                                                                                                       \n",
       "\n",
       "     Unnamed: 2  \n",
       "0           NaN  \n",
       "1           NaN  \n",
       "2           NaN  \n",
       "3           NaN  \n",
       "4           NaN  \n",
       "..          ...  \n",
       "840         NaN  \n",
       "841         NaN  \n",
       "842         NaN  \n",
       "843         NaN  \n",
       "844         NaN  \n",
       "\n",
       "[845 rows x 3 columns]"
      ]
     },
     "execution_count": 137,
     "metadata": {},
     "output_type": "execute_result"
    }
   ],
   "source": [
    "cambio = pd.read_csv('cambio.csv', parse_dates=['Data'], sep = ';')\n",
    "cambio"
   ]
  },
  {
   "cell_type": "code",
   "execution_count": 138,
   "id": "5fcf7351",
   "metadata": {},
   "outputs": [
    {
     "data": {
      "text/html": [
       "<div>\n",
       "<style scoped>\n",
       "    .dataframe tbody tr th:only-of-type {\n",
       "        vertical-align: middle;\n",
       "    }\n",
       "\n",
       "    .dataframe tbody tr th {\n",
       "        vertical-align: top;\n",
       "    }\n",
       "\n",
       "    .dataframe thead th {\n",
       "        text-align: right;\n",
       "    }\n",
       "</style>\n",
       "<table border=\"1\" class=\"dataframe\">\n",
       "  <thead>\n",
       "    <tr style=\"text-align: right;\">\n",
       "      <th></th>\n",
       "      <th>Data</th>\n",
       "      <th>Taxa de câmbio - R$ / US$ - comercial - compra - fim período - R$ - Banco Central do Brasil, Boletim, Seção Balanço de Pagamentos (Bacen / Boletim / BP) - BM12_ERCF12</th>\n",
       "      <th>Unnamed: 2</th>\n",
       "    </tr>\n",
       "  </thead>\n",
       "  <tbody>\n",
       "    <tr>\n",
       "      <th>0</th>\n",
       "      <td>1953-01-01</td>\n",
       "      <td>6,68363636363636E-15</td>\n",
       "      <td>NaN</td>\n",
       "    </tr>\n",
       "    <tr>\n",
       "      <th>1</th>\n",
       "      <td>1953-02-01</td>\n",
       "      <td>1,49090909090909E-14</td>\n",
       "      <td>NaN</td>\n",
       "    </tr>\n",
       "    <tr>\n",
       "      <th>2</th>\n",
       "      <td>1953-03-01</td>\n",
       "      <td>1,49090909090909E-14</td>\n",
       "      <td>NaN</td>\n",
       "    </tr>\n",
       "    <tr>\n",
       "      <th>3</th>\n",
       "      <td>1953-04-01</td>\n",
       "      <td>1,41818181818182E-14</td>\n",
       "      <td>NaN</td>\n",
       "    </tr>\n",
       "    <tr>\n",
       "      <th>4</th>\n",
       "      <td>1953-05-01</td>\n",
       "      <td>1,56363636363636E-14</td>\n",
       "      <td>NaN</td>\n",
       "    </tr>\n",
       "    <tr>\n",
       "      <th>...</th>\n",
       "      <td>...</td>\n",
       "      <td>...</td>\n",
       "      <td>...</td>\n",
       "    </tr>\n",
       "    <tr>\n",
       "      <th>840</th>\n",
       "      <td>2023-01-01</td>\n",
       "      <td>5,0987</td>\n",
       "      <td>NaN</td>\n",
       "    </tr>\n",
       "    <tr>\n",
       "      <th>841</th>\n",
       "      <td>2023-02-01</td>\n",
       "      <td>5,2072</td>\n",
       "      <td>NaN</td>\n",
       "    </tr>\n",
       "    <tr>\n",
       "      <th>842</th>\n",
       "      <td>2023-03-01</td>\n",
       "      <td>5,0798</td>\n",
       "      <td>NaN</td>\n",
       "    </tr>\n",
       "    <tr>\n",
       "      <th>843</th>\n",
       "      <td>2023-04-01</td>\n",
       "      <td>5,0001</td>\n",
       "      <td>NaN</td>\n",
       "    </tr>\n",
       "    <tr>\n",
       "      <th>844</th>\n",
       "      <td>2023-05-01</td>\n",
       "      <td>5,0953</td>\n",
       "      <td>NaN</td>\n",
       "    </tr>\n",
       "  </tbody>\n",
       "</table>\n",
       "<p>845 rows × 3 columns</p>\n",
       "</div>"
      ],
      "text/plain": [
       "          Data  \\\n",
       "0   1953-01-01   \n",
       "1   1953-02-01   \n",
       "2   1953-03-01   \n",
       "3   1953-04-01   \n",
       "4   1953-05-01   \n",
       "..         ...   \n",
       "840 2023-01-01   \n",
       "841 2023-02-01   \n",
       "842 2023-03-01   \n",
       "843 2023-04-01   \n",
       "844 2023-05-01   \n",
       "\n",
       "    Taxa de câmbio - R$ / US$ - comercial - compra - fim período - R$ - Banco Central do Brasil, Boletim, Seção Balanço de Pagamentos (Bacen / Boletim / BP) - BM12_ERCF12  \\\n",
       "0                                 6,68363636363636E-15                                                                                                                       \n",
       "1                                 1,49090909090909E-14                                                                                                                       \n",
       "2                                 1,49090909090909E-14                                                                                                                       \n",
       "3                                 1,41818181818182E-14                                                                                                                       \n",
       "4                                 1,56363636363636E-14                                                                                                                       \n",
       "..                                                 ...                                                                                                                       \n",
       "840                                             5,0987                                                                                                                       \n",
       "841                                             5,2072                                                                                                                       \n",
       "842                                             5,0798                                                                                                                       \n",
       "843                                             5,0001                                                                                                                       \n",
       "844                                             5,0953                                                                                                                       \n",
       "\n",
       "     Unnamed: 2  \n",
       "0           NaN  \n",
       "1           NaN  \n",
       "2           NaN  \n",
       "3           NaN  \n",
       "4           NaN  \n",
       "..          ...  \n",
       "840         NaN  \n",
       "841         NaN  \n",
       "842         NaN  \n",
       "843         NaN  \n",
       "844         NaN  \n",
       "\n",
       "[845 rows x 3 columns]"
      ]
     },
     "execution_count": 138,
     "metadata": {},
     "output_type": "execute_result"
    }
   ],
   "source": [
    "cambio"
   ]
  },
  {
   "cell_type": "code",
   "execution_count": 139,
   "id": "e327d934",
   "metadata": {},
   "outputs": [],
   "source": [
    "cambio = cambio.drop(\"Unnamed: 2\", axis = 1)"
   ]
  },
  {
   "cell_type": "code",
   "execution_count": 140,
   "id": "68bbd8df",
   "metadata": {},
   "outputs": [],
   "source": [
    "cambio = cambio.rename(columns={cambio.columns[1]: 'Cambio'})"
   ]
  },
  {
   "cell_type": "code",
   "execution_count": 141,
   "id": "b6e7c64e",
   "metadata": {},
   "outputs": [
    {
     "data": {
      "text/html": [
       "<div>\n",
       "<style scoped>\n",
       "    .dataframe tbody tr th:only-of-type {\n",
       "        vertical-align: middle;\n",
       "    }\n",
       "\n",
       "    .dataframe tbody tr th {\n",
       "        vertical-align: top;\n",
       "    }\n",
       "\n",
       "    .dataframe thead th {\n",
       "        text-align: right;\n",
       "    }\n",
       "</style>\n",
       "<table border=\"1\" class=\"dataframe\">\n",
       "  <thead>\n",
       "    <tr style=\"text-align: right;\">\n",
       "      <th></th>\n",
       "      <th>Data</th>\n",
       "      <th>Cambio</th>\n",
       "    </tr>\n",
       "  </thead>\n",
       "  <tbody>\n",
       "    <tr>\n",
       "      <th>0</th>\n",
       "      <td>1953-01-01</td>\n",
       "      <td>6,68363636363636E-15</td>\n",
       "    </tr>\n",
       "    <tr>\n",
       "      <th>1</th>\n",
       "      <td>1953-02-01</td>\n",
       "      <td>1,49090909090909E-14</td>\n",
       "    </tr>\n",
       "    <tr>\n",
       "      <th>2</th>\n",
       "      <td>1953-03-01</td>\n",
       "      <td>1,49090909090909E-14</td>\n",
       "    </tr>\n",
       "    <tr>\n",
       "      <th>3</th>\n",
       "      <td>1953-04-01</td>\n",
       "      <td>1,41818181818182E-14</td>\n",
       "    </tr>\n",
       "    <tr>\n",
       "      <th>4</th>\n",
       "      <td>1953-05-01</td>\n",
       "      <td>1,56363636363636E-14</td>\n",
       "    </tr>\n",
       "    <tr>\n",
       "      <th>...</th>\n",
       "      <td>...</td>\n",
       "      <td>...</td>\n",
       "    </tr>\n",
       "    <tr>\n",
       "      <th>840</th>\n",
       "      <td>2023-01-01</td>\n",
       "      <td>5,0987</td>\n",
       "    </tr>\n",
       "    <tr>\n",
       "      <th>841</th>\n",
       "      <td>2023-02-01</td>\n",
       "      <td>5,2072</td>\n",
       "    </tr>\n",
       "    <tr>\n",
       "      <th>842</th>\n",
       "      <td>2023-03-01</td>\n",
       "      <td>5,0798</td>\n",
       "    </tr>\n",
       "    <tr>\n",
       "      <th>843</th>\n",
       "      <td>2023-04-01</td>\n",
       "      <td>5,0001</td>\n",
       "    </tr>\n",
       "    <tr>\n",
       "      <th>844</th>\n",
       "      <td>2023-05-01</td>\n",
       "      <td>5,0953</td>\n",
       "    </tr>\n",
       "  </tbody>\n",
       "</table>\n",
       "<p>845 rows × 2 columns</p>\n",
       "</div>"
      ],
      "text/plain": [
       "          Data                Cambio\n",
       "0   1953-01-01  6,68363636363636E-15\n",
       "1   1953-02-01  1,49090909090909E-14\n",
       "2   1953-03-01  1,49090909090909E-14\n",
       "3   1953-04-01  1,41818181818182E-14\n",
       "4   1953-05-01  1,56363636363636E-14\n",
       "..         ...                   ...\n",
       "840 2023-01-01                5,0987\n",
       "841 2023-02-01                5,2072\n",
       "842 2023-03-01                5,0798\n",
       "843 2023-04-01                5,0001\n",
       "844 2023-05-01                5,0953\n",
       "\n",
       "[845 rows x 2 columns]"
      ]
     },
     "execution_count": 141,
     "metadata": {},
     "output_type": "execute_result"
    }
   ],
   "source": [
    "cambio"
   ]
  },
  {
   "cell_type": "code",
   "execution_count": 142,
   "id": "4ae6ace6",
   "metadata": {},
   "outputs": [
    {
     "data": {
      "text/plain": [
       "count       845\n",
       "unique      703\n",
       "top       8E-13\n",
       "freq         15\n",
       "Name: Cambio, dtype: object"
      ]
     },
     "execution_count": 142,
     "metadata": {},
     "output_type": "execute_result"
    }
   ],
   "source": [
    "cambio['Cambio'].describe()"
   ]
  },
  {
   "cell_type": "code",
   "execution_count": 145,
   "id": "5c3e0f4f",
   "metadata": {},
   "outputs": [],
   "source": [
    "import datetime\n",
    "data_inicio = datetime.datetime(2000, 1, 1)\n",
    "data_final = datetime.datetime(2022, 1, 1)\n",
    "\n",
    "cambio_filtrado = cambio[(data_inicio <= cambio[\"Data\"]) &  (data_final > cambio[\"Data\"])]"
   ]
  },
  {
   "cell_type": "code",
   "execution_count": 146,
   "id": "bfb266b3",
   "metadata": {},
   "outputs": [
    {
     "name": "stderr",
     "output_type": "stream",
     "text": [
      "C:\\Users\\luizv\\AppData\\Local\\Temp/ipykernel_50964/2825468921.py:1: SettingWithCopyWarning: \n",
      "A value is trying to be set on a copy of a slice from a DataFrame.\n",
      "Try using .loc[row_indexer,col_indexer] = value instead\n",
      "\n",
      "See the caveats in the documentation: https://pandas.pydata.org/pandas-docs/stable/user_guide/indexing.html#returning-a-view-versus-a-copy\n",
      "  cambio_filtrado['Data'] = pd.to_datetime(cambio_filtrado['Data'], format='%Y-%m').dt.strftime('%Y-%m')\n"
     ]
    }
   ],
   "source": [
    "cambio_filtrado['Data'] = pd.to_datetime(cambio_filtrado['Data'], format='%Y-%m').dt.strftime('%Y-%m')"
   ]
  },
  {
   "cell_type": "code",
   "execution_count": 147,
   "id": "973b9d5f",
   "metadata": {},
   "outputs": [
    {
     "data": {
      "text/html": [
       "<div>\n",
       "<style scoped>\n",
       "    .dataframe tbody tr th:only-of-type {\n",
       "        vertical-align: middle;\n",
       "    }\n",
       "\n",
       "    .dataframe tbody tr th {\n",
       "        vertical-align: top;\n",
       "    }\n",
       "\n",
       "    .dataframe thead th {\n",
       "        text-align: right;\n",
       "    }\n",
       "</style>\n",
       "<table border=\"1\" class=\"dataframe\">\n",
       "  <thead>\n",
       "    <tr style=\"text-align: right;\">\n",
       "      <th></th>\n",
       "      <th>Data</th>\n",
       "      <th>Cambio</th>\n",
       "    </tr>\n",
       "  </thead>\n",
       "  <tbody>\n",
       "    <tr>\n",
       "      <th>564</th>\n",
       "      <td>2000-01</td>\n",
       "      <td>1,8016</td>\n",
       "    </tr>\n",
       "    <tr>\n",
       "      <th>565</th>\n",
       "      <td>2000-02</td>\n",
       "      <td>1,7677</td>\n",
       "    </tr>\n",
       "    <tr>\n",
       "      <th>566</th>\n",
       "      <td>2000-03</td>\n",
       "      <td>1,7465</td>\n",
       "    </tr>\n",
       "    <tr>\n",
       "      <th>567</th>\n",
       "      <td>2000-04</td>\n",
       "      <td>1,8059</td>\n",
       "    </tr>\n",
       "    <tr>\n",
       "      <th>568</th>\n",
       "      <td>2000-05</td>\n",
       "      <td>1,8258</td>\n",
       "    </tr>\n",
       "    <tr>\n",
       "      <th>...</th>\n",
       "      <td>...</td>\n",
       "      <td>...</td>\n",
       "    </tr>\n",
       "    <tr>\n",
       "      <th>823</th>\n",
       "      <td>2021-08</td>\n",
       "      <td>5,1427</td>\n",
       "    </tr>\n",
       "    <tr>\n",
       "      <th>824</th>\n",
       "      <td>2021-09</td>\n",
       "      <td>5,4388</td>\n",
       "    </tr>\n",
       "    <tr>\n",
       "      <th>825</th>\n",
       "      <td>2021-10</td>\n",
       "      <td>5,6424</td>\n",
       "    </tr>\n",
       "    <tr>\n",
       "      <th>826</th>\n",
       "      <td>2021-11</td>\n",
       "      <td>5,6193</td>\n",
       "    </tr>\n",
       "    <tr>\n",
       "      <th>827</th>\n",
       "      <td>2021-12</td>\n",
       "      <td>5,5799</td>\n",
       "    </tr>\n",
       "  </tbody>\n",
       "</table>\n",
       "<p>264 rows × 2 columns</p>\n",
       "</div>"
      ],
      "text/plain": [
       "        Data  Cambio\n",
       "564  2000-01  1,8016\n",
       "565  2000-02  1,7677\n",
       "566  2000-03  1,7465\n",
       "567  2000-04  1,8059\n",
       "568  2000-05  1,8258\n",
       "..       ...     ...\n",
       "823  2021-08  5,1427\n",
       "824  2021-09  5,4388\n",
       "825  2021-10  5,6424\n",
       "826  2021-11  5,6193\n",
       "827  2021-12  5,5799\n",
       "\n",
       "[264 rows x 2 columns]"
      ]
     },
     "execution_count": 147,
     "metadata": {},
     "output_type": "execute_result"
    }
   ],
   "source": [
    "cambio_filtrado"
   ]
  },
  {
   "cell_type": "code",
   "execution_count": 148,
   "id": "13eac398",
   "metadata": {},
   "outputs": [
    {
     "data": {
      "text/plain": [
       "Data      object\n",
       "Cambio    object\n",
       "dtype: object"
      ]
     },
     "execution_count": 148,
     "metadata": {},
     "output_type": "execute_result"
    }
   ],
   "source": [
    "cambio_filtrado.dtypes"
   ]
  },
  {
   "cell_type": "code",
   "execution_count": 149,
   "id": "482590b7",
   "metadata": {},
   "outputs": [
    {
     "name": "stderr",
     "output_type": "stream",
     "text": [
      "C:\\Users\\luizv\\AppData\\Local\\Temp/ipykernel_50964/2452852971.py:1: SettingWithCopyWarning: \n",
      "A value is trying to be set on a copy of a slice from a DataFrame.\n",
      "Try using .loc[row_indexer,col_indexer] = value instead\n",
      "\n",
      "See the caveats in the documentation: https://pandas.pydata.org/pandas-docs/stable/user_guide/indexing.html#returning-a-view-versus-a-copy\n",
      "  cambio_filtrado['Cambio'] = cambio_filtrado['Cambio'].apply(lambda x: float(x.replace(\".\",\"\").replace(\",\",\".\")))\n"
     ]
    }
   ],
   "source": [
    "cambio_filtrado['Cambio'] = cambio_filtrado['Cambio'].apply(lambda x: float(x.replace(\".\",\"\").replace(\",\",\".\")))"
   ]
  },
  {
   "cell_type": "code",
   "execution_count": 150,
   "id": "116b284e",
   "metadata": {},
   "outputs": [
    {
     "data": {
      "text/plain": [
       "564    1.8016\n",
       "565    1.7677\n",
       "566    1.7465\n",
       "567    1.8059\n",
       "568    1.8258\n",
       "        ...  \n",
       "823    5.1427\n",
       "824    5.4388\n",
       "825    5.6424\n",
       "826    5.6193\n",
       "827    5.5799\n",
       "Name: Cambio, Length: 264, dtype: float64"
      ]
     },
     "execution_count": 150,
     "metadata": {},
     "output_type": "execute_result"
    }
   ],
   "source": [
    "cambio_filtrado['Cambio'].astype(float)"
   ]
  },
  {
   "cell_type": "code",
   "execution_count": 151,
   "id": "3e62b89e",
   "metadata": {},
   "outputs": [
    {
     "data": {
      "text/html": [
       "<div>\n",
       "<style scoped>\n",
       "    .dataframe tbody tr th:only-of-type {\n",
       "        vertical-align: middle;\n",
       "    }\n",
       "\n",
       "    .dataframe tbody tr th {\n",
       "        vertical-align: top;\n",
       "    }\n",
       "\n",
       "    .dataframe thead th {\n",
       "        text-align: right;\n",
       "    }\n",
       "</style>\n",
       "<table border=\"1\" class=\"dataframe\">\n",
       "  <thead>\n",
       "    <tr style=\"text-align: right;\">\n",
       "      <th></th>\n",
       "      <th>Data</th>\n",
       "      <th>Cambio</th>\n",
       "    </tr>\n",
       "  </thead>\n",
       "  <tbody>\n",
       "    <tr>\n",
       "      <th>564</th>\n",
       "      <td>2000-01</td>\n",
       "      <td>1.8016</td>\n",
       "    </tr>\n",
       "    <tr>\n",
       "      <th>565</th>\n",
       "      <td>2000-02</td>\n",
       "      <td>1.7677</td>\n",
       "    </tr>\n",
       "    <tr>\n",
       "      <th>566</th>\n",
       "      <td>2000-03</td>\n",
       "      <td>1.7465</td>\n",
       "    </tr>\n",
       "    <tr>\n",
       "      <th>567</th>\n",
       "      <td>2000-04</td>\n",
       "      <td>1.8059</td>\n",
       "    </tr>\n",
       "    <tr>\n",
       "      <th>568</th>\n",
       "      <td>2000-05</td>\n",
       "      <td>1.8258</td>\n",
       "    </tr>\n",
       "    <tr>\n",
       "      <th>...</th>\n",
       "      <td>...</td>\n",
       "      <td>...</td>\n",
       "    </tr>\n",
       "    <tr>\n",
       "      <th>823</th>\n",
       "      <td>2021-08</td>\n",
       "      <td>5.1427</td>\n",
       "    </tr>\n",
       "    <tr>\n",
       "      <th>824</th>\n",
       "      <td>2021-09</td>\n",
       "      <td>5.4388</td>\n",
       "    </tr>\n",
       "    <tr>\n",
       "      <th>825</th>\n",
       "      <td>2021-10</td>\n",
       "      <td>5.6424</td>\n",
       "    </tr>\n",
       "    <tr>\n",
       "      <th>826</th>\n",
       "      <td>2021-11</td>\n",
       "      <td>5.6193</td>\n",
       "    </tr>\n",
       "    <tr>\n",
       "      <th>827</th>\n",
       "      <td>2021-12</td>\n",
       "      <td>5.5799</td>\n",
       "    </tr>\n",
       "  </tbody>\n",
       "</table>\n",
       "<p>264 rows × 2 columns</p>\n",
       "</div>"
      ],
      "text/plain": [
       "        Data  Cambio\n",
       "564  2000-01  1.8016\n",
       "565  2000-02  1.7677\n",
       "566  2000-03  1.7465\n",
       "567  2000-04  1.8059\n",
       "568  2000-05  1.8258\n",
       "..       ...     ...\n",
       "823  2021-08  5.1427\n",
       "824  2021-09  5.4388\n",
       "825  2021-10  5.6424\n",
       "826  2021-11  5.6193\n",
       "827  2021-12  5.5799\n",
       "\n",
       "[264 rows x 2 columns]"
      ]
     },
     "execution_count": 151,
     "metadata": {},
     "output_type": "execute_result"
    }
   ],
   "source": [
    "cambio_filtrado"
   ]
  },
  {
   "cell_type": "code",
   "execution_count": 152,
   "id": "7b44bab3",
   "metadata": {},
   "outputs": [],
   "source": [
    "cambio_filtrado = cambio_filtrado.set_index('Data')\n"
   ]
  },
  {
   "cell_type": "code",
   "execution_count": 153,
   "id": "037723e5",
   "metadata": {},
   "outputs": [
    {
     "data": {
      "text/html": [
       "<div>\n",
       "<style scoped>\n",
       "    .dataframe tbody tr th:only-of-type {\n",
       "        vertical-align: middle;\n",
       "    }\n",
       "\n",
       "    .dataframe tbody tr th {\n",
       "        vertical-align: top;\n",
       "    }\n",
       "\n",
       "    .dataframe thead th {\n",
       "        text-align: right;\n",
       "    }\n",
       "</style>\n",
       "<table border=\"1\" class=\"dataframe\">\n",
       "  <thead>\n",
       "    <tr style=\"text-align: right;\">\n",
       "      <th></th>\n",
       "      <th>Cambio</th>\n",
       "    </tr>\n",
       "    <tr>\n",
       "      <th>Data</th>\n",
       "      <th></th>\n",
       "    </tr>\n",
       "  </thead>\n",
       "  <tbody>\n",
       "    <tr>\n",
       "      <th>2000-01</th>\n",
       "      <td>1.8016</td>\n",
       "    </tr>\n",
       "    <tr>\n",
       "      <th>2000-02</th>\n",
       "      <td>1.7677</td>\n",
       "    </tr>\n",
       "    <tr>\n",
       "      <th>2000-03</th>\n",
       "      <td>1.7465</td>\n",
       "    </tr>\n",
       "    <tr>\n",
       "      <th>2000-04</th>\n",
       "      <td>1.8059</td>\n",
       "    </tr>\n",
       "    <tr>\n",
       "      <th>2000-05</th>\n",
       "      <td>1.8258</td>\n",
       "    </tr>\n",
       "    <tr>\n",
       "      <th>...</th>\n",
       "      <td>...</td>\n",
       "    </tr>\n",
       "    <tr>\n",
       "      <th>2021-08</th>\n",
       "      <td>5.1427</td>\n",
       "    </tr>\n",
       "    <tr>\n",
       "      <th>2021-09</th>\n",
       "      <td>5.4388</td>\n",
       "    </tr>\n",
       "    <tr>\n",
       "      <th>2021-10</th>\n",
       "      <td>5.6424</td>\n",
       "    </tr>\n",
       "    <tr>\n",
       "      <th>2021-11</th>\n",
       "      <td>5.6193</td>\n",
       "    </tr>\n",
       "    <tr>\n",
       "      <th>2021-12</th>\n",
       "      <td>5.5799</td>\n",
       "    </tr>\n",
       "  </tbody>\n",
       "</table>\n",
       "<p>264 rows × 1 columns</p>\n",
       "</div>"
      ],
      "text/plain": [
       "         Cambio\n",
       "Data           \n",
       "2000-01  1.8016\n",
       "2000-02  1.7677\n",
       "2000-03  1.7465\n",
       "2000-04  1.8059\n",
       "2000-05  1.8258\n",
       "...         ...\n",
       "2021-08  5.1427\n",
       "2021-09  5.4388\n",
       "2021-10  5.6424\n",
       "2021-11  5.6193\n",
       "2021-12  5.5799\n",
       "\n",
       "[264 rows x 1 columns]"
      ]
     },
     "execution_count": 153,
     "metadata": {},
     "output_type": "execute_result"
    }
   ],
   "source": [
    "cambio_filtrado"
   ]
  },
  {
   "cell_type": "code",
   "execution_count": 154,
   "id": "7fa633d5",
   "metadata": {
    "scrolled": true
   },
   "outputs": [
    {
     "data": {
      "image/png": "[encoded data removed]",
      "text/plain": [
       "<Figure size 1800x720 with 1 Axes>"
      ]
     },
     "metadata": {
      "needs_background": "light"
     },
     "output_type": "display_data"
    }
   ],
   "source": [
    "fig, axs = plt.subplots(figsize=(25,10))\n",
    "cambio_filtrado['Cambio'].plot(ax=axs)\n",
    "axs.set_xlabel('Data')\n",
    "plt.show()"
   ]
  },
  {
   "attachments": {},
   "cell_type": "markdown",
   "id": "77d3cfaa",
   "metadata": {},
   "source": [
    "## Teste da Raiz Unitária para a Taxa de Cambio #"
   ]
  },
  {
   "cell_type": "code",
   "execution_count": 155,
   "id": "71709710",
   "metadata": {},
   "outputs": [
    {
     "name": "stdout",
     "output_type": "stream",
     "text": [
      "Results of Dickey-Fuller Test:\n",
      "Test Statistic                   0.094750\n",
      "p-value                          0.965701\n",
      "#Lags Used                       0.000000\n",
      "Number of Observations Used    263.000000\n",
      "Critical Value (1%)             -3.455461\n",
      "Critical Value (5%)             -2.872593\n",
      "Critical Value (10%)            -2.572660\n",
      "dtype: float64\n"
     ]
    }
   ],
   "source": [
    "adf_test(cambio_filtrado[\"Cambio\"])"
   ]
  },
  {
   "attachments": {},
   "cell_type": "markdown",
   "id": "22674884",
   "metadata": {},
   "source": [
    "### Para o Teste ADF, o valor da estatística de teste ficou em -0,09, fora da região crítica. Nesse caso, falhamos em rejeitar a hipótese nula que, para o teste ADF é de existir 1 raíz unitária. Sendo assim, há evidências de uma raíz unitária na série de câmbio. ###"
   ]
  },
  {
   "cell_type": "code",
   "execution_count": 276,
   "id": "f2fcca68",
   "metadata": {},
   "outputs": [
    {
     "name": "stdout",
     "output_type": "stream",
     "text": [
      "Results of KPSS Test:\n",
      "Test Statistic            1.612772\n",
      "p-value                   0.010000\n",
      "Lags Used                11.000000\n",
      "Critical Value (10%)      0.347000\n",
      "Critical Value (5%)       0.463000\n",
      "Critical Value (2.5%)     0.574000\n",
      "Critical Value (1%)       0.739000\n",
      "dtype: float64\n"
     ]
    },
    {
     "name": "stderr",
     "output_type": "stream",
     "text": [
      "C:\\Users\\luizv\\anaconda3\\lib\\site-packages\\statsmodels\\tsa\\stattools.py:1906: InterpolationWarning: The test statistic is outside of the range of p-values available in the\n",
      "look-up table. The actual p-value is smaller than the p-value returned.\n",
      "\n",
      "  warnings.warn(\n"
     ]
    }
   ],
   "source": [
    "kpss_test(cambio_filtrado['Cambio'])"
   ]
  },
  {
   "attachments": {},
   "cell_type": "markdown",
   "id": "08e4ca32",
   "metadata": {},
   "source": [
    "### Para o teste KPSS, dado que a hipótese nula é de não possuir uma raíz unitária e para a estatística do teste de 1.61, rejeitamos a hipótese nula para todos os valores críticos e, assim, podemos concluir que a série é não estacionária ###"
   ]
  },
  {
   "cell_type": "code",
   "execution_count": 518,
   "id": "c29fea19",
   "metadata": {},
   "outputs": [
    {
     "data": {
      "image/png": "[encoded data removed]",
      "text/plain": [
       "<Figure size 432x288 with 1 Axes>"
      ]
     },
     "metadata": {
      "needs_background": "light"
     },
     "output_type": "display_data"
    },
    {
     "data": {
      "image/png": "[encoded data removed]",
      "text/plain": [
       "<Figure size 432x288 with 1 Axes>"
      ]
     },
     "metadata": {
      "needs_background": "light"
     },
     "output_type": "display_data"
    }
   ],
   "source": [
    "pacf_cambio = plot_pacf(cambio_filtrado['Cambio'])\n",
    "acf_cambio = plot_acf(cambio_filtrado['Cambio'])"
   ]
  },
  {
   "attachments": {},
   "cell_type": "markdown",
   "id": "6d73a95a",
   "metadata": {},
   "source": [
    "## 3. Taxa Selic ##\n"
   ]
  },
  {
   "cell_type": "code",
   "execution_count": 324,
   "id": "458cfc0b",
   "metadata": {},
   "outputs": [],
   "source": [
    "## Disponível em: https://www3.bcb.gov.br/sgspub/consultarvalores/consultarValoresSeries.do?method=getPagina ##"
   ]
  },
  {
   "cell_type": "code",
   "execution_count": 235,
   "id": "ae345159",
   "metadata": {},
   "outputs": [],
   "source": [
    "selic = pd.read_csv('selic.csv', sep = ';', parse_dates=['Data'])"
   ]
  },
  {
   "cell_type": "code",
   "execution_count": 225,
   "id": "c5b67306",
   "metadata": {},
   "outputs": [
    {
     "data": {
      "text/html": [
       "<div>\n",
       "<style scoped>\n",
       "    .dataframe tbody tr th:only-of-type {\n",
       "        vertical-align: middle;\n",
       "    }\n",
       "\n",
       "    .dataframe tbody tr th {\n",
       "        vertical-align: top;\n",
       "    }\n",
       "\n",
       "    .dataframe thead th {\n",
       "        text-align: right;\n",
       "    }\n",
       "</style>\n",
       "<table border=\"1\" class=\"dataframe\">\n",
       "  <thead>\n",
       "    <tr style=\"text-align: right;\">\n",
       "      <th></th>\n",
       "      <th>Data</th>\n",
       "      <th>Taxa de juros - Over / Selic - acumulada no mês - (% a.m.) - Banco Central do Brasil, Boletim, Seção mercado financeiro e de capitais (Bacen/Boletim/M. Finan.) - BM12_TJOVER12</th>\n",
       "      <th>Unnamed: 2</th>\n",
       "    </tr>\n",
       "  </thead>\n",
       "  <tbody>\n",
       "    <tr>\n",
       "      <th>0</th>\n",
       "      <td>1974-01-01</td>\n",
       "      <td>1,46</td>\n",
       "      <td>NaN</td>\n",
       "    </tr>\n",
       "    <tr>\n",
       "      <th>1</th>\n",
       "      <td>1974-02-01</td>\n",
       "      <td>1,15</td>\n",
       "      <td>NaN</td>\n",
       "    </tr>\n",
       "    <tr>\n",
       "      <th>2</th>\n",
       "      <td>1974-03-01</td>\n",
       "      <td>1,16</td>\n",
       "      <td>NaN</td>\n",
       "    </tr>\n",
       "    <tr>\n",
       "      <th>3</th>\n",
       "      <td>1974-04-01</td>\n",
       "      <td>1,21</td>\n",
       "      <td>NaN</td>\n",
       "    </tr>\n",
       "    <tr>\n",
       "      <th>4</th>\n",
       "      <td>1974-05-01</td>\n",
       "      <td>1,24</td>\n",
       "      <td>NaN</td>\n",
       "    </tr>\n",
       "    <tr>\n",
       "      <th>...</th>\n",
       "      <td>...</td>\n",
       "      <td>...</td>\n",
       "      <td>...</td>\n",
       "    </tr>\n",
       "    <tr>\n",
       "      <th>589</th>\n",
       "      <td>2023-02-01</td>\n",
       "      <td>0,92</td>\n",
       "      <td>NaN</td>\n",
       "    </tr>\n",
       "    <tr>\n",
       "      <th>590</th>\n",
       "      <td>2023-03-01</td>\n",
       "      <td>1,17</td>\n",
       "      <td>NaN</td>\n",
       "    </tr>\n",
       "    <tr>\n",
       "      <th>591</th>\n",
       "      <td>2023-04-01</td>\n",
       "      <td>0,92</td>\n",
       "      <td>NaN</td>\n",
       "    </tr>\n",
       "    <tr>\n",
       "      <th>592</th>\n",
       "      <td>2023-05-01</td>\n",
       "      <td>1,12</td>\n",
       "      <td>NaN</td>\n",
       "    </tr>\n",
       "    <tr>\n",
       "      <th>593</th>\n",
       "      <td>2023-06-01</td>\n",
       "      <td>1,02</td>\n",
       "      <td>NaN</td>\n",
       "    </tr>\n",
       "  </tbody>\n",
       "</table>\n",
       "<p>594 rows × 3 columns</p>\n",
       "</div>"
      ],
      "text/plain": [
       "          Data  \\\n",
       "0   1974-01-01   \n",
       "1   1974-02-01   \n",
       "2   1974-03-01   \n",
       "3   1974-04-01   \n",
       "4   1974-05-01   \n",
       "..         ...   \n",
       "589 2023-02-01   \n",
       "590 2023-03-01   \n",
       "591 2023-04-01   \n",
       "592 2023-05-01   \n",
       "593 2023-06-01   \n",
       "\n",
       "    Taxa de juros - Over / Selic - acumulada no mês - (% a.m.) - Banco Central do Brasil, Boletim, Seção mercado financeiro e de capitais (Bacen/Boletim/M. Finan.) - BM12_TJOVER12  \\\n",
       "0                                                 1,46                                                                                                                                \n",
       "1                                                 1,15                                                                                                                                \n",
       "2                                                 1,16                                                                                                                                \n",
       "3                                                 1,21                                                                                                                                \n",
       "4                                                 1,24                                                                                                                                \n",
       "..                                                 ...                                                                                                                                \n",
       "589                                               0,92                                                                                                                                \n",
       "590                                               1,17                                                                                                                                \n",
       "591                                               0,92                                                                                                                                \n",
       "592                                               1,12                                                                                                                                \n",
       "593                                               1,02                                                                                                                                \n",
       "\n",
       "     Unnamed: 2  \n",
       "0           NaN  \n",
       "1           NaN  \n",
       "2           NaN  \n",
       "3           NaN  \n",
       "4           NaN  \n",
       "..          ...  \n",
       "589         NaN  \n",
       "590         NaN  \n",
       "591         NaN  \n",
       "592         NaN  \n",
       "593         NaN  \n",
       "\n",
       "[594 rows x 3 columns]"
      ]
     },
     "execution_count": 225,
     "metadata": {},
     "output_type": "execute_result"
    }
   ],
   "source": [
    "selic"
   ]
  },
  {
   "cell_type": "code",
   "execution_count": 236,
   "id": "233fd5ab",
   "metadata": {},
   "outputs": [
    {
     "data": {
      "text/html": [
       "<div>\n",
       "<style scoped>\n",
       "    .dataframe tbody tr th:only-of-type {\n",
       "        vertical-align: middle;\n",
       "    }\n",
       "\n",
       "    .dataframe tbody tr th {\n",
       "        vertical-align: top;\n",
       "    }\n",
       "\n",
       "    .dataframe thead th {\n",
       "        text-align: right;\n",
       "    }\n",
       "</style>\n",
       "<table border=\"1\" class=\"dataframe\">\n",
       "  <thead>\n",
       "    <tr style=\"text-align: right;\">\n",
       "      <th></th>\n",
       "      <th>Data</th>\n",
       "      <th>Selic</th>\n",
       "      <th>Unnamed: 2</th>\n",
       "    </tr>\n",
       "  </thead>\n",
       "  <tbody>\n",
       "    <tr>\n",
       "      <th>0</th>\n",
       "      <td>1974-01-01</td>\n",
       "      <td>1,46</td>\n",
       "      <td>NaN</td>\n",
       "    </tr>\n",
       "    <tr>\n",
       "      <th>1</th>\n",
       "      <td>1974-02-01</td>\n",
       "      <td>1,15</td>\n",
       "      <td>NaN</td>\n",
       "    </tr>\n",
       "    <tr>\n",
       "      <th>2</th>\n",
       "      <td>1974-03-01</td>\n",
       "      <td>1,16</td>\n",
       "      <td>NaN</td>\n",
       "    </tr>\n",
       "    <tr>\n",
       "      <th>3</th>\n",
       "      <td>1974-04-01</td>\n",
       "      <td>1,21</td>\n",
       "      <td>NaN</td>\n",
       "    </tr>\n",
       "    <tr>\n",
       "      <th>4</th>\n",
       "      <td>1974-05-01</td>\n",
       "      <td>1,24</td>\n",
       "      <td>NaN</td>\n",
       "    </tr>\n",
       "    <tr>\n",
       "      <th>...</th>\n",
       "      <td>...</td>\n",
       "      <td>...</td>\n",
       "      <td>...</td>\n",
       "    </tr>\n",
       "    <tr>\n",
       "      <th>589</th>\n",
       "      <td>2023-02-01</td>\n",
       "      <td>0,92</td>\n",
       "      <td>NaN</td>\n",
       "    </tr>\n",
       "    <tr>\n",
       "      <th>590</th>\n",
       "      <td>2023-03-01</td>\n",
       "      <td>1,17</td>\n",
       "      <td>NaN</td>\n",
       "    </tr>\n",
       "    <tr>\n",
       "      <th>591</th>\n",
       "      <td>2023-04-01</td>\n",
       "      <td>0,92</td>\n",
       "      <td>NaN</td>\n",
       "    </tr>\n",
       "    <tr>\n",
       "      <th>592</th>\n",
       "      <td>2023-05-01</td>\n",
       "      <td>1,12</td>\n",
       "      <td>NaN</td>\n",
       "    </tr>\n",
       "    <tr>\n",
       "      <th>593</th>\n",
       "      <td>2023-06-01</td>\n",
       "      <td>1,02</td>\n",
       "      <td>NaN</td>\n",
       "    </tr>\n",
       "  </tbody>\n",
       "</table>\n",
       "<p>594 rows × 3 columns</p>\n",
       "</div>"
      ],
      "text/plain": [
       "          Data Selic  Unnamed: 2\n",
       "0   1974-01-01  1,46         NaN\n",
       "1   1974-02-01  1,15         NaN\n",
       "2   1974-03-01  1,16         NaN\n",
       "3   1974-04-01  1,21         NaN\n",
       "4   1974-05-01  1,24         NaN\n",
       "..         ...   ...         ...\n",
       "589 2023-02-01  0,92         NaN\n",
       "590 2023-03-01  1,17         NaN\n",
       "591 2023-04-01  0,92         NaN\n",
       "592 2023-05-01  1,12         NaN\n",
       "593 2023-06-01  1,02         NaN\n",
       "\n",
       "[594 rows x 3 columns]"
      ]
     },
     "execution_count": 236,
     "metadata": {},
     "output_type": "execute_result"
    }
   ],
   "source": [
    "selic = selic.rename(columns={selic.columns[1]: 'Selic'})\n",
    "selic"
   ]
  },
  {
   "cell_type": "code",
   "execution_count": 237,
   "id": "35a94046",
   "metadata": {},
   "outputs": [],
   "source": [
    "selic = selic.drop('Unnamed: 2', axis = 1)"
   ]
  },
  {
   "cell_type": "code",
   "execution_count": 228,
   "id": "af4b23d9",
   "metadata": {},
   "outputs": [
    {
     "data": {
      "text/html": [
       "<div>\n",
       "<style scoped>\n",
       "    .dataframe tbody tr th:only-of-type {\n",
       "        vertical-align: middle;\n",
       "    }\n",
       "\n",
       "    .dataframe tbody tr th {\n",
       "        vertical-align: top;\n",
       "    }\n",
       "\n",
       "    .dataframe thead th {\n",
       "        text-align: right;\n",
       "    }\n",
       "</style>\n",
       "<table border=\"1\" class=\"dataframe\">\n",
       "  <thead>\n",
       "    <tr style=\"text-align: right;\">\n",
       "      <th></th>\n",
       "      <th>Data</th>\n",
       "      <th>Selic</th>\n",
       "    </tr>\n",
       "  </thead>\n",
       "  <tbody>\n",
       "    <tr>\n",
       "      <th>0</th>\n",
       "      <td>1974-01-01</td>\n",
       "      <td>1,46</td>\n",
       "    </tr>\n",
       "    <tr>\n",
       "      <th>1</th>\n",
       "      <td>1974-02-01</td>\n",
       "      <td>1,15</td>\n",
       "    </tr>\n",
       "    <tr>\n",
       "      <th>2</th>\n",
       "      <td>1974-03-01</td>\n",
       "      <td>1,16</td>\n",
       "    </tr>\n",
       "    <tr>\n",
       "      <th>3</th>\n",
       "      <td>1974-04-01</td>\n",
       "      <td>1,21</td>\n",
       "    </tr>\n",
       "    <tr>\n",
       "      <th>4</th>\n",
       "      <td>1974-05-01</td>\n",
       "      <td>1,24</td>\n",
       "    </tr>\n",
       "    <tr>\n",
       "      <th>...</th>\n",
       "      <td>...</td>\n",
       "      <td>...</td>\n",
       "    </tr>\n",
       "    <tr>\n",
       "      <th>589</th>\n",
       "      <td>2023-02-01</td>\n",
       "      <td>0,92</td>\n",
       "    </tr>\n",
       "    <tr>\n",
       "      <th>590</th>\n",
       "      <td>2023-03-01</td>\n",
       "      <td>1,17</td>\n",
       "    </tr>\n",
       "    <tr>\n",
       "      <th>591</th>\n",
       "      <td>2023-04-01</td>\n",
       "      <td>0,92</td>\n",
       "    </tr>\n",
       "    <tr>\n",
       "      <th>592</th>\n",
       "      <td>2023-05-01</td>\n",
       "      <td>1,12</td>\n",
       "    </tr>\n",
       "    <tr>\n",
       "      <th>593</th>\n",
       "      <td>2023-06-01</td>\n",
       "      <td>1,02</td>\n",
       "    </tr>\n",
       "  </tbody>\n",
       "</table>\n",
       "<p>594 rows × 2 columns</p>\n",
       "</div>"
      ],
      "text/plain": [
       "          Data Selic\n",
       "0   1974-01-01  1,46\n",
       "1   1974-02-01  1,15\n",
       "2   1974-03-01  1,16\n",
       "3   1974-04-01  1,21\n",
       "4   1974-05-01  1,24\n",
       "..         ...   ...\n",
       "589 2023-02-01  0,92\n",
       "590 2023-03-01  1,17\n",
       "591 2023-04-01  0,92\n",
       "592 2023-05-01  1,12\n",
       "593 2023-06-01  1,02\n",
       "\n",
       "[594 rows x 2 columns]"
      ]
     },
     "execution_count": 228,
     "metadata": {},
     "output_type": "execute_result"
    }
   ],
   "source": [
    "selic"
   ]
  },
  {
   "cell_type": "code",
   "execution_count": 238,
   "id": "5020eda2",
   "metadata": {},
   "outputs": [
    {
     "data": {
      "text/plain": [
       "Data     datetime64[ns]\n",
       "Selic            object\n",
       "dtype: object"
      ]
     },
     "execution_count": 238,
     "metadata": {},
     "output_type": "execute_result"
    }
   ],
   "source": [
    "selic.dtypes"
   ]
  },
  {
   "cell_type": "code",
   "execution_count": 239,
   "id": "4742b4c8",
   "metadata": {},
   "outputs": [],
   "source": [
    "selic[\"Selic\"] = selic[\"Selic\"].astype(str)\n",
    "selic['Selic'] = selic['Selic'].apply(lambda x: str(x.replace(\".\",\"\").replace(\",\",\".\")))"
   ]
  },
  {
   "cell_type": "code",
   "execution_count": 240,
   "id": "c944562b",
   "metadata": {},
   "outputs": [
    {
     "data": {
      "text/plain": [
       "Data     datetime64[ns]\n",
       "Selic            object\n",
       "dtype: object"
      ]
     },
     "execution_count": 240,
     "metadata": {},
     "output_type": "execute_result"
    }
   ],
   "source": [
    "selic\n",
    "selic.dtypes"
   ]
  },
  {
   "cell_type": "code",
   "execution_count": 241,
   "id": "91e2d899",
   "metadata": {},
   "outputs": [
    {
     "data": {
      "text/plain": [
       "Data     datetime64[ns]\n",
       "Selic           float64\n",
       "dtype: object"
      ]
     },
     "execution_count": 241,
     "metadata": {},
     "output_type": "execute_result"
    }
   ],
   "source": [
    "selic[\"Selic\"] = selic[\"Selic\"].astype(float)\n",
    "selic.dtypes"
   ]
  },
  {
   "cell_type": "code",
   "execution_count": 242,
   "id": "e523b95e",
   "metadata": {},
   "outputs": [
    {
     "data": {
      "text/html": [
       "<div>\n",
       "<style scoped>\n",
       "    .dataframe tbody tr th:only-of-type {\n",
       "        vertical-align: middle;\n",
       "    }\n",
       "\n",
       "    .dataframe tbody tr th {\n",
       "        vertical-align: top;\n",
       "    }\n",
       "\n",
       "    .dataframe thead th {\n",
       "        text-align: right;\n",
       "    }\n",
       "</style>\n",
       "<table border=\"1\" class=\"dataframe\">\n",
       "  <thead>\n",
       "    <tr style=\"text-align: right;\">\n",
       "      <th></th>\n",
       "      <th>Data</th>\n",
       "      <th>Selic</th>\n",
       "    </tr>\n",
       "  </thead>\n",
       "  <tbody>\n",
       "    <tr>\n",
       "      <th>0</th>\n",
       "      <td>1974-01-01</td>\n",
       "      <td>1.46</td>\n",
       "    </tr>\n",
       "    <tr>\n",
       "      <th>1</th>\n",
       "      <td>1974-02-01</td>\n",
       "      <td>1.15</td>\n",
       "    </tr>\n",
       "    <tr>\n",
       "      <th>2</th>\n",
       "      <td>1974-03-01</td>\n",
       "      <td>1.16</td>\n",
       "    </tr>\n",
       "    <tr>\n",
       "      <th>3</th>\n",
       "      <td>1974-04-01</td>\n",
       "      <td>1.21</td>\n",
       "    </tr>\n",
       "    <tr>\n",
       "      <th>4</th>\n",
       "      <td>1974-05-01</td>\n",
       "      <td>1.24</td>\n",
       "    </tr>\n",
       "    <tr>\n",
       "      <th>...</th>\n",
       "      <td>...</td>\n",
       "      <td>...</td>\n",
       "    </tr>\n",
       "    <tr>\n",
       "      <th>589</th>\n",
       "      <td>2023-02-01</td>\n",
       "      <td>0.92</td>\n",
       "    </tr>\n",
       "    <tr>\n",
       "      <th>590</th>\n",
       "      <td>2023-03-01</td>\n",
       "      <td>1.17</td>\n",
       "    </tr>\n",
       "    <tr>\n",
       "      <th>591</th>\n",
       "      <td>2023-04-01</td>\n",
       "      <td>0.92</td>\n",
       "    </tr>\n",
       "    <tr>\n",
       "      <th>592</th>\n",
       "      <td>2023-05-01</td>\n",
       "      <td>1.12</td>\n",
       "    </tr>\n",
       "    <tr>\n",
       "      <th>593</th>\n",
       "      <td>2023-06-01</td>\n",
       "      <td>1.02</td>\n",
       "    </tr>\n",
       "  </tbody>\n",
       "</table>\n",
       "<p>594 rows × 2 columns</p>\n",
       "</div>"
      ],
      "text/plain": [
       "          Data  Selic\n",
       "0   1974-01-01   1.46\n",
       "1   1974-02-01   1.15\n",
       "2   1974-03-01   1.16\n",
       "3   1974-04-01   1.21\n",
       "4   1974-05-01   1.24\n",
       "..         ...    ...\n",
       "589 2023-02-01   0.92\n",
       "590 2023-03-01   1.17\n",
       "591 2023-04-01   0.92\n",
       "592 2023-05-01   1.12\n",
       "593 2023-06-01   1.02\n",
       "\n",
       "[594 rows x 2 columns]"
      ]
     },
     "execution_count": 242,
     "metadata": {},
     "output_type": "execute_result"
    }
   ],
   "source": [
    "selic"
   ]
  },
  {
   "cell_type": "code",
   "execution_count": 243,
   "id": "b03658fb",
   "metadata": {},
   "outputs": [
    {
     "data": {
      "text/plain": [
       "Data     datetime64[ns]\n",
       "Selic           float64\n",
       "dtype: object"
      ]
     },
     "execution_count": 243,
     "metadata": {},
     "output_type": "execute_result"
    }
   ],
   "source": [
    "selic.dtypes"
   ]
  },
  {
   "cell_type": "code",
   "execution_count": 247,
   "id": "a7981c80",
   "metadata": {},
   "outputs": [],
   "source": [
    "selic = selic.set_index('Data')"
   ]
  },
  {
   "cell_type": "code",
   "execution_count": 248,
   "id": "1f4521cc",
   "metadata": {},
   "outputs": [
    {
     "data": {
      "text/html": [
       "<div>\n",
       "<style scoped>\n",
       "    .dataframe tbody tr th:only-of-type {\n",
       "        vertical-align: middle;\n",
       "    }\n",
       "\n",
       "    .dataframe tbody tr th {\n",
       "        vertical-align: top;\n",
       "    }\n",
       "\n",
       "    .dataframe thead th {\n",
       "        text-align: right;\n",
       "    }\n",
       "</style>\n",
       "<table border=\"1\" class=\"dataframe\">\n",
       "  <thead>\n",
       "    <tr style=\"text-align: right;\">\n",
       "      <th></th>\n",
       "      <th>Selic</th>\n",
       "    </tr>\n",
       "    <tr>\n",
       "      <th>Data</th>\n",
       "      <th></th>\n",
       "    </tr>\n",
       "  </thead>\n",
       "  <tbody>\n",
       "    <tr>\n",
       "      <th>1974-01-01</th>\n",
       "      <td>1.46</td>\n",
       "    </tr>\n",
       "    <tr>\n",
       "      <th>1974-02-01</th>\n",
       "      <td>1.15</td>\n",
       "    </tr>\n",
       "    <tr>\n",
       "      <th>1974-03-01</th>\n",
       "      <td>1.16</td>\n",
       "    </tr>\n",
       "    <tr>\n",
       "      <th>1974-04-01</th>\n",
       "      <td>1.21</td>\n",
       "    </tr>\n",
       "    <tr>\n",
       "      <th>1974-05-01</th>\n",
       "      <td>1.24</td>\n",
       "    </tr>\n",
       "    <tr>\n",
       "      <th>...</th>\n",
       "      <td>...</td>\n",
       "    </tr>\n",
       "    <tr>\n",
       "      <th>2023-02-01</th>\n",
       "      <td>0.92</td>\n",
       "    </tr>\n",
       "    <tr>\n",
       "      <th>2023-03-01</th>\n",
       "      <td>1.17</td>\n",
       "    </tr>\n",
       "    <tr>\n",
       "      <th>2023-04-01</th>\n",
       "      <td>0.92</td>\n",
       "    </tr>\n",
       "    <tr>\n",
       "      <th>2023-05-01</th>\n",
       "      <td>1.12</td>\n",
       "    </tr>\n",
       "    <tr>\n",
       "      <th>2023-06-01</th>\n",
       "      <td>1.02</td>\n",
       "    </tr>\n",
       "  </tbody>\n",
       "</table>\n",
       "<p>594 rows × 1 columns</p>\n",
       "</div>"
      ],
      "text/plain": [
       "            Selic\n",
       "Data             \n",
       "1974-01-01   1.46\n",
       "1974-02-01   1.15\n",
       "1974-03-01   1.16\n",
       "1974-04-01   1.21\n",
       "1974-05-01   1.24\n",
       "...           ...\n",
       "2023-02-01   0.92\n",
       "2023-03-01   1.17\n",
       "2023-04-01   0.92\n",
       "2023-05-01   1.12\n",
       "2023-06-01   1.02\n",
       "\n",
       "[594 rows x 1 columns]"
      ]
     },
     "execution_count": 248,
     "metadata": {},
     "output_type": "execute_result"
    }
   ],
   "source": [
    "selic"
   ]
  },
  {
   "cell_type": "code",
   "execution_count": 250,
   "id": "7b10e169",
   "metadata": {},
   "outputs": [],
   "source": [
    "import datetime\n",
    "data_inicio = datetime.datetime(2000, 1, 1)\n",
    "data_final = datetime.datetime(2022, 1, 1)\n",
    "\n",
    "selic_filtrado = selic[(data_inicio <= selic.index) &  (data_final > selic.index)]"
   ]
  },
  {
   "cell_type": "code",
   "execution_count": 251,
   "id": "284bc905",
   "metadata": {},
   "outputs": [
    {
     "data": {
      "text/html": [
       "<div>\n",
       "<style scoped>\n",
       "    .dataframe tbody tr th:only-of-type {\n",
       "        vertical-align: middle;\n",
       "    }\n",
       "\n",
       "    .dataframe tbody tr th {\n",
       "        vertical-align: top;\n",
       "    }\n",
       "\n",
       "    .dataframe thead th {\n",
       "        text-align: right;\n",
       "    }\n",
       "</style>\n",
       "<table border=\"1\" class=\"dataframe\">\n",
       "  <thead>\n",
       "    <tr style=\"text-align: right;\">\n",
       "      <th></th>\n",
       "      <th>Selic</th>\n",
       "    </tr>\n",
       "    <tr>\n",
       "      <th>Data</th>\n",
       "      <th></th>\n",
       "    </tr>\n",
       "  </thead>\n",
       "  <tbody>\n",
       "    <tr>\n",
       "      <th>2000-01-01</th>\n",
       "      <td>1.46</td>\n",
       "    </tr>\n",
       "    <tr>\n",
       "      <th>2000-02-01</th>\n",
       "      <td>1.45</td>\n",
       "    </tr>\n",
       "    <tr>\n",
       "      <th>2000-03-01</th>\n",
       "      <td>1.45</td>\n",
       "    </tr>\n",
       "    <tr>\n",
       "      <th>2000-04-01</th>\n",
       "      <td>1.30</td>\n",
       "    </tr>\n",
       "    <tr>\n",
       "      <th>2000-05-01</th>\n",
       "      <td>1.49</td>\n",
       "    </tr>\n",
       "    <tr>\n",
       "      <th>...</th>\n",
       "      <td>...</td>\n",
       "    </tr>\n",
       "    <tr>\n",
       "      <th>2021-08-01</th>\n",
       "      <td>0.43</td>\n",
       "    </tr>\n",
       "    <tr>\n",
       "      <th>2021-09-01</th>\n",
       "      <td>0.44</td>\n",
       "    </tr>\n",
       "    <tr>\n",
       "      <th>2021-10-01</th>\n",
       "      <td>0.49</td>\n",
       "    </tr>\n",
       "    <tr>\n",
       "      <th>2021-11-01</th>\n",
       "      <td>0.59</td>\n",
       "    </tr>\n",
       "    <tr>\n",
       "      <th>2021-12-01</th>\n",
       "      <td>0.77</td>\n",
       "    </tr>\n",
       "  </tbody>\n",
       "</table>\n",
       "<p>264 rows × 1 columns</p>\n",
       "</div>"
      ],
      "text/plain": [
       "            Selic\n",
       "Data             \n",
       "2000-01-01   1.46\n",
       "2000-02-01   1.45\n",
       "2000-03-01   1.45\n",
       "2000-04-01   1.30\n",
       "2000-05-01   1.49\n",
       "...           ...\n",
       "2021-08-01   0.43\n",
       "2021-09-01   0.44\n",
       "2021-10-01   0.49\n",
       "2021-11-01   0.59\n",
       "2021-12-01   0.77\n",
       "\n",
       "[264 rows x 1 columns]"
      ]
     },
     "execution_count": 251,
     "metadata": {},
     "output_type": "execute_result"
    }
   ],
   "source": [
    "selic_filtrado"
   ]
  },
  {
   "attachments": {},
   "cell_type": "markdown",
   "id": "2f2be29a",
   "metadata": {},
   "source": [
    "## Gráfico SELIC ##"
   ]
  },
  {
   "cell_type": "code",
   "execution_count": 252,
   "id": "ac4b7b56",
   "metadata": {},
   "outputs": [
    {
     "data": {
      "image/png": "[encoded data removed]",
      "text/plain": [
       "<Figure size 1800x720 with 1 Axes>"
      ]
     },
     "metadata": {
      "needs_background": "light"
     },
     "output_type": "display_data"
    }
   ],
   "source": [
    "fig, axs = plt.subplots(figsize=(25,10))\n",
    "selic_filtrado['Selic'].plot(ax=axs)\n",
    "axs.set_xlabel('Data')\n",
    "plt.show()"
   ]
  },
  {
   "cell_type": "code",
   "execution_count": 253,
   "id": "61b4b19c",
   "metadata": {},
   "outputs": [
    {
     "data": {
      "image/png": "[encoded data removed]",
      "text/plain": [
       "<Figure size 432x288 with 1 Axes>"
      ]
     },
     "metadata": {
      "needs_background": "light"
     },
     "output_type": "display_data"
    },
    {
     "data": {
      "image/png": "[encoded data removed]",
      "text/plain": [
       "<Figure size 432x288 with 1 Axes>"
      ]
     },
     "metadata": {
      "needs_background": "light"
     },
     "output_type": "display_data"
    }
   ],
   "source": [
    "pacf_selic = plot_pacf(selic_filtrado['Selic'])\n",
    "acf_selic = plot_acf(selic_filtrado['Selic'])"
   ]
  },
  {
   "cell_type": "code",
   "execution_count": 254,
   "id": "a816bc20",
   "metadata": {},
   "outputs": [
    {
     "name": "stdout",
     "output_type": "stream",
     "text": [
      "Results of Dickey-Fuller Test:\n",
      "Test Statistic                  -1.345708\n",
      "p-value                          0.608010\n",
      "#Lags Used                      16.000000\n",
      "Number of Observations Used    247.000000\n",
      "Critical Value (1%)             -3.457105\n",
      "Critical Value (5%)             -2.873314\n",
      "Critical Value (10%)            -2.573044\n",
      "dtype: float64\n",
      "Results of KPSS Test:\n",
      "Test Statistic            1.758345\n",
      "p-value                   0.010000\n",
      "Lags Used                10.000000\n",
      "Critical Value (10%)      0.347000\n",
      "Critical Value (5%)       0.463000\n",
      "Critical Value (2.5%)     0.574000\n",
      "Critical Value (1%)       0.739000\n",
      "dtype: float64\n"
     ]
    },
    {
     "name": "stderr",
     "output_type": "stream",
     "text": [
      "c:\\Users\\luizv\\anaconda3\\lib\\site-packages\\statsmodels\\tsa\\stattools.py:1906: InterpolationWarning: The test statistic is outside of the range of p-values available in the\n",
      "look-up table. The actual p-value is smaller than the p-value returned.\n",
      "\n",
      "  warnings.warn(\n"
     ]
    }
   ],
   "source": [
    "adf_test(selic_filtrado['Selic'])\n",
    "kpss_test(selic_filtrado['Selic'])"
   ]
  },
  {
   "attachments": {},
   "cell_type": "markdown",
   "id": "fa04dff8",
   "metadata": {},
   "source": [
    "### Os resultados dos testes de estacionariedade KPSS e ADF indicam a presença de raíz unitária para a Taxa Selic ###"
   ]
  },
  {
   "attachments": {},
   "cell_type": "markdown",
   "id": "9a3d8008",
   "metadata": {},
   "source": [
    "## 4. IBOVESPA ##"
   ]
  },
  {
   "cell_type": "code",
   "execution_count": 408,
   "id": "596ba2ef",
   "metadata": {},
   "outputs": [],
   "source": [
    "### Disponível em: https://br.investing.com/indices/bovespa-historical-data ###"
   ]
  },
  {
   "cell_type": "code",
   "execution_count": 257,
   "id": "4c5a0906",
   "metadata": {},
   "outputs": [],
   "source": [
    "ibov = pd.read_csv('ibov.csv', sep = ',', encoding = 'utf-8')"
   ]
  },
  {
   "cell_type": "code",
   "execution_count": 258,
   "id": "72b6d986",
   "metadata": {},
   "outputs": [
    {
     "data": {
      "text/html": [
       "<div>\n",
       "<style scoped>\n",
       "    .dataframe tbody tr th:only-of-type {\n",
       "        vertical-align: middle;\n",
       "    }\n",
       "\n",
       "    .dataframe tbody tr th {\n",
       "        vertical-align: top;\n",
       "    }\n",
       "\n",
       "    .dataframe thead th {\n",
       "        text-align: right;\n",
       "    }\n",
       "</style>\n",
       "<table border=\"1\" class=\"dataframe\">\n",
       "  <thead>\n",
       "    <tr style=\"text-align: right;\">\n",
       "      <th></th>\n",
       "      <th>Data</th>\n",
       "      <th>Último</th>\n",
       "      <th>Abertura</th>\n",
       "      <th>Máxima</th>\n",
       "      <th>Mínima</th>\n",
       "      <th>Vol.</th>\n",
       "      <th>Var%</th>\n",
       "    </tr>\n",
       "  </thead>\n",
       "  <tbody>\n",
       "    <tr>\n",
       "      <th>0</th>\n",
       "      <td>01.06.2023</td>\n",
       "      <td>118.087</td>\n",
       "      <td>108.339</td>\n",
       "      <td>120.519</td>\n",
       "      <td>108.335</td>\n",
       "      <td>262,94M</td>\n",
       "      <td>9,00%</td>\n",
       "    </tr>\n",
       "    <tr>\n",
       "      <th>1</th>\n",
       "      <td>01.05.2023</td>\n",
       "      <td>108.335</td>\n",
       "      <td>104.431</td>\n",
       "      <td>111.706</td>\n",
       "      <td>101.064</td>\n",
       "      <td>288,76M</td>\n",
       "      <td>3,74%</td>\n",
       "    </tr>\n",
       "    <tr>\n",
       "      <th>2</th>\n",
       "      <td>01.04.2023</td>\n",
       "      <td>104.432</td>\n",
       "      <td>101.883</td>\n",
       "      <td>108.277</td>\n",
       "      <td>99.898</td>\n",
       "      <td>218,34M</td>\n",
       "      <td>2,50%</td>\n",
       "    </tr>\n",
       "    <tr>\n",
       "      <th>3</th>\n",
       "      <td>01.03.2023</td>\n",
       "      <td>101.882</td>\n",
       "      <td>104.933</td>\n",
       "      <td>106.724</td>\n",
       "      <td>96.997</td>\n",
       "      <td>327,02M</td>\n",
       "      <td>-2,91%</td>\n",
       "    </tr>\n",
       "    <tr>\n",
       "      <th>4</th>\n",
       "      <td>01.02.2023</td>\n",
       "      <td>104.932</td>\n",
       "      <td>113.430</td>\n",
       "      <td>113.598</td>\n",
       "      <td>104.932</td>\n",
       "      <td>228,72M</td>\n",
       "      <td>-7,49%</td>\n",
       "    </tr>\n",
       "    <tr>\n",
       "      <th>...</th>\n",
       "      <td>...</td>\n",
       "      <td>...</td>\n",
       "      <td>...</td>\n",
       "      <td>...</td>\n",
       "      <td>...</td>\n",
       "      <td>...</td>\n",
       "      <td>...</td>\n",
       "    </tr>\n",
       "    <tr>\n",
       "      <th>284</th>\n",
       "      <td>01.10.1999</td>\n",
       "      <td>11.700</td>\n",
       "      <td>11.105</td>\n",
       "      <td>11.826</td>\n",
       "      <td>10.796</td>\n",
       "      <td>10,69B</td>\n",
       "      <td>5,35%</td>\n",
       "    </tr>\n",
       "    <tr>\n",
       "      <th>285</th>\n",
       "      <td>01.09.1999</td>\n",
       "      <td>11.106</td>\n",
       "      <td>10.583</td>\n",
       "      <td>11.735</td>\n",
       "      <td>10.583</td>\n",
       "      <td>13,67B</td>\n",
       "      <td>5,12%</td>\n",
       "    </tr>\n",
       "    <tr>\n",
       "      <th>286</th>\n",
       "      <td>01.08.1999</td>\n",
       "      <td>10.565</td>\n",
       "      <td>10.441</td>\n",
       "      <td>10.726</td>\n",
       "      <td>9.579</td>\n",
       "      <td>13,34B</td>\n",
       "      <td>1,18%</td>\n",
       "    </tr>\n",
       "    <tr>\n",
       "      <th>287</th>\n",
       "      <td>01.07.1999</td>\n",
       "      <td>10.442</td>\n",
       "      <td>11.634</td>\n",
       "      <td>11.996</td>\n",
       "      <td>10.345</td>\n",
       "      <td>9,61B</td>\n",
       "      <td>-10,19%</td>\n",
       "    </tr>\n",
       "    <tr>\n",
       "      <th>288</th>\n",
       "      <td>01.06.1999</td>\n",
       "      <td>11.627</td>\n",
       "      <td>11.090</td>\n",
       "      <td>12.118</td>\n",
       "      <td>10.742</td>\n",
       "      <td>11,81B</td>\n",
       "      <td>4,84%</td>\n",
       "    </tr>\n",
       "  </tbody>\n",
       "</table>\n",
       "<p>289 rows × 7 columns</p>\n",
       "</div>"
      ],
      "text/plain": [
       "           Data   Último  Abertura   Máxima   Mínima     Vol.     Var%\n",
       "0    01.06.2023  118.087   108.339  120.519  108.335  262,94M    9,00%\n",
       "1    01.05.2023  108.335   104.431  111.706  101.064  288,76M    3,74%\n",
       "2    01.04.2023  104.432   101.883  108.277   99.898  218,34M    2,50%\n",
       "3    01.03.2023  101.882   104.933  106.724   96.997  327,02M   -2,91%\n",
       "4    01.02.2023  104.932   113.430  113.598  104.932  228,72M   -7,49%\n",
       "..          ...      ...       ...      ...      ...      ...      ...\n",
       "284  01.10.1999   11.700    11.105   11.826   10.796   10,69B    5,35%\n",
       "285  01.09.1999   11.106    10.583   11.735   10.583   13,67B    5,12%\n",
       "286  01.08.1999   10.565    10.441   10.726    9.579   13,34B    1,18%\n",
       "287  01.07.1999   10.442    11.634   11.996   10.345    9,61B  -10,19%\n",
       "288  01.06.1999   11.627    11.090   12.118   10.742   11,81B    4,84%\n",
       "\n",
       "[289 rows x 7 columns]"
      ]
     },
     "execution_count": 258,
     "metadata": {},
     "output_type": "execute_result"
    }
   ],
   "source": [
    "ibov"
   ]
  },
  {
   "cell_type": "code",
   "execution_count": 259,
   "id": "a75bc784",
   "metadata": {},
   "outputs": [],
   "source": [
    "ibov = ibov.drop(['Último', 'Máxima', 'Mínima', 'Vol.', 'Var%'],axis = 1)"
   ]
  },
  {
   "cell_type": "code",
   "execution_count": 260,
   "id": "638a5f8b",
   "metadata": {},
   "outputs": [
    {
     "data": {
      "text/html": [
       "<div>\n",
       "<style scoped>\n",
       "    .dataframe tbody tr th:only-of-type {\n",
       "        vertical-align: middle;\n",
       "    }\n",
       "\n",
       "    .dataframe tbody tr th {\n",
       "        vertical-align: top;\n",
       "    }\n",
       "\n",
       "    .dataframe thead th {\n",
       "        text-align: right;\n",
       "    }\n",
       "</style>\n",
       "<table border=\"1\" class=\"dataframe\">\n",
       "  <thead>\n",
       "    <tr style=\"text-align: right;\">\n",
       "      <th></th>\n",
       "      <th>Data</th>\n",
       "      <th>Abertura</th>\n",
       "    </tr>\n",
       "  </thead>\n",
       "  <tbody>\n",
       "    <tr>\n",
       "      <th>0</th>\n",
       "      <td>01.06.2023</td>\n",
       "      <td>108.339</td>\n",
       "    </tr>\n",
       "    <tr>\n",
       "      <th>1</th>\n",
       "      <td>01.05.2023</td>\n",
       "      <td>104.431</td>\n",
       "    </tr>\n",
       "    <tr>\n",
       "      <th>2</th>\n",
       "      <td>01.04.2023</td>\n",
       "      <td>101.883</td>\n",
       "    </tr>\n",
       "    <tr>\n",
       "      <th>3</th>\n",
       "      <td>01.03.2023</td>\n",
       "      <td>104.933</td>\n",
       "    </tr>\n",
       "    <tr>\n",
       "      <th>4</th>\n",
       "      <td>01.02.2023</td>\n",
       "      <td>113.430</td>\n",
       "    </tr>\n",
       "    <tr>\n",
       "      <th>...</th>\n",
       "      <td>...</td>\n",
       "      <td>...</td>\n",
       "    </tr>\n",
       "    <tr>\n",
       "      <th>284</th>\n",
       "      <td>01.10.1999</td>\n",
       "      <td>11.105</td>\n",
       "    </tr>\n",
       "    <tr>\n",
       "      <th>285</th>\n",
       "      <td>01.09.1999</td>\n",
       "      <td>10.583</td>\n",
       "    </tr>\n",
       "    <tr>\n",
       "      <th>286</th>\n",
       "      <td>01.08.1999</td>\n",
       "      <td>10.441</td>\n",
       "    </tr>\n",
       "    <tr>\n",
       "      <th>287</th>\n",
       "      <td>01.07.1999</td>\n",
       "      <td>11.634</td>\n",
       "    </tr>\n",
       "    <tr>\n",
       "      <th>288</th>\n",
       "      <td>01.06.1999</td>\n",
       "      <td>11.090</td>\n",
       "    </tr>\n",
       "  </tbody>\n",
       "</table>\n",
       "<p>289 rows × 2 columns</p>\n",
       "</div>"
      ],
      "text/plain": [
       "           Data  Abertura\n",
       "0    01.06.2023   108.339\n",
       "1    01.05.2023   104.431\n",
       "2    01.04.2023   101.883\n",
       "3    01.03.2023   104.933\n",
       "4    01.02.2023   113.430\n",
       "..          ...       ...\n",
       "284  01.10.1999    11.105\n",
       "285  01.09.1999    10.583\n",
       "286  01.08.1999    10.441\n",
       "287  01.07.1999    11.634\n",
       "288  01.06.1999    11.090\n",
       "\n",
       "[289 rows x 2 columns]"
      ]
     },
     "execution_count": 260,
     "metadata": {},
     "output_type": "execute_result"
    }
   ],
   "source": [
    "ibov"
   ]
  },
  {
   "cell_type": "code",
   "execution_count": 261,
   "id": "4c18a6a6",
   "metadata": {},
   "outputs": [
    {
     "data": {
      "text/plain": [
       "Data         object\n",
       "Abertura    float64\n",
       "dtype: object"
      ]
     },
     "execution_count": 261,
     "metadata": {},
     "output_type": "execute_result"
    }
   ],
   "source": [
    "ibov.dtypes"
   ]
  },
  {
   "cell_type": "code",
   "execution_count": 262,
   "id": "4be650fe",
   "metadata": {},
   "outputs": [],
   "source": [
    "ibov['Data'] = pd.to_datetime(ibov['Data'], format='%d.%m.%Y')"
   ]
  },
  {
   "cell_type": "code",
   "execution_count": 263,
   "id": "a5c42951",
   "metadata": {},
   "outputs": [
    {
     "data": {
      "text/plain": [
       "Data        datetime64[ns]\n",
       "Abertura           float64\n",
       "dtype: object"
      ]
     },
     "execution_count": 263,
     "metadata": {},
     "output_type": "execute_result"
    }
   ],
   "source": [
    "ibov.dtypes"
   ]
  },
  {
   "cell_type": "code",
   "execution_count": 264,
   "id": "44b1b975",
   "metadata": {},
   "outputs": [],
   "source": [
    "ibov = ibov.set_index('Data')"
   ]
  },
  {
   "cell_type": "code",
   "execution_count": 265,
   "id": "70d27c54",
   "metadata": {
    "scrolled": false
   },
   "outputs": [
    {
     "data": {
      "text/html": [
       "<div>\n",
       "<style scoped>\n",
       "    .dataframe tbody tr th:only-of-type {\n",
       "        vertical-align: middle;\n",
       "    }\n",
       "\n",
       "    .dataframe tbody tr th {\n",
       "        vertical-align: top;\n",
       "    }\n",
       "\n",
       "    .dataframe thead th {\n",
       "        text-align: right;\n",
       "    }\n",
       "</style>\n",
       "<table border=\"1\" class=\"dataframe\">\n",
       "  <thead>\n",
       "    <tr style=\"text-align: right;\">\n",
       "      <th></th>\n",
       "      <th>Abertura</th>\n",
       "    </tr>\n",
       "    <tr>\n",
       "      <th>Data</th>\n",
       "      <th></th>\n",
       "    </tr>\n",
       "  </thead>\n",
       "  <tbody>\n",
       "    <tr>\n",
       "      <th>2023-06-01</th>\n",
       "      <td>108.339</td>\n",
       "    </tr>\n",
       "    <tr>\n",
       "      <th>2023-05-01</th>\n",
       "      <td>104.431</td>\n",
       "    </tr>\n",
       "    <tr>\n",
       "      <th>2023-04-01</th>\n",
       "      <td>101.883</td>\n",
       "    </tr>\n",
       "    <tr>\n",
       "      <th>2023-03-01</th>\n",
       "      <td>104.933</td>\n",
       "    </tr>\n",
       "    <tr>\n",
       "      <th>2023-02-01</th>\n",
       "      <td>113.430</td>\n",
       "    </tr>\n",
       "    <tr>\n",
       "      <th>...</th>\n",
       "      <td>...</td>\n",
       "    </tr>\n",
       "    <tr>\n",
       "      <th>1999-10-01</th>\n",
       "      <td>11.105</td>\n",
       "    </tr>\n",
       "    <tr>\n",
       "      <th>1999-09-01</th>\n",
       "      <td>10.583</td>\n",
       "    </tr>\n",
       "    <tr>\n",
       "      <th>1999-08-01</th>\n",
       "      <td>10.441</td>\n",
       "    </tr>\n",
       "    <tr>\n",
       "      <th>1999-07-01</th>\n",
       "      <td>11.634</td>\n",
       "    </tr>\n",
       "    <tr>\n",
       "      <th>1999-06-01</th>\n",
       "      <td>11.090</td>\n",
       "    </tr>\n",
       "  </tbody>\n",
       "</table>\n",
       "<p>289 rows × 1 columns</p>\n",
       "</div>"
      ],
      "text/plain": [
       "            Abertura\n",
       "Data                \n",
       "2023-06-01   108.339\n",
       "2023-05-01   104.431\n",
       "2023-04-01   101.883\n",
       "2023-03-01   104.933\n",
       "2023-02-01   113.430\n",
       "...              ...\n",
       "1999-10-01    11.105\n",
       "1999-09-01    10.583\n",
       "1999-08-01    10.441\n",
       "1999-07-01    11.634\n",
       "1999-06-01    11.090\n",
       "\n",
       "[289 rows x 1 columns]"
      ]
     },
     "execution_count": 265,
     "metadata": {},
     "output_type": "execute_result"
    }
   ],
   "source": [
    "ibov"
   ]
  },
  {
   "cell_type": "code",
   "execution_count": 266,
   "id": "6d376010",
   "metadata": {},
   "outputs": [
    {
     "data": {
      "image/png": "[encoded data removed]",
      "text/plain": [
       "<Figure size 1800x720 with 1 Axes>"
      ]
     },
     "metadata": {
      "needs_background": "light"
     },
     "output_type": "display_data"
    }
   ],
   "source": [
    "fig, axs = plt.subplots(figsize=(25,10))\n",
    "ibov['Abertura'].plot(ax=axs)\n",
    "axs.set_xlabel('Data')\n",
    "plt.show()"
   ]
  },
  {
   "attachments": {},
   "cell_type": "markdown",
   "id": "88c05df9",
   "metadata": {},
   "source": [
    "### Testes de Raíz Unitária ###"
   ]
  },
  {
   "cell_type": "code",
   "execution_count": 267,
   "id": "93000d07",
   "metadata": {},
   "outputs": [
    {
     "name": "stdout",
     "output_type": "stream",
     "text": [
      "Results of Dickey-Fuller Test:\n",
      "Test Statistic                  -1.209668\n",
      "p-value                          0.669423\n",
      "#Lags Used                       2.000000\n",
      "Number of Observations Used    286.000000\n",
      "Critical Value (1%)             -3.453423\n",
      "Critical Value (5%)             -2.871699\n",
      "Critical Value (10%)            -2.572183\n",
      "dtype: float64\n"
     ]
    }
   ],
   "source": [
    "adf_test(ibov[\"Abertura\"])"
   ]
  },
  {
   "attachments": {},
   "cell_type": "markdown",
   "id": "d9164fd0",
   "metadata": {},
   "source": [
    "### Para o teste ADF, o valor da estatística do teste é de -2.47, o que nos deixa fora da região crítica para todos os valores. Sendo assim, falhamos em rejeitar a hipótese nula, o que indica uma raíz unitária na série. ###"
   ]
  },
  {
   "cell_type": "code",
   "execution_count": 268,
   "id": "7932bc4e",
   "metadata": {},
   "outputs": [
    {
     "name": "stdout",
     "output_type": "stream",
     "text": [
      "Results of KPSS Test:\n",
      "Test Statistic            2.289168\n",
      "p-value                   0.010000\n",
      "Lags Used                10.000000\n",
      "Critical Value (10%)      0.347000\n",
      "Critical Value (5%)       0.463000\n",
      "Critical Value (2.5%)     0.574000\n",
      "Critical Value (1%)       0.739000\n",
      "dtype: float64\n"
     ]
    },
    {
     "name": "stderr",
     "output_type": "stream",
     "text": [
      "c:\\Users\\luizv\\anaconda3\\lib\\site-packages\\statsmodels\\tsa\\stattools.py:1906: InterpolationWarning: The test statistic is outside of the range of p-values available in the\n",
      "look-up table. The actual p-value is smaller than the p-value returned.\n",
      "\n",
      "  warnings.warn(\n"
     ]
    }
   ],
   "source": [
    "kpss_test(ibov['Abertura'])"
   ]
  },
  {
   "attachments": {},
   "cell_type": "markdown",
   "id": "8dde452d",
   "metadata": {},
   "source": [
    "### Para o teste KPSS, com o valor da estatística do teste de 2.54, dado que está dentro da região crítica para todas as significâncias, rejeitamos a hipótese nula, que é de não haver raíz unitária ###"
   ]
  },
  {
   "cell_type": "code",
   "execution_count": 269,
   "id": "c0540827",
   "metadata": {},
   "outputs": [
    {
     "data": {
      "image/png": "[encoded data removed]",
      "text/plain": [
       "<Figure size 432x288 with 1 Axes>"
      ]
     },
     "metadata": {
      "needs_background": "light"
     },
     "output_type": "display_data"
    },
    {
     "data": {
      "image/png": "[encoded data removed]",
      "text/plain": [
       "<Figure size 432x288 with 1 Axes>"
      ]
     },
     "metadata": {
      "needs_background": "light"
     },
     "output_type": "display_data"
    }
   ],
   "source": [
    "pacf_ibov = plot_pacf(ibov['Abertura'])\n",
    "acf_ibov = plot_acf(ibov['Abertura'])"
   ]
  },
  {
   "attachments": {},
   "cell_type": "markdown",
   "id": "0ee30c41",
   "metadata": {},
   "source": [
    "## 5. EMBI - Risco Brasil ##"
   ]
  },
  {
   "cell_type": "code",
   "execution_count": 473,
   "id": "31e61f54",
   "metadata": {},
   "outputs": [],
   "source": [
    "### Disponível em: http://www.ipeadata.gov.br/Default.aspx ###"
   ]
  },
  {
   "cell_type": "code",
   "execution_count": 483,
   "id": "85317eb1",
   "metadata": {},
   "outputs": [],
   "source": [
    "embi = pd.read_csv('embi_diario.csv', sep = ';', encoding = 'utf-8')"
   ]
  },
  {
   "cell_type": "code",
   "execution_count": 484,
   "id": "d8ec450c",
   "metadata": {},
   "outputs": [
    {
     "data": {
      "text/html": [
       "<div>\n",
       "<style scoped>\n",
       "    .dataframe tbody tr th:only-of-type {\n",
       "        vertical-align: middle;\n",
       "    }\n",
       "\n",
       "    .dataframe tbody tr th {\n",
       "        vertical-align: top;\n",
       "    }\n",
       "\n",
       "    .dataframe thead th {\n",
       "        text-align: right;\n",
       "    }\n",
       "</style>\n",
       "<table border=\"1\" class=\"dataframe\">\n",
       "  <thead>\n",
       "    <tr style=\"text-align: right;\">\n",
       "      <th></th>\n",
       "      <th>Data</th>\n",
       "      <th>EMBI + Risco-Brasil - - - JP Morgan - JPM366_EMBI366</th>\n",
       "      <th>Unnamed: 2</th>\n",
       "    </tr>\n",
       "  </thead>\n",
       "  <tbody>\n",
       "    <tr>\n",
       "      <th>0</th>\n",
       "      <td>29/04/1994</td>\n",
       "      <td>1120.0</td>\n",
       "      <td>NaN</td>\n",
       "    </tr>\n",
       "    <tr>\n",
       "      <th>1</th>\n",
       "      <td>30/04/1994</td>\n",
       "      <td>NaN</td>\n",
       "      <td>NaN</td>\n",
       "    </tr>\n",
       "    <tr>\n",
       "      <th>2</th>\n",
       "      <td>01/05/1994</td>\n",
       "      <td>NaN</td>\n",
       "      <td>NaN</td>\n",
       "    </tr>\n",
       "    <tr>\n",
       "      <th>3</th>\n",
       "      <td>02/05/1994</td>\n",
       "      <td>1131.0</td>\n",
       "      <td>NaN</td>\n",
       "    </tr>\n",
       "    <tr>\n",
       "      <th>4</th>\n",
       "      <td>03/05/1994</td>\n",
       "      <td>1081.0</td>\n",
       "      <td>NaN</td>\n",
       "    </tr>\n",
       "    <tr>\n",
       "      <th>...</th>\n",
       "      <td>...</td>\n",
       "      <td>...</td>\n",
       "      <td>...</td>\n",
       "    </tr>\n",
       "    <tr>\n",
       "      <th>10642</th>\n",
       "      <td>18/06/2023</td>\n",
       "      <td>NaN</td>\n",
       "      <td>NaN</td>\n",
       "    </tr>\n",
       "    <tr>\n",
       "      <th>10643</th>\n",
       "      <td>19/06/2023</td>\n",
       "      <td>NaN</td>\n",
       "      <td>NaN</td>\n",
       "    </tr>\n",
       "    <tr>\n",
       "      <th>10644</th>\n",
       "      <td>20/06/2023</td>\n",
       "      <td>231.0</td>\n",
       "      <td>NaN</td>\n",
       "    </tr>\n",
       "    <tr>\n",
       "      <th>10645</th>\n",
       "      <td>21/06/2023</td>\n",
       "      <td>231.0</td>\n",
       "      <td>NaN</td>\n",
       "    </tr>\n",
       "    <tr>\n",
       "      <th>10646</th>\n",
       "      <td>22/06/2023</td>\n",
       "      <td>228.0</td>\n",
       "      <td>NaN</td>\n",
       "    </tr>\n",
       "  </tbody>\n",
       "</table>\n",
       "<p>10647 rows × 3 columns</p>\n",
       "</div>"
      ],
      "text/plain": [
       "             Data  EMBI + Risco-Brasil - - - JP Morgan - JPM366_EMBI366  \\\n",
       "0      29/04/1994                                             1120.0      \n",
       "1      30/04/1994                                                NaN      \n",
       "2      01/05/1994                                                NaN      \n",
       "3      02/05/1994                                             1131.0      \n",
       "4      03/05/1994                                             1081.0      \n",
       "...           ...                                                ...      \n",
       "10642  18/06/2023                                                NaN      \n",
       "10643  19/06/2023                                                NaN      \n",
       "10644  20/06/2023                                              231.0      \n",
       "10645  21/06/2023                                              231.0      \n",
       "10646  22/06/2023                                              228.0      \n",
       "\n",
       "       Unnamed: 2  \n",
       "0             NaN  \n",
       "1             NaN  \n",
       "2             NaN  \n",
       "3             NaN  \n",
       "4             NaN  \n",
       "...           ...  \n",
       "10642         NaN  \n",
       "10643         NaN  \n",
       "10644         NaN  \n",
       "10645         NaN  \n",
       "10646         NaN  \n",
       "\n",
       "[10647 rows x 3 columns]"
      ]
     },
     "execution_count": 484,
     "metadata": {},
     "output_type": "execute_result"
    }
   ],
   "source": [
    "embi"
   ]
  },
  {
   "cell_type": "code",
   "execution_count": 485,
   "id": "c190dc44",
   "metadata": {},
   "outputs": [],
   "source": [
    "embi = embi.drop('Unnamed: 2', axis = 1)"
   ]
  },
  {
   "cell_type": "code",
   "execution_count": 486,
   "id": "9e0f94cf",
   "metadata": {},
   "outputs": [
    {
     "data": {
      "text/html": [
       "<div>\n",
       "<style scoped>\n",
       "    .dataframe tbody tr th:only-of-type {\n",
       "        vertical-align: middle;\n",
       "    }\n",
       "\n",
       "    .dataframe tbody tr th {\n",
       "        vertical-align: top;\n",
       "    }\n",
       "\n",
       "    .dataframe thead th {\n",
       "        text-align: right;\n",
       "    }\n",
       "</style>\n",
       "<table border=\"1\" class=\"dataframe\">\n",
       "  <thead>\n",
       "    <tr style=\"text-align: right;\">\n",
       "      <th></th>\n",
       "      <th>Data</th>\n",
       "      <th>EMBI + Risco-Brasil - - - JP Morgan - JPM366_EMBI366</th>\n",
       "    </tr>\n",
       "  </thead>\n",
       "  <tbody>\n",
       "    <tr>\n",
       "      <th>0</th>\n",
       "      <td>29/04/1994</td>\n",
       "      <td>1120.0</td>\n",
       "    </tr>\n",
       "    <tr>\n",
       "      <th>1</th>\n",
       "      <td>30/04/1994</td>\n",
       "      <td>NaN</td>\n",
       "    </tr>\n",
       "    <tr>\n",
       "      <th>2</th>\n",
       "      <td>01/05/1994</td>\n",
       "      <td>NaN</td>\n",
       "    </tr>\n",
       "    <tr>\n",
       "      <th>3</th>\n",
       "      <td>02/05/1994</td>\n",
       "      <td>1131.0</td>\n",
       "    </tr>\n",
       "    <tr>\n",
       "      <th>4</th>\n",
       "      <td>03/05/1994</td>\n",
       "      <td>1081.0</td>\n",
       "    </tr>\n",
       "    <tr>\n",
       "      <th>...</th>\n",
       "      <td>...</td>\n",
       "      <td>...</td>\n",
       "    </tr>\n",
       "    <tr>\n",
       "      <th>10642</th>\n",
       "      <td>18/06/2023</td>\n",
       "      <td>NaN</td>\n",
       "    </tr>\n",
       "    <tr>\n",
       "      <th>10643</th>\n",
       "      <td>19/06/2023</td>\n",
       "      <td>NaN</td>\n",
       "    </tr>\n",
       "    <tr>\n",
       "      <th>10644</th>\n",
       "      <td>20/06/2023</td>\n",
       "      <td>231.0</td>\n",
       "    </tr>\n",
       "    <tr>\n",
       "      <th>10645</th>\n",
       "      <td>21/06/2023</td>\n",
       "      <td>231.0</td>\n",
       "    </tr>\n",
       "    <tr>\n",
       "      <th>10646</th>\n",
       "      <td>22/06/2023</td>\n",
       "      <td>228.0</td>\n",
       "    </tr>\n",
       "  </tbody>\n",
       "</table>\n",
       "<p>10647 rows × 2 columns</p>\n",
       "</div>"
      ],
      "text/plain": [
       "             Data  EMBI + Risco-Brasil - - - JP Morgan - JPM366_EMBI366\n",
       "0      29/04/1994                                             1120.0   \n",
       "1      30/04/1994                                                NaN   \n",
       "2      01/05/1994                                                NaN   \n",
       "3      02/05/1994                                             1131.0   \n",
       "4      03/05/1994                                             1081.0   \n",
       "...           ...                                                ...   \n",
       "10642  18/06/2023                                                NaN   \n",
       "10643  19/06/2023                                                NaN   \n",
       "10644  20/06/2023                                              231.0   \n",
       "10645  21/06/2023                                              231.0   \n",
       "10646  22/06/2023                                              228.0   \n",
       "\n",
       "[10647 rows x 2 columns]"
      ]
     },
     "execution_count": 486,
     "metadata": {},
     "output_type": "execute_result"
    }
   ],
   "source": [
    "embi"
   ]
  },
  {
   "cell_type": "code",
   "execution_count": 487,
   "id": "1329a1cb",
   "metadata": {},
   "outputs": [],
   "source": [
    "embi = embi.rename(columns={'EMBI + Risco-Brasil - - - JP Morgan - JPM366_EMBI366': 'Embi'})"
   ]
  },
  {
   "cell_type": "code",
   "execution_count": 488,
   "id": "04c97008",
   "metadata": {},
   "outputs": [
    {
     "data": {
      "text/html": [
       "<div>\n",
       "<style scoped>\n",
       "    .dataframe tbody tr th:only-of-type {\n",
       "        vertical-align: middle;\n",
       "    }\n",
       "\n",
       "    .dataframe tbody tr th {\n",
       "        vertical-align: top;\n",
       "    }\n",
       "\n",
       "    .dataframe thead th {\n",
       "        text-align: right;\n",
       "    }\n",
       "</style>\n",
       "<table border=\"1\" class=\"dataframe\">\n",
       "  <thead>\n",
       "    <tr style=\"text-align: right;\">\n",
       "      <th></th>\n",
       "      <th>Data</th>\n",
       "      <th>Embi</th>\n",
       "    </tr>\n",
       "  </thead>\n",
       "  <tbody>\n",
       "    <tr>\n",
       "      <th>0</th>\n",
       "      <td>29/04/1994</td>\n",
       "      <td>1120.0</td>\n",
       "    </tr>\n",
       "    <tr>\n",
       "      <th>1</th>\n",
       "      <td>30/04/1994</td>\n",
       "      <td>NaN</td>\n",
       "    </tr>\n",
       "    <tr>\n",
       "      <th>2</th>\n",
       "      <td>01/05/1994</td>\n",
       "      <td>NaN</td>\n",
       "    </tr>\n",
       "    <tr>\n",
       "      <th>3</th>\n",
       "      <td>02/05/1994</td>\n",
       "      <td>1131.0</td>\n",
       "    </tr>\n",
       "    <tr>\n",
       "      <th>4</th>\n",
       "      <td>03/05/1994</td>\n",
       "      <td>1081.0</td>\n",
       "    </tr>\n",
       "    <tr>\n",
       "      <th>...</th>\n",
       "      <td>...</td>\n",
       "      <td>...</td>\n",
       "    </tr>\n",
       "    <tr>\n",
       "      <th>10642</th>\n",
       "      <td>18/06/2023</td>\n",
       "      <td>NaN</td>\n",
       "    </tr>\n",
       "    <tr>\n",
       "      <th>10643</th>\n",
       "      <td>19/06/2023</td>\n",
       "      <td>NaN</td>\n",
       "    </tr>\n",
       "    <tr>\n",
       "      <th>10644</th>\n",
       "      <td>20/06/2023</td>\n",
       "      <td>231.0</td>\n",
       "    </tr>\n",
       "    <tr>\n",
       "      <th>10645</th>\n",
       "      <td>21/06/2023</td>\n",
       "      <td>231.0</td>\n",
       "    </tr>\n",
       "    <tr>\n",
       "      <th>10646</th>\n",
       "      <td>22/06/2023</td>\n",
       "      <td>228.0</td>\n",
       "    </tr>\n",
       "  </tbody>\n",
       "</table>\n",
       "<p>10647 rows × 2 columns</p>\n",
       "</div>"
      ],
      "text/plain": [
       "             Data    Embi\n",
       "0      29/04/1994  1120.0\n",
       "1      30/04/1994     NaN\n",
       "2      01/05/1994     NaN\n",
       "3      02/05/1994  1131.0\n",
       "4      03/05/1994  1081.0\n",
       "...           ...     ...\n",
       "10642  18/06/2023     NaN\n",
       "10643  19/06/2023     NaN\n",
       "10644  20/06/2023   231.0\n",
       "10645  21/06/2023   231.0\n",
       "10646  22/06/2023   228.0\n",
       "\n",
       "[10647 rows x 2 columns]"
      ]
     },
     "execution_count": 488,
     "metadata": {},
     "output_type": "execute_result"
    }
   ],
   "source": [
    "embi"
   ]
  },
  {
   "cell_type": "code",
   "execution_count": 489,
   "id": "efe3388f",
   "metadata": {},
   "outputs": [
    {
     "name": "stdout",
     "output_type": "stream",
     "text": [
      "<class 'pandas.core.frame.DataFrame'>\n",
      "RangeIndex: 10647 entries, 0 to 10646\n",
      "Data columns (total 2 columns):\n",
      " #   Column  Non-Null Count  Dtype  \n",
      "---  ------  --------------  -----  \n",
      " 0   Data    10647 non-null  object \n",
      " 1   Embi    7481 non-null   float64\n",
      "dtypes: float64(1), object(1)\n",
      "memory usage: 166.5+ KB\n"
     ]
    }
   ],
   "source": [
    "embi.info()"
   ]
  },
  {
   "cell_type": "code",
   "execution_count": 490,
   "id": "b3906c71",
   "metadata": {},
   "outputs": [],
   "source": [
    "embi = embi.dropna(inplace = False, axis = 0)"
   ]
  },
  {
   "cell_type": "code",
   "execution_count": 491,
   "id": "ab3438be",
   "metadata": {},
   "outputs": [
    {
     "data": {
      "text/html": [
       "<div>\n",
       "<style scoped>\n",
       "    .dataframe tbody tr th:only-of-type {\n",
       "        vertical-align: middle;\n",
       "    }\n",
       "\n",
       "    .dataframe tbody tr th {\n",
       "        vertical-align: top;\n",
       "    }\n",
       "\n",
       "    .dataframe thead th {\n",
       "        text-align: right;\n",
       "    }\n",
       "</style>\n",
       "<table border=\"1\" class=\"dataframe\">\n",
       "  <thead>\n",
       "    <tr style=\"text-align: right;\">\n",
       "      <th></th>\n",
       "      <th>Data</th>\n",
       "      <th>Embi</th>\n",
       "    </tr>\n",
       "  </thead>\n",
       "  <tbody>\n",
       "    <tr>\n",
       "      <th>0</th>\n",
       "      <td>29/04/1994</td>\n",
       "      <td>1120.0</td>\n",
       "    </tr>\n",
       "    <tr>\n",
       "      <th>3</th>\n",
       "      <td>02/05/1994</td>\n",
       "      <td>1131.0</td>\n",
       "    </tr>\n",
       "    <tr>\n",
       "      <th>4</th>\n",
       "      <td>03/05/1994</td>\n",
       "      <td>1081.0</td>\n",
       "    </tr>\n",
       "    <tr>\n",
       "      <th>5</th>\n",
       "      <td>04/05/1994</td>\n",
       "      <td>1083.0</td>\n",
       "    </tr>\n",
       "    <tr>\n",
       "      <th>6</th>\n",
       "      <td>05/05/1994</td>\n",
       "      <td>1105.0</td>\n",
       "    </tr>\n",
       "    <tr>\n",
       "      <th>...</th>\n",
       "      <td>...</td>\n",
       "      <td>...</td>\n",
       "    </tr>\n",
       "    <tr>\n",
       "      <th>10639</th>\n",
       "      <td>15/06/2023</td>\n",
       "      <td>230.0</td>\n",
       "    </tr>\n",
       "    <tr>\n",
       "      <th>10640</th>\n",
       "      <td>16/06/2023</td>\n",
       "      <td>228.0</td>\n",
       "    </tr>\n",
       "    <tr>\n",
       "      <th>10644</th>\n",
       "      <td>20/06/2023</td>\n",
       "      <td>231.0</td>\n",
       "    </tr>\n",
       "    <tr>\n",
       "      <th>10645</th>\n",
       "      <td>21/06/2023</td>\n",
       "      <td>231.0</td>\n",
       "    </tr>\n",
       "    <tr>\n",
       "      <th>10646</th>\n",
       "      <td>22/06/2023</td>\n",
       "      <td>228.0</td>\n",
       "    </tr>\n",
       "  </tbody>\n",
       "</table>\n",
       "<p>7481 rows × 2 columns</p>\n",
       "</div>"
      ],
      "text/plain": [
       "             Data    Embi\n",
       "0      29/04/1994  1120.0\n",
       "3      02/05/1994  1131.0\n",
       "4      03/05/1994  1081.0\n",
       "5      04/05/1994  1083.0\n",
       "6      05/05/1994  1105.0\n",
       "...           ...     ...\n",
       "10639  15/06/2023   230.0\n",
       "10640  16/06/2023   228.0\n",
       "10644  20/06/2023   231.0\n",
       "10645  21/06/2023   231.0\n",
       "10646  22/06/2023   228.0\n",
       "\n",
       "[7481 rows x 2 columns]"
      ]
     },
     "execution_count": 491,
     "metadata": {},
     "output_type": "execute_result"
    }
   ],
   "source": [
    "embi"
   ]
  },
  {
   "cell_type": "code",
   "execution_count": 492,
   "id": "81bd46bf",
   "metadata": {},
   "outputs": [
    {
     "data": {
      "text/plain": [
       "Data     object\n",
       "Embi    float64\n",
       "dtype: object"
      ]
     },
     "execution_count": 492,
     "metadata": {},
     "output_type": "execute_result"
    }
   ],
   "source": [
    "embi.dtypes"
   ]
  },
  {
   "cell_type": "code",
   "execution_count": 494,
   "id": "9d5cf76e",
   "metadata": {},
   "outputs": [
    {
     "name": "stderr",
     "output_type": "stream",
     "text": [
      "C:\\Users\\luizv\\AppData\\Local\\Temp/ipykernel_40844/2535128852.py:1: SettingWithCopyWarning: \n",
      "A value is trying to be set on a copy of a slice from a DataFrame.\n",
      "Try using .loc[row_indexer,col_indexer] = value instead\n",
      "\n",
      "See the caveats in the documentation: https://pandas.pydata.org/pandas-docs/stable/user_guide/indexing.html#returning-a-view-versus-a-copy\n",
      "  embi['Data'] = pd.to_datetime(embi['Data'], format='%d/%m/%Y')\n"
     ]
    }
   ],
   "source": [
    "embi['Data'] = pd.to_datetime(embi['Data'], format='%d/%m/%Y')"
   ]
  },
  {
   "cell_type": "code",
   "execution_count": 495,
   "id": "bc7db7b9",
   "metadata": {},
   "outputs": [
    {
     "data": {
      "text/html": [
       "<div>\n",
       "<style scoped>\n",
       "    .dataframe tbody tr th:only-of-type {\n",
       "        vertical-align: middle;\n",
       "    }\n",
       "\n",
       "    .dataframe tbody tr th {\n",
       "        vertical-align: top;\n",
       "    }\n",
       "\n",
       "    .dataframe thead th {\n",
       "        text-align: right;\n",
       "    }\n",
       "</style>\n",
       "<table border=\"1\" class=\"dataframe\">\n",
       "  <thead>\n",
       "    <tr style=\"text-align: right;\">\n",
       "      <th></th>\n",
       "      <th>Data</th>\n",
       "      <th>Embi</th>\n",
       "    </tr>\n",
       "  </thead>\n",
       "  <tbody>\n",
       "    <tr>\n",
       "      <th>0</th>\n",
       "      <td>1994-04-29</td>\n",
       "      <td>1120.0</td>\n",
       "    </tr>\n",
       "    <tr>\n",
       "      <th>3</th>\n",
       "      <td>1994-05-02</td>\n",
       "      <td>1131.0</td>\n",
       "    </tr>\n",
       "    <tr>\n",
       "      <th>4</th>\n",
       "      <td>1994-05-03</td>\n",
       "      <td>1081.0</td>\n",
       "    </tr>\n",
       "    <tr>\n",
       "      <th>5</th>\n",
       "      <td>1994-05-04</td>\n",
       "      <td>1083.0</td>\n",
       "    </tr>\n",
       "    <tr>\n",
       "      <th>6</th>\n",
       "      <td>1994-05-05</td>\n",
       "      <td>1105.0</td>\n",
       "    </tr>\n",
       "    <tr>\n",
       "      <th>...</th>\n",
       "      <td>...</td>\n",
       "      <td>...</td>\n",
       "    </tr>\n",
       "    <tr>\n",
       "      <th>10639</th>\n",
       "      <td>2023-06-15</td>\n",
       "      <td>230.0</td>\n",
       "    </tr>\n",
       "    <tr>\n",
       "      <th>10640</th>\n",
       "      <td>2023-06-16</td>\n",
       "      <td>228.0</td>\n",
       "    </tr>\n",
       "    <tr>\n",
       "      <th>10644</th>\n",
       "      <td>2023-06-20</td>\n",
       "      <td>231.0</td>\n",
       "    </tr>\n",
       "    <tr>\n",
       "      <th>10645</th>\n",
       "      <td>2023-06-21</td>\n",
       "      <td>231.0</td>\n",
       "    </tr>\n",
       "    <tr>\n",
       "      <th>10646</th>\n",
       "      <td>2023-06-22</td>\n",
       "      <td>228.0</td>\n",
       "    </tr>\n",
       "  </tbody>\n",
       "</table>\n",
       "<p>7481 rows × 2 columns</p>\n",
       "</div>"
      ],
      "text/plain": [
       "            Data    Embi\n",
       "0     1994-04-29  1120.0\n",
       "3     1994-05-02  1131.0\n",
       "4     1994-05-03  1081.0\n",
       "5     1994-05-04  1083.0\n",
       "6     1994-05-05  1105.0\n",
       "...          ...     ...\n",
       "10639 2023-06-15   230.0\n",
       "10640 2023-06-16   228.0\n",
       "10644 2023-06-20   231.0\n",
       "10645 2023-06-21   231.0\n",
       "10646 2023-06-22   228.0\n",
       "\n",
       "[7481 rows x 2 columns]"
      ]
     },
     "execution_count": 495,
     "metadata": {},
     "output_type": "execute_result"
    }
   ],
   "source": [
    "embi"
   ]
  },
  {
   "cell_type": "code",
   "execution_count": 496,
   "id": "3b6847b6",
   "metadata": {},
   "outputs": [],
   "source": [
    "embi = embi.set_index('Data')"
   ]
  },
  {
   "cell_type": "code",
   "execution_count": 497,
   "id": "8afed2ab",
   "metadata": {},
   "outputs": [
    {
     "data": {
      "text/html": [
       "<div>\n",
       "<style scoped>\n",
       "    .dataframe tbody tr th:only-of-type {\n",
       "        vertical-align: middle;\n",
       "    }\n",
       "\n",
       "    .dataframe tbody tr th {\n",
       "        vertical-align: top;\n",
       "    }\n",
       "\n",
       "    .dataframe thead th {\n",
       "        text-align: right;\n",
       "    }\n",
       "</style>\n",
       "<table border=\"1\" class=\"dataframe\">\n",
       "  <thead>\n",
       "    <tr style=\"text-align: right;\">\n",
       "      <th></th>\n",
       "      <th>Embi</th>\n",
       "    </tr>\n",
       "    <tr>\n",
       "      <th>Data</th>\n",
       "      <th></th>\n",
       "    </tr>\n",
       "  </thead>\n",
       "  <tbody>\n",
       "    <tr>\n",
       "      <th>1994-04-29</th>\n",
       "      <td>1120.0</td>\n",
       "    </tr>\n",
       "    <tr>\n",
       "      <th>1994-05-02</th>\n",
       "      <td>1131.0</td>\n",
       "    </tr>\n",
       "    <tr>\n",
       "      <th>1994-05-03</th>\n",
       "      <td>1081.0</td>\n",
       "    </tr>\n",
       "    <tr>\n",
       "      <th>1994-05-04</th>\n",
       "      <td>1083.0</td>\n",
       "    </tr>\n",
       "    <tr>\n",
       "      <th>1994-05-05</th>\n",
       "      <td>1105.0</td>\n",
       "    </tr>\n",
       "    <tr>\n",
       "      <th>...</th>\n",
       "      <td>...</td>\n",
       "    </tr>\n",
       "    <tr>\n",
       "      <th>2023-06-15</th>\n",
       "      <td>230.0</td>\n",
       "    </tr>\n",
       "    <tr>\n",
       "      <th>2023-06-16</th>\n",
       "      <td>228.0</td>\n",
       "    </tr>\n",
       "    <tr>\n",
       "      <th>2023-06-20</th>\n",
       "      <td>231.0</td>\n",
       "    </tr>\n",
       "    <tr>\n",
       "      <th>2023-06-21</th>\n",
       "      <td>231.0</td>\n",
       "    </tr>\n",
       "    <tr>\n",
       "      <th>2023-06-22</th>\n",
       "      <td>228.0</td>\n",
       "    </tr>\n",
       "  </tbody>\n",
       "</table>\n",
       "<p>7481 rows × 1 columns</p>\n",
       "</div>"
      ],
      "text/plain": [
       "              Embi\n",
       "Data              \n",
       "1994-04-29  1120.0\n",
       "1994-05-02  1131.0\n",
       "1994-05-03  1081.0\n",
       "1994-05-04  1083.0\n",
       "1994-05-05  1105.0\n",
       "...            ...\n",
       "2023-06-15   230.0\n",
       "2023-06-16   228.0\n",
       "2023-06-20   231.0\n",
       "2023-06-21   231.0\n",
       "2023-06-22   228.0\n",
       "\n",
       "[7481 rows x 1 columns]"
      ]
     },
     "execution_count": 497,
     "metadata": {},
     "output_type": "execute_result"
    }
   ],
   "source": [
    "embi"
   ]
  },
  {
   "cell_type": "code",
   "execution_count": 504,
   "id": "eefecb68",
   "metadata": {},
   "outputs": [
    {
     "data": {
      "image/png": "[encoded data removed]",
      "text/plain": [
       "<Figure size 2160x720 with 1 Axes>"
      ]
     },
     "metadata": {
      "needs_background": "light"
     },
     "output_type": "display_data"
    }
   ],
   "source": [
    "fig, axs = plt.subplots(figsize=(30,10))\n",
    "embi['Embi'].plot(ax=axs)\n",
    "axs.set_xlabel('Data')\n",
    "plt.show()"
   ]
  },
  {
   "cell_type": "code",
   "execution_count": 500,
   "id": "1792c0ec",
   "metadata": {},
   "outputs": [
    {
     "name": "stdout",
     "output_type": "stream",
     "text": [
      "Results of Dickey-Fuller Test:\n",
      "Test Statistic                   -3.022005\n",
      "p-value                           0.032890\n",
      "#Lags Used                       36.000000\n",
      "Number of Observations Used    7444.000000\n",
      "Critical Value (1%)              -3.431229\n",
      "Critical Value (5%)              -2.861928\n",
      "Critical Value (10%)             -2.566977\n",
      "dtype: float64\n"
     ]
    }
   ],
   "source": [
    "adf_test(embi[\"Embi\"])"
   ]
  },
  {
   "attachments": {},
   "cell_type": "markdown",
   "id": "1df56dca",
   "metadata": {},
   "source": [
    "### Para o teste ADF, para os valores críticos a níveis de 10 e 5%, rejeitamos a hipotese nula de uma raíz unitária e, para 1% falhamos em rejeitar a hipótese nula, indicando a existência de uma raíz unitária ###"
   ]
  },
  {
   "cell_type": "code",
   "execution_count": 502,
   "id": "988c4f1e",
   "metadata": {},
   "outputs": [
    {
     "name": "stdout",
     "output_type": "stream",
     "text": [
      "Results of KPSS Test:\n",
      "Test Statistic            6.894638\n",
      "p-value                   0.010000\n",
      "Lags Used                53.000000\n",
      "Critical Value (10%)      0.347000\n",
      "Critical Value (5%)       0.463000\n",
      "Critical Value (2.5%)     0.574000\n",
      "Critical Value (1%)       0.739000\n",
      "dtype: float64\n"
     ]
    },
    {
     "name": "stderr",
     "output_type": "stream",
     "text": [
      "C:\\Users\\luizv\\anaconda3\\lib\\site-packages\\statsmodels\\tsa\\stattools.py:1906: InterpolationWarning: The test statistic is outside of the range of p-values available in the\n",
      "look-up table. The actual p-value is smaller than the p-value returned.\n",
      "\n",
      "  warnings.warn(\n"
     ]
    }
   ],
   "source": [
    "kpss_test(embi['Embi'])"
   ]
  },
  {
   "attachments": {},
   "cell_type": "markdown",
   "id": "0f6ac6ba",
   "metadata": {},
   "source": [
    "### Para o teste KPSS, rejeitamos a hipótese nula da série ser estacionária, indicando a existência de uma raíz unitária ###"
   ]
  },
  {
   "cell_type": "code",
   "execution_count": 513,
   "id": "dabee310",
   "metadata": {},
   "outputs": [
    {
     "data": {
      "image/png": "[encoded data removed]",
      "text/plain": [
       "<Figure size 432x288 with 1 Axes>"
      ]
     },
     "metadata": {
      "needs_background": "light"
     },
     "output_type": "display_data"
    },
    {
     "data": {
      "image/png": "[encoded data removed]",
      "text/plain": [
       "<Figure size 432x288 with 1 Axes>"
      ]
     },
     "metadata": {
      "needs_background": "light"
     },
     "output_type": "display_data"
    }
   ],
   "source": [
    "pacf_embi = plot_pacf(embi['Embi'])\n",
    "acf_embi = plot_acf(embi['Embi'])"
   ]
  },
  {
   "cell_type": "code",
   "execution_count": null,
   "id": "3bc39147",
   "metadata": {},
   "outputs": [],
   "source": []
  }
 ],
 "metadata": {
  "kernelspec": {
   "display_name": "Python 3 (ipykernel)",
   "language": "python",
   "name": "python3"
  },
  "language_info": {
   "codemirror_mode": {
    "name": "ipython",
    "version": 3
   },
   "file_extension": ".py",
   "mimetype": "text/x-python",
   "name": "python",
   "nbconvert_exporter": "python",
   "pygments_lexer": "ipython3",
   "version": "3.9.7"
  }
 },
 "nbformat": 4,
 "nbformat_minor": 5
}
