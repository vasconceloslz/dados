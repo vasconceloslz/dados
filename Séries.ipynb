{
 "cells": [
  {
   "attachments": {},
   "cell_type": "markdown",
   "id": "49a3de58",
   "metadata": {},
   "source": [
    "## Importando Bibliotecas ##"
   ]
  },
  {
   "cell_type": "code",
   "execution_count": 74,
   "id": "a3b6e4dd",
   "metadata": {},
   "outputs": [],
   "source": [
    "%matplotlib inline\n",
    "import matplotlib.pyplot as plt\n",
    "import pandas as pd\n",
    "import pandas_datareader as pdr\n",
    "import seaborn as sns\n",
    "import numpy as np\n",
    "from statsmodels.tsa.api import acf, graphics, pacf\n",
    "from statsmodels.tsa.ar_model import AutoReg, ar_select_order\n",
    "from statsmodels.graphics.tsaplots import plot_pacf, plot_acf\n",
    "import math\n",
    "from statsmodels.tsa.seasonal import seasonal_decompose"
   ]
  },
  {
   "attachments": {},
   "cell_type": "markdown",
   "id": "1598703d",
   "metadata": {},
   "source": [
    "## Observando a estacionariedade das séries ##"
   ]
  },
  {
   "attachments": {},
   "cell_type": "markdown",
   "id": "22f15bb0",
   "metadata": {},
   "source": [
    "## 1. Balança Comercial ##"
   ]
  },
  {
   "cell_type": "code",
   "execution_count": 60,
   "id": "2c26344b",
   "metadata": {},
   "outputs": [],
   "source": [
    "balanca = pd.read_excel('balanca_comercial.xls', parse_dates=['Data'])"
   ]
  },
  {
   "cell_type": "code",
   "execution_count": 61,
   "id": "be15ae20",
   "metadata": {},
   "outputs": [
    {
     "data": {
      "text/html": [
       "<div>\n",
       "<style scoped>\n",
       "    .dataframe tbody tr th:only-of-type {\n",
       "        vertical-align: middle;\n",
       "    }\n",
       "\n",
       "    .dataframe tbody tr th {\n",
       "        vertical-align: top;\n",
       "    }\n",
       "\n",
       "    .dataframe thead th {\n",
       "        text-align: right;\n",
       "    }\n",
       "</style>\n",
       "<table border=\"1\" class=\"dataframe\">\n",
       "  <thead>\n",
       "    <tr style=\"text-align: right;\">\n",
       "      <th></th>\n",
       "      <th>Data</th>\n",
       "      <th>Balanço de pagamentos - balança comercial - saldo - US$ (milhões)  - Banco Central do Brasil, Balanço de Pagamentos (BPM6) (BCB / BP (BPM6)) - BPAG12_BC12 -</th>\n",
       "    </tr>\n",
       "  </thead>\n",
       "  <tbody>\n",
       "    <tr>\n",
       "      <th>0</th>\n",
       "      <td>1995-01-01</td>\n",
       "      <td>-398.728132</td>\n",
       "    </tr>\n",
       "    <tr>\n",
       "      <th>1</th>\n",
       "      <td>1995-02-01</td>\n",
       "      <td>-1151.625706</td>\n",
       "    </tr>\n",
       "    <tr>\n",
       "      <th>2</th>\n",
       "      <td>1995-03-01</td>\n",
       "      <td>-1019.483914</td>\n",
       "    </tr>\n",
       "    <tr>\n",
       "      <th>3</th>\n",
       "      <td>1995-04-01</td>\n",
       "      <td>-565.690024</td>\n",
       "    </tr>\n",
       "    <tr>\n",
       "      <th>4</th>\n",
       "      <td>1995-05-01</td>\n",
       "      <td>-781.699265</td>\n",
       "    </tr>\n",
       "    <tr>\n",
       "      <th>...</th>\n",
       "      <td>...</td>\n",
       "      <td>...</td>\n",
       "    </tr>\n",
       "    <tr>\n",
       "      <th>336</th>\n",
       "      <td>2023-01-01</td>\n",
       "      <td>894.689159</td>\n",
       "    </tr>\n",
       "    <tr>\n",
       "      <th>337</th>\n",
       "      <td>2023-02-01</td>\n",
       "      <td>2262.890102</td>\n",
       "    </tr>\n",
       "    <tr>\n",
       "      <th>338</th>\n",
       "      <td>2023-03-01</td>\n",
       "      <td>9340.252047</td>\n",
       "    </tr>\n",
       "    <tr>\n",
       "      <th>339</th>\n",
       "      <td>2023-04-01</td>\n",
       "      <td>6942.439554</td>\n",
       "    </tr>\n",
       "    <tr>\n",
       "      <th>340</th>\n",
       "      <td>2023-05-01</td>\n",
       "      <td>9718.732581</td>\n",
       "    </tr>\n",
       "  </tbody>\n",
       "</table>\n",
       "<p>341 rows × 2 columns</p>\n",
       "</div>"
      ],
      "text/plain": [
       "          Data  \\\n",
       "0   1995-01-01   \n",
       "1   1995-02-01   \n",
       "2   1995-03-01   \n",
       "3   1995-04-01   \n",
       "4   1995-05-01   \n",
       "..         ...   \n",
       "336 2023-01-01   \n",
       "337 2023-02-01   \n",
       "338 2023-03-01   \n",
       "339 2023-04-01   \n",
       "340 2023-05-01   \n",
       "\n",
       "     Balanço de pagamentos - balança comercial - saldo - US$ (milhões)  - Banco Central do Brasil, Balanço de Pagamentos (BPM6) (BCB / BP (BPM6)) - BPAG12_BC12 -   \n",
       "0                                          -398.728132                                                                                                              \n",
       "1                                         -1151.625706                                                                                                              \n",
       "2                                         -1019.483914                                                                                                              \n",
       "3                                          -565.690024                                                                                                              \n",
       "4                                          -781.699265                                                                                                              \n",
       "..                                                 ...                                                                                                              \n",
       "336                                         894.689159                                                                                                              \n",
       "337                                        2262.890102                                                                                                              \n",
       "338                                        9340.252047                                                                                                              \n",
       "339                                        6942.439554                                                                                                              \n",
       "340                                        9718.732581                                                                                                              \n",
       "\n",
       "[341 rows x 2 columns]"
      ]
     },
     "execution_count": 61,
     "metadata": {},
     "output_type": "execute_result"
    }
   ],
   "source": [
    "balanca"
   ]
  },
  {
   "cell_type": "code",
   "execution_count": 62,
   "id": "a40e9439",
   "metadata": {},
   "outputs": [
    {
     "data": {
      "text/html": [
       "<div>\n",
       "<style scoped>\n",
       "    .dataframe tbody tr th:only-of-type {\n",
       "        vertical-align: middle;\n",
       "    }\n",
       "\n",
       "    .dataframe tbody tr th {\n",
       "        vertical-align: top;\n",
       "    }\n",
       "\n",
       "    .dataframe thead th {\n",
       "        text-align: right;\n",
       "    }\n",
       "</style>\n",
       "<table border=\"1\" class=\"dataframe\">\n",
       "  <thead>\n",
       "    <tr style=\"text-align: right;\">\n",
       "      <th></th>\n",
       "      <th>Data</th>\n",
       "      <th>Balanço de pagamentos - balança comercial - saldo - US$ (milhões)  - Banco Central do Brasil, Balanço de Pagamentos (BPM6) (BCB / BP (BPM6)) - BPAG12_BC12 -</th>\n",
       "    </tr>\n",
       "  </thead>\n",
       "  <tbody>\n",
       "    <tr>\n",
       "      <th>0</th>\n",
       "      <td>1995-01-01</td>\n",
       "      <td>-398.728132</td>\n",
       "    </tr>\n",
       "    <tr>\n",
       "      <th>1</th>\n",
       "      <td>1995-02-01</td>\n",
       "      <td>-1151.625706</td>\n",
       "    </tr>\n",
       "    <tr>\n",
       "      <th>2</th>\n",
       "      <td>1995-03-01</td>\n",
       "      <td>-1019.483914</td>\n",
       "    </tr>\n",
       "    <tr>\n",
       "      <th>3</th>\n",
       "      <td>1995-04-01</td>\n",
       "      <td>-565.690024</td>\n",
       "    </tr>\n",
       "    <tr>\n",
       "      <th>4</th>\n",
       "      <td>1995-05-01</td>\n",
       "      <td>-781.699265</td>\n",
       "    </tr>\n",
       "    <tr>\n",
       "      <th>...</th>\n",
       "      <td>...</td>\n",
       "      <td>...</td>\n",
       "    </tr>\n",
       "    <tr>\n",
       "      <th>336</th>\n",
       "      <td>2023-01-01</td>\n",
       "      <td>894.689159</td>\n",
       "    </tr>\n",
       "    <tr>\n",
       "      <th>337</th>\n",
       "      <td>2023-02-01</td>\n",
       "      <td>2262.890102</td>\n",
       "    </tr>\n",
       "    <tr>\n",
       "      <th>338</th>\n",
       "      <td>2023-03-01</td>\n",
       "      <td>9340.252047</td>\n",
       "    </tr>\n",
       "    <tr>\n",
       "      <th>339</th>\n",
       "      <td>2023-04-01</td>\n",
       "      <td>6942.439554</td>\n",
       "    </tr>\n",
       "    <tr>\n",
       "      <th>340</th>\n",
       "      <td>2023-05-01</td>\n",
       "      <td>9718.732581</td>\n",
       "    </tr>\n",
       "  </tbody>\n",
       "</table>\n",
       "<p>341 rows × 2 columns</p>\n",
       "</div>"
      ],
      "text/plain": [
       "          Data  \\\n",
       "0   1995-01-01   \n",
       "1   1995-02-01   \n",
       "2   1995-03-01   \n",
       "3   1995-04-01   \n",
       "4   1995-05-01   \n",
       "..         ...   \n",
       "336 2023-01-01   \n",
       "337 2023-02-01   \n",
       "338 2023-03-01   \n",
       "339 2023-04-01   \n",
       "340 2023-05-01   \n",
       "\n",
       "     Balanço de pagamentos - balança comercial - saldo - US$ (milhões)  - Banco Central do Brasil, Balanço de Pagamentos (BPM6) (BCB / BP (BPM6)) - BPAG12_BC12 -   \n",
       "0                                          -398.728132                                                                                                              \n",
       "1                                         -1151.625706                                                                                                              \n",
       "2                                         -1019.483914                                                                                                              \n",
       "3                                          -565.690024                                                                                                              \n",
       "4                                          -781.699265                                                                                                              \n",
       "..                                                 ...                                                                                                              \n",
       "336                                         894.689159                                                                                                              \n",
       "337                                        2262.890102                                                                                                              \n",
       "338                                        9340.252047                                                                                                              \n",
       "339                                        6942.439554                                                                                                              \n",
       "340                                        9718.732581                                                                                                              \n",
       "\n",
       "[341 rows x 2 columns]"
      ]
     },
     "execution_count": 62,
     "metadata": {},
     "output_type": "execute_result"
    }
   ],
   "source": [
    "balanca_novo = balanca.rename(columns = {'Balanço de pagamentos - balança comercial - saldo - US$ (milhões) - Banco Central do Brasil, Balanço de Pagamentos (BPM6) (BCB / BP (BPM6)) - BPAG12_BC12 -':'Saldo Balanca'})\n",
    "balanca_novo"
   ]
  },
  {
   "cell_type": "code",
   "execution_count": 63,
   "id": "b4607455",
   "metadata": {},
   "outputs": [],
   "source": [
    "balanca_novo = balanca_novo.set_axis(['Data', 'Saldo Balanca'], axis='columns')"
   ]
  },
  {
   "cell_type": "code",
   "execution_count": 64,
   "id": "46f4256b",
   "metadata": {},
   "outputs": [
    {
     "data": {
      "text/html": [
       "<div>\n",
       "<style scoped>\n",
       "    .dataframe tbody tr th:only-of-type {\n",
       "        vertical-align: middle;\n",
       "    }\n",
       "\n",
       "    .dataframe tbody tr th {\n",
       "        vertical-align: top;\n",
       "    }\n",
       "\n",
       "    .dataframe thead th {\n",
       "        text-align: right;\n",
       "    }\n",
       "</style>\n",
       "<table border=\"1\" class=\"dataframe\">\n",
       "  <thead>\n",
       "    <tr style=\"text-align: right;\">\n",
       "      <th></th>\n",
       "      <th>Data</th>\n",
       "      <th>Saldo Balanca</th>\n",
       "    </tr>\n",
       "  </thead>\n",
       "  <tbody>\n",
       "    <tr>\n",
       "      <th>0</th>\n",
       "      <td>1995-01-01</td>\n",
       "      <td>-398.728132</td>\n",
       "    </tr>\n",
       "    <tr>\n",
       "      <th>1</th>\n",
       "      <td>1995-02-01</td>\n",
       "      <td>-1151.625706</td>\n",
       "    </tr>\n",
       "    <tr>\n",
       "      <th>2</th>\n",
       "      <td>1995-03-01</td>\n",
       "      <td>-1019.483914</td>\n",
       "    </tr>\n",
       "    <tr>\n",
       "      <th>3</th>\n",
       "      <td>1995-04-01</td>\n",
       "      <td>-565.690024</td>\n",
       "    </tr>\n",
       "    <tr>\n",
       "      <th>4</th>\n",
       "      <td>1995-05-01</td>\n",
       "      <td>-781.699265</td>\n",
       "    </tr>\n",
       "    <tr>\n",
       "      <th>...</th>\n",
       "      <td>...</td>\n",
       "      <td>...</td>\n",
       "    </tr>\n",
       "    <tr>\n",
       "      <th>336</th>\n",
       "      <td>2023-01-01</td>\n",
       "      <td>894.689159</td>\n",
       "    </tr>\n",
       "    <tr>\n",
       "      <th>337</th>\n",
       "      <td>2023-02-01</td>\n",
       "      <td>2262.890102</td>\n",
       "    </tr>\n",
       "    <tr>\n",
       "      <th>338</th>\n",
       "      <td>2023-03-01</td>\n",
       "      <td>9340.252047</td>\n",
       "    </tr>\n",
       "    <tr>\n",
       "      <th>339</th>\n",
       "      <td>2023-04-01</td>\n",
       "      <td>6942.439554</td>\n",
       "    </tr>\n",
       "    <tr>\n",
       "      <th>340</th>\n",
       "      <td>2023-05-01</td>\n",
       "      <td>9718.732581</td>\n",
       "    </tr>\n",
       "  </tbody>\n",
       "</table>\n",
       "<p>341 rows × 2 columns</p>\n",
       "</div>"
      ],
      "text/plain": [
       "          Data  Saldo Balanca\n",
       "0   1995-01-01    -398.728132\n",
       "1   1995-02-01   -1151.625706\n",
       "2   1995-03-01   -1019.483914\n",
       "3   1995-04-01    -565.690024\n",
       "4   1995-05-01    -781.699265\n",
       "..         ...            ...\n",
       "336 2023-01-01     894.689159\n",
       "337 2023-02-01    2262.890102\n",
       "338 2023-03-01    9340.252047\n",
       "339 2023-04-01    6942.439554\n",
       "340 2023-05-01    9718.732581\n",
       "\n",
       "[341 rows x 2 columns]"
      ]
     },
     "execution_count": 64,
     "metadata": {},
     "output_type": "execute_result"
    }
   ],
   "source": [
    "balanca_novo"
   ]
  },
  {
   "cell_type": "code",
   "execution_count": 65,
   "id": "45551f61",
   "metadata": {},
   "outputs": [
    {
     "data": {
      "text/plain": [
       "Data             datetime64[ns]\n",
       "Saldo Balanca           float64\n",
       "dtype: object"
      ]
     },
     "execution_count": 65,
     "metadata": {},
     "output_type": "execute_result"
    }
   ],
   "source": [
    "balanca_novo.dtypes"
   ]
  },
  {
   "cell_type": "code",
   "execution_count": 66,
   "id": "fa27371a",
   "metadata": {},
   "outputs": [
    {
     "data": {
      "text/html": [
       "<div>\n",
       "<style scoped>\n",
       "    .dataframe tbody tr th:only-of-type {\n",
       "        vertical-align: middle;\n",
       "    }\n",
       "\n",
       "    .dataframe tbody tr th {\n",
       "        vertical-align: top;\n",
       "    }\n",
       "\n",
       "    .dataframe thead th {\n",
       "        text-align: right;\n",
       "    }\n",
       "</style>\n",
       "<table border=\"1\" class=\"dataframe\">\n",
       "  <thead>\n",
       "    <tr style=\"text-align: right;\">\n",
       "      <th></th>\n",
       "      <th>Data</th>\n",
       "      <th>Saldo Balanca</th>\n",
       "    </tr>\n",
       "  </thead>\n",
       "  <tbody>\n",
       "    <tr>\n",
       "      <th>0</th>\n",
       "      <td>1995-01</td>\n",
       "      <td>-398.728132</td>\n",
       "    </tr>\n",
       "    <tr>\n",
       "      <th>1</th>\n",
       "      <td>1995-02</td>\n",
       "      <td>-1151.625706</td>\n",
       "    </tr>\n",
       "    <tr>\n",
       "      <th>2</th>\n",
       "      <td>1995-03</td>\n",
       "      <td>-1019.483914</td>\n",
       "    </tr>\n",
       "    <tr>\n",
       "      <th>3</th>\n",
       "      <td>1995-04</td>\n",
       "      <td>-565.690024</td>\n",
       "    </tr>\n",
       "    <tr>\n",
       "      <th>4</th>\n",
       "      <td>1995-05</td>\n",
       "      <td>-781.699265</td>\n",
       "    </tr>\n",
       "    <tr>\n",
       "      <th>...</th>\n",
       "      <td>...</td>\n",
       "      <td>...</td>\n",
       "    </tr>\n",
       "    <tr>\n",
       "      <th>336</th>\n",
       "      <td>2023-01</td>\n",
       "      <td>894.689159</td>\n",
       "    </tr>\n",
       "    <tr>\n",
       "      <th>337</th>\n",
       "      <td>2023-02</td>\n",
       "      <td>2262.890102</td>\n",
       "    </tr>\n",
       "    <tr>\n",
       "      <th>338</th>\n",
       "      <td>2023-03</td>\n",
       "      <td>9340.252047</td>\n",
       "    </tr>\n",
       "    <tr>\n",
       "      <th>339</th>\n",
       "      <td>2023-04</td>\n",
       "      <td>6942.439554</td>\n",
       "    </tr>\n",
       "    <tr>\n",
       "      <th>340</th>\n",
       "      <td>2023-05</td>\n",
       "      <td>9718.732581</td>\n",
       "    </tr>\n",
       "  </tbody>\n",
       "</table>\n",
       "<p>341 rows × 2 columns</p>\n",
       "</div>"
      ],
      "text/plain": [
       "        Data  Saldo Balanca\n",
       "0    1995-01    -398.728132\n",
       "1    1995-02   -1151.625706\n",
       "2    1995-03   -1019.483914\n",
       "3    1995-04    -565.690024\n",
       "4    1995-05    -781.699265\n",
       "..       ...            ...\n",
       "336  2023-01     894.689159\n",
       "337  2023-02    2262.890102\n",
       "338  2023-03    9340.252047\n",
       "339  2023-04    6942.439554\n",
       "340  2023-05    9718.732581\n",
       "\n",
       "[341 rows x 2 columns]"
      ]
     },
     "execution_count": 66,
     "metadata": {},
     "output_type": "execute_result"
    }
   ],
   "source": [
    "balanca_novo['Data'] = pd.to_datetime(balanca_novo['Data'], format='%Y.%m').dt.strftime('%Y-%m')\n",
    "balanca_novo"
   ]
  },
  {
   "cell_type": "code",
   "execution_count": 67,
   "id": "c7ba0caf",
   "metadata": {},
   "outputs": [],
   "source": [
    "balanca_novo = balanca_novo.set_index('Data')"
   ]
  },
  {
   "cell_type": "code",
   "execution_count": 72,
   "id": "035dac45",
   "metadata": {},
   "outputs": [
    {
     "data": {
      "image/png": "[encoded data removed]",
      "text/plain": [
       "<Figure size 2160x720 with 1 Axes>"
      ]
     },
     "metadata": {
      "needs_background": "light"
     },
     "output_type": "display_data"
    }
   ],
   "source": [
    "fig, axs = plt.subplots(figsize=(30,10))\n",
    "balanca_novo['Saldo Balanca'].plot(ax=axs)\n",
    "axs.set_xlabel('Data')\n",
    "plt.show()"
   ]
  },
  {
   "attachments": {},
   "cell_type": "markdown",
   "id": "e6bbc415",
   "metadata": {},
   "source": [
    "## Implementando teste ADF ##"
   ]
  },
  {
   "cell_type": "code",
   "execution_count": 68,
   "id": "f5652e01",
   "metadata": {},
   "outputs": [],
   "source": [
    "from statsmodels.tsa.stattools import adfuller\n",
    "\n",
    "\n",
    "def adf_test(timeseries):\n",
    "    print(\"Results of Dickey-Fuller Test:\")\n",
    "    dftest = adfuller(timeseries, autolag=\"AIC\")\n",
    "    dfoutput = pd.Series(\n",
    "        dftest[0:4],\n",
    "        index=[\n",
    "            \"Test Statistic\",\n",
    "            \"p-value\",\n",
    "            \"#Lags Used\",\n",
    "            \"Number of Observations Used\",\n",
    "        ],\n",
    "    )\n",
    "    for key, value in dftest[4].items():\n",
    "        dfoutput[\"Critical Value (%s)\" % key] = value\n",
    "    print(dfoutput)"
   ]
  },
  {
   "attachments": {},
   "cell_type": "markdown",
   "id": "b5d33a5f",
   "metadata": {},
   "source": [
    "## Implementando teste KPSS ##"
   ]
  },
  {
   "cell_type": "code",
   "execution_count": 69,
   "id": "7c92d8f3",
   "metadata": {},
   "outputs": [],
   "source": [
    "from statsmodels.tsa.stattools import kpss\n",
    "\n",
    "\n",
    "def kpss_test(timeseries):\n",
    "    print(\"Results of KPSS Test:\")\n",
    "    kpsstest = kpss(timeseries, regression=\"c\", nlags=\"auto\")\n",
    "    kpss_output = pd.Series(\n",
    "        kpsstest[0:3], index=[\"Test Statistic\", \"p-value\", \"Lags Used\"]\n",
    "    )\n",
    "    for key, value in kpsstest[3].items():\n",
    "        kpss_output[\"Critical Value (%s)\" % key] = value\n",
    "    print(kpss_output)"
   ]
  },
  {
   "attachments": {},
   "cell_type": "markdown",
   "id": "401cd5c8",
   "metadata": {},
   "source": [
    "## Testando a série de balança comercial ##"
   ]
  },
  {
   "cell_type": "code",
   "execution_count": 71,
   "id": "b92060cb",
   "metadata": {},
   "outputs": [
    {
     "name": "stdout",
     "output_type": "stream",
     "text": [
      "Results of Dickey-Fuller Test:\n",
      "Test Statistic                  -1.398814\n",
      "p-value                          0.582845\n",
      "#Lags Used                      14.000000\n",
      "Number of Observations Used    326.000000\n",
      "Critical Value (1%)             -3.450569\n",
      "Critical Value (5%)             -2.870447\n",
      "Critical Value (10%)            -2.571515\n",
      "dtype: float64\n"
     ]
    }
   ],
   "source": [
    "adf_test(balanca_novo[\"Saldo Balanca\"])"
   ]
  },
  {
   "attachments": {},
   "cell_type": "markdown",
   "id": "67bb4d97",
   "metadata": {},
   "source": [
    "### Para o teste ADF, a hipótese nula é de uma raíz unitária, logo, para o valor da estatística do teste de -1.39, falhamos em rejeitar a hipótese nula, dado que estamos fora da região crítica. Assim, podemos concluir que a séria tem uma raíz unitária, a partir desse teste. ###"
   ]
  },
  {
   "cell_type": "code",
   "execution_count": 73,
   "id": "1b2ce5d9",
   "metadata": {},
   "outputs": [
    {
     "name": "stdout",
     "output_type": "stream",
     "text": [
      "Results of KPSS Test:\n",
      "Test Statistic            1.409952\n",
      "p-value                   0.010000\n",
      "Lags Used                10.000000\n",
      "Critical Value (10%)      0.347000\n",
      "Critical Value (5%)       0.463000\n",
      "Critical Value (2.5%)     0.574000\n",
      "Critical Value (1%)       0.739000\n",
      "dtype: float64\n"
     ]
    },
    {
     "name": "stderr",
     "output_type": "stream",
     "text": [
      "c:\\Users\\luizv\\anaconda3\\lib\\site-packages\\statsmodels\\tsa\\stattools.py:1906: InterpolationWarning: The test statistic is outside of the range of p-values available in the\n",
      "look-up table. The actual p-value is smaller than the p-value returned.\n",
      "\n",
      "  warnings.warn(\n"
     ]
    }
   ],
   "source": [
    "kpss_test(balanca_novo['Saldo Balanca'])"
   ]
  },
  {
   "attachments": {},
   "cell_type": "markdown",
   "id": "be6c0388",
   "metadata": {},
   "source": [
    "### Para o teste KPSS, a hipótese nula é de que a série não tem uma raíz unitária. Neste caso, a estatística do teste de 1.41 nós rejeitamos a hipótese nula, concluindo que a série tem uma raiz unitária. Logo, é não estacionária. ###\n"
   ]
  },
  {
   "cell_type": "code",
   "execution_count": 519,
   "id": "97cc5f1a",
   "metadata": {},
   "outputs": [
    {
     "data": {
      "image/png": "[encoded data removed]",
      "text/plain": [
       "<Figure size 432x288 with 1 Axes>"
      ]
     },
     "metadata": {
      "needs_background": "light"
     },
     "output_type": "display_data"
    },
    {
     "data": {
      "image/png": "[encoded data removed]",
      "text/plain": [
       "<Figure size 432x288 with 1 Axes>"
      ]
     },
     "metadata": {
      "needs_background": "light"
     },
     "output_type": "display_data"
    }
   ],
   "source": [
    "pacf_balanca = plot_pacf(balanca['Saldo Balanca'])\n",
    "acf_balanca = plot_acf(balanca['Saldo Balanca'])"
   ]
  },
  {
   "attachments": {},
   "cell_type": "markdown",
   "id": "359eeb44",
   "metadata": {},
   "source": [
    "## Aqui, a partir da função de autocorrelação, é possível observar um possível comportamento sazonal da série, sendo assim, irei fazer o processo de retirar a sazonalidade da série e refazer os testes ##"
   ]
  },
  {
   "cell_type": "code",
   "execution_count": 76,
   "id": "c2bdcdf0",
   "metadata": {},
   "outputs": [],
   "source": [
    "result=seasonal_decompose(balanca_novo['Saldo Balanca'], model='additive', period=12)"
   ]
  },
  {
   "cell_type": "code",
   "execution_count": 79,
   "id": "b6663320",
   "metadata": {},
   "outputs": [
    {
     "data": {
      "image/png": "[encoded data removed]",
      "text/plain": [
       "<Figure size 432x288 with 4 Axes>"
      ]
     },
     "execution_count": 79,
     "metadata": {},
     "output_type": "execute_result"
    },
    {
     "data": {
      "image/png": "[encoded data removed]",
      "text/plain": [
       "<Figure size 432x288 with 4 Axes>"
      ]
     },
     "metadata": {
      "needs_background": "light"
     },
     "output_type": "display_data"
    }
   ],
   "source": [
    "result.plot()"
   ]
  },
  {
   "cell_type": "code",
   "execution_count": 93,
   "id": "922dfaab",
   "metadata": {},
   "outputs": [
    {
     "data": {
      "text/plain": [
       "Data\n",
       "1995-01   -1958.478799\n",
       "1995-02    -900.706367\n",
       "1995-03    -121.393697\n",
       "1995-04     519.177787\n",
       "1995-05     859.050790\n",
       "              ...     \n",
       "2023-01   -1958.478799\n",
       "2023-02    -900.706367\n",
       "2023-03    -121.393697\n",
       "2023-04     519.177787\n",
       "2023-05     859.050790\n",
       "Name: seasonal, Length: 341, dtype: float64"
      ]
     },
     "execution_count": 93,
     "metadata": {},
     "output_type": "execute_result"
    }
   ],
   "source": [
    "sazonalidade = result.seasonal\n",
    "sazonalidade"
   ]
  },
  {
   "attachments": {},
   "cell_type": "markdown",
   "id": "db9cf4fb",
   "metadata": {},
   "source": [
    "## Removendo a Sazonalidade ##"
   ]
  },
  {
   "cell_type": "code",
   "execution_count": 98,
   "id": "d580df18",
   "metadata": {},
   "outputs": [
    {
     "data": {
      "text/plain": [
       "Data\n",
       "1995-01    1559.750667\n",
       "1995-02    -250.919339\n",
       "1995-03    -898.090217\n",
       "1995-04   -1084.867811\n",
       "1995-05   -1640.750055\n",
       "              ...     \n",
       "2023-01    2853.167958\n",
       "2023-02    3163.596469\n",
       "2023-03    9461.645744\n",
       "2023-04    6423.261767\n",
       "2023-05    8859.681790\n",
       "Length: 341, dtype: float64"
      ]
     },
     "execution_count": 98,
     "metadata": {},
     "output_type": "execute_result"
    }
   ],
   "source": [
    "balanca_novo_dess = balanca_novo['Saldo Balanca'] - sazonalidade\n",
    "balanca_novo_dess \n"
   ]
  },
  {
   "cell_type": "code",
   "execution_count": 121,
   "id": "56f4b5df",
   "metadata": {},
   "outputs": [],
   "source": [
    "df_balanca_dess = balanca_novo_dess.to_frame()"
   ]
  },
  {
   "cell_type": "code",
   "execution_count": 132,
   "id": "0f95fec4",
   "metadata": {},
   "outputs": [],
   "source": [
    "df_balanca_dess = df_balanca_dess.set_axis(['Saldo'], axis='columns')"
   ]
  },
  {
   "cell_type": "code",
   "execution_count": 133,
   "id": "119a02b4",
   "metadata": {},
   "outputs": [
    {
     "data": {
      "text/html": [
       "<div>\n",
       "<style scoped>\n",
       "    .dataframe tbody tr th:only-of-type {\n",
       "        vertical-align: middle;\n",
       "    }\n",
       "\n",
       "    .dataframe tbody tr th {\n",
       "        vertical-align: top;\n",
       "    }\n",
       "\n",
       "    .dataframe thead th {\n",
       "        text-align: right;\n",
       "    }\n",
       "</style>\n",
       "<table border=\"1\" class=\"dataframe\">\n",
       "  <thead>\n",
       "    <tr style=\"text-align: right;\">\n",
       "      <th></th>\n",
       "      <th>Saldo</th>\n",
       "    </tr>\n",
       "    <tr>\n",
       "      <th>Data</th>\n",
       "      <th></th>\n",
       "    </tr>\n",
       "  </thead>\n",
       "  <tbody>\n",
       "    <tr>\n",
       "      <th>1995-01</th>\n",
       "      <td>1559.750667</td>\n",
       "    </tr>\n",
       "    <tr>\n",
       "      <th>1995-02</th>\n",
       "      <td>-250.919339</td>\n",
       "    </tr>\n",
       "    <tr>\n",
       "      <th>1995-03</th>\n",
       "      <td>-898.090217</td>\n",
       "    </tr>\n",
       "    <tr>\n",
       "      <th>1995-04</th>\n",
       "      <td>-1084.867811</td>\n",
       "    </tr>\n",
       "    <tr>\n",
       "      <th>1995-05</th>\n",
       "      <td>-1640.750055</td>\n",
       "    </tr>\n",
       "    <tr>\n",
       "      <th>...</th>\n",
       "      <td>...</td>\n",
       "    </tr>\n",
       "    <tr>\n",
       "      <th>2023-01</th>\n",
       "      <td>2853.167958</td>\n",
       "    </tr>\n",
       "    <tr>\n",
       "      <th>2023-02</th>\n",
       "      <td>3163.596469</td>\n",
       "    </tr>\n",
       "    <tr>\n",
       "      <th>2023-03</th>\n",
       "      <td>9461.645744</td>\n",
       "    </tr>\n",
       "    <tr>\n",
       "      <th>2023-04</th>\n",
       "      <td>6423.261767</td>\n",
       "    </tr>\n",
       "    <tr>\n",
       "      <th>2023-05</th>\n",
       "      <td>8859.681790</td>\n",
       "    </tr>\n",
       "  </tbody>\n",
       "</table>\n",
       "<p>341 rows × 1 columns</p>\n",
       "</div>"
      ],
      "text/plain": [
       "               Saldo\n",
       "Data                \n",
       "1995-01  1559.750667\n",
       "1995-02  -250.919339\n",
       "1995-03  -898.090217\n",
       "1995-04 -1084.867811\n",
       "1995-05 -1640.750055\n",
       "...              ...\n",
       "2023-01  2853.167958\n",
       "2023-02  3163.596469\n",
       "2023-03  9461.645744\n",
       "2023-04  6423.261767\n",
       "2023-05  8859.681790\n",
       "\n",
       "[341 rows x 1 columns]"
      ]
     },
     "execution_count": 133,
     "metadata": {},
     "output_type": "execute_result"
    }
   ],
   "source": [
    "df_balanca_dess"
   ]
  },
  {
   "attachments": {},
   "cell_type": "markdown",
   "id": "2aed94bd",
   "metadata": {},
   "source": [
    "## Testando a série da balança comercial dessazonalidada ##"
   ]
  },
  {
   "cell_type": "code",
   "execution_count": 134,
   "id": "ec54ee6c",
   "metadata": {},
   "outputs": [
    {
     "data": {
      "image/png": "[encoded data removed]",
      "text/plain": [
       "<Figure size 2160x720 with 1 Axes>"
      ]
     },
     "metadata": {
      "needs_background": "light"
     },
     "output_type": "display_data"
    }
   ],
   "source": [
    "fig, axs = plt.subplots(figsize=(30,10))\n",
    "df_balanca_dess['Saldo'].plot(ax=axs)\n",
    "axs.set_xlabel('Data')\n",
    "plt.show()"
   ]
  },
  {
   "attachments": {},
   "cell_type": "markdown",
   "id": "91b1f6f5",
   "metadata": {},
   "source": [
    "## Funções de autocorrelação ##"
   ]
  },
  {
   "cell_type": "code",
   "execution_count": 135,
   "id": "c4d1db08",
   "metadata": {},
   "outputs": [
    {
     "data": {
      "image/png": "[encoded data removed]",
      "text/plain": [
       "<Figure size 432x288 with 1 Axes>"
      ]
     },
     "metadata": {
      "needs_background": "light"
     },
     "output_type": "display_data"
    },
    {
     "data": {
      "image/png": "[encoded data removed]",
      "text/plain": [
       "<Figure size 432x288 with 1 Axes>"
      ]
     },
     "metadata": {
      "needs_background": "light"
     },
     "output_type": "display_data"
    }
   ],
   "source": [
    "pacf_balanca_dess = plot_pacf(df_balanca_dess['Saldo'])\n",
    "acf_balanca_dess = plot_acf(df_balanca_dess['Saldo'])"
   ]
  },
  {
   "attachments": {},
   "cell_type": "markdown",
   "id": "20866088",
   "metadata": {},
   "source": [
    "## 2. Cambio ##"
   ]
  },
  {
   "cell_type": "code",
   "execution_count": 242,
   "id": "c995f3bd",
   "metadata": {},
   "outputs": [
    {
     "data": {
      "text/html": [
       "<div>\n",
       "<style scoped>\n",
       "    .dataframe tbody tr th:only-of-type {\n",
       "        vertical-align: middle;\n",
       "    }\n",
       "\n",
       "    .dataframe tbody tr th {\n",
       "        vertical-align: top;\n",
       "    }\n",
       "\n",
       "    .dataframe thead th {\n",
       "        text-align: right;\n",
       "    }\n",
       "</style>\n",
       "<table border=\"1\" class=\"dataframe\">\n",
       "  <thead>\n",
       "    <tr style=\"text-align: right;\">\n",
       "      <th></th>\n",
       "      <th>Data</th>\n",
       "      <th>Taxa de câmbio - R$ / US$ - comercial - compra - fim período - R$ - Banco Central do Brasil, Boletim, Seção Balanço de Pagamentos (Bacen / Boletim / BP) - BM12_ERCF12</th>\n",
       "      <th>Unnamed: 2</th>\n",
       "    </tr>\n",
       "  </thead>\n",
       "  <tbody>\n",
       "    <tr>\n",
       "      <th>0</th>\n",
       "      <td>1953-01-01</td>\n",
       "      <td>6,68363636363636E-15</td>\n",
       "      <td>NaN</td>\n",
       "    </tr>\n",
       "    <tr>\n",
       "      <th>1</th>\n",
       "      <td>1953-02-01</td>\n",
       "      <td>1,49090909090909E-14</td>\n",
       "      <td>NaN</td>\n",
       "    </tr>\n",
       "    <tr>\n",
       "      <th>2</th>\n",
       "      <td>1953-03-01</td>\n",
       "      <td>1,49090909090909E-14</td>\n",
       "      <td>NaN</td>\n",
       "    </tr>\n",
       "    <tr>\n",
       "      <th>3</th>\n",
       "      <td>1953-04-01</td>\n",
       "      <td>1,41818181818182E-14</td>\n",
       "      <td>NaN</td>\n",
       "    </tr>\n",
       "    <tr>\n",
       "      <th>4</th>\n",
       "      <td>1953-05-01</td>\n",
       "      <td>1,56363636363636E-14</td>\n",
       "      <td>NaN</td>\n",
       "    </tr>\n",
       "    <tr>\n",
       "      <th>...</th>\n",
       "      <td>...</td>\n",
       "      <td>...</td>\n",
       "      <td>...</td>\n",
       "    </tr>\n",
       "    <tr>\n",
       "      <th>840</th>\n",
       "      <td>2023-01-01</td>\n",
       "      <td>5,0987</td>\n",
       "      <td>NaN</td>\n",
       "    </tr>\n",
       "    <tr>\n",
       "      <th>841</th>\n",
       "      <td>2023-02-01</td>\n",
       "      <td>5,2072</td>\n",
       "      <td>NaN</td>\n",
       "    </tr>\n",
       "    <tr>\n",
       "      <th>842</th>\n",
       "      <td>2023-03-01</td>\n",
       "      <td>5,0798</td>\n",
       "      <td>NaN</td>\n",
       "    </tr>\n",
       "    <tr>\n",
       "      <th>843</th>\n",
       "      <td>2023-04-01</td>\n",
       "      <td>5,0001</td>\n",
       "      <td>NaN</td>\n",
       "    </tr>\n",
       "    <tr>\n",
       "      <th>844</th>\n",
       "      <td>2023-05-01</td>\n",
       "      <td>5,0953</td>\n",
       "      <td>NaN</td>\n",
       "    </tr>\n",
       "  </tbody>\n",
       "</table>\n",
       "<p>845 rows × 3 columns</p>\n",
       "</div>"
      ],
      "text/plain": [
       "          Data  \\\n",
       "0   1953-01-01   \n",
       "1   1953-02-01   \n",
       "2   1953-03-01   \n",
       "3   1953-04-01   \n",
       "4   1953-05-01   \n",
       "..         ...   \n",
       "840 2023-01-01   \n",
       "841 2023-02-01   \n",
       "842 2023-03-01   \n",
       "843 2023-04-01   \n",
       "844 2023-05-01   \n",
       "\n",
       "    Taxa de câmbio - R$ / US$ - comercial - compra - fim período - R$ - Banco Central do Brasil, Boletim, Seção Balanço de Pagamentos (Bacen / Boletim / BP) - BM12_ERCF12  \\\n",
       "0                                 6,68363636363636E-15                                                                                                                       \n",
       "1                                 1,49090909090909E-14                                                                                                                       \n",
       "2                                 1,49090909090909E-14                                                                                                                       \n",
       "3                                 1,41818181818182E-14                                                                                                                       \n",
       "4                                 1,56363636363636E-14                                                                                                                       \n",
       "..                                                 ...                                                                                                                       \n",
       "840                                             5,0987                                                                                                                       \n",
       "841                                             5,2072                                                                                                                       \n",
       "842                                             5,0798                                                                                                                       \n",
       "843                                             5,0001                                                                                                                       \n",
       "844                                             5,0953                                                                                                                       \n",
       "\n",
       "     Unnamed: 2  \n",
       "0           NaN  \n",
       "1           NaN  \n",
       "2           NaN  \n",
       "3           NaN  \n",
       "4           NaN  \n",
       "..          ...  \n",
       "840         NaN  \n",
       "841         NaN  \n",
       "842         NaN  \n",
       "843         NaN  \n",
       "844         NaN  \n",
       "\n",
       "[845 rows x 3 columns]"
      ]
     },
     "execution_count": 242,
     "metadata": {},
     "output_type": "execute_result"
    }
   ],
   "source": [
    "cambio = pd.read_csv('cambio.csv', parse_dates=['Data'], sep = ';')\n",
    "cambio"
   ]
  },
  {
   "cell_type": "code",
   "execution_count": 243,
   "id": "5fcf7351",
   "metadata": {},
   "outputs": [
    {
     "data": {
      "text/html": [
       "<div>\n",
       "<style scoped>\n",
       "    .dataframe tbody tr th:only-of-type {\n",
       "        vertical-align: middle;\n",
       "    }\n",
       "\n",
       "    .dataframe tbody tr th {\n",
       "        vertical-align: top;\n",
       "    }\n",
       "\n",
       "    .dataframe thead th {\n",
       "        text-align: right;\n",
       "    }\n",
       "</style>\n",
       "<table border=\"1\" class=\"dataframe\">\n",
       "  <thead>\n",
       "    <tr style=\"text-align: right;\">\n",
       "      <th></th>\n",
       "      <th>Data</th>\n",
       "      <th>Taxa de câmbio - R$ / US$ - comercial - compra - fim período - R$ - Banco Central do Brasil, Boletim, Seção Balanço de Pagamentos (Bacen / Boletim / BP) - BM12_ERCF12</th>\n",
       "      <th>Unnamed: 2</th>\n",
       "    </tr>\n",
       "  </thead>\n",
       "  <tbody>\n",
       "    <tr>\n",
       "      <th>0</th>\n",
       "      <td>1953-01-01</td>\n",
       "      <td>6,68363636363636E-15</td>\n",
       "      <td>NaN</td>\n",
       "    </tr>\n",
       "    <tr>\n",
       "      <th>1</th>\n",
       "      <td>1953-02-01</td>\n",
       "      <td>1,49090909090909E-14</td>\n",
       "      <td>NaN</td>\n",
       "    </tr>\n",
       "    <tr>\n",
       "      <th>2</th>\n",
       "      <td>1953-03-01</td>\n",
       "      <td>1,49090909090909E-14</td>\n",
       "      <td>NaN</td>\n",
       "    </tr>\n",
       "    <tr>\n",
       "      <th>3</th>\n",
       "      <td>1953-04-01</td>\n",
       "      <td>1,41818181818182E-14</td>\n",
       "      <td>NaN</td>\n",
       "    </tr>\n",
       "    <tr>\n",
       "      <th>4</th>\n",
       "      <td>1953-05-01</td>\n",
       "      <td>1,56363636363636E-14</td>\n",
       "      <td>NaN</td>\n",
       "    </tr>\n",
       "    <tr>\n",
       "      <th>...</th>\n",
       "      <td>...</td>\n",
       "      <td>...</td>\n",
       "      <td>...</td>\n",
       "    </tr>\n",
       "    <tr>\n",
       "      <th>840</th>\n",
       "      <td>2023-01-01</td>\n",
       "      <td>5,0987</td>\n",
       "      <td>NaN</td>\n",
       "    </tr>\n",
       "    <tr>\n",
       "      <th>841</th>\n",
       "      <td>2023-02-01</td>\n",
       "      <td>5,2072</td>\n",
       "      <td>NaN</td>\n",
       "    </tr>\n",
       "    <tr>\n",
       "      <th>842</th>\n",
       "      <td>2023-03-01</td>\n",
       "      <td>5,0798</td>\n",
       "      <td>NaN</td>\n",
       "    </tr>\n",
       "    <tr>\n",
       "      <th>843</th>\n",
       "      <td>2023-04-01</td>\n",
       "      <td>5,0001</td>\n",
       "      <td>NaN</td>\n",
       "    </tr>\n",
       "    <tr>\n",
       "      <th>844</th>\n",
       "      <td>2023-05-01</td>\n",
       "      <td>5,0953</td>\n",
       "      <td>NaN</td>\n",
       "    </tr>\n",
       "  </tbody>\n",
       "</table>\n",
       "<p>845 rows × 3 columns</p>\n",
       "</div>"
      ],
      "text/plain": [
       "          Data  \\\n",
       "0   1953-01-01   \n",
       "1   1953-02-01   \n",
       "2   1953-03-01   \n",
       "3   1953-04-01   \n",
       "4   1953-05-01   \n",
       "..         ...   \n",
       "840 2023-01-01   \n",
       "841 2023-02-01   \n",
       "842 2023-03-01   \n",
       "843 2023-04-01   \n",
       "844 2023-05-01   \n",
       "\n",
       "    Taxa de câmbio - R$ / US$ - comercial - compra - fim período - R$ - Banco Central do Brasil, Boletim, Seção Balanço de Pagamentos (Bacen / Boletim / BP) - BM12_ERCF12  \\\n",
       "0                                 6,68363636363636E-15                                                                                                                       \n",
       "1                                 1,49090909090909E-14                                                                                                                       \n",
       "2                                 1,49090909090909E-14                                                                                                                       \n",
       "3                                 1,41818181818182E-14                                                                                                                       \n",
       "4                                 1,56363636363636E-14                                                                                                                       \n",
       "..                                                 ...                                                                                                                       \n",
       "840                                             5,0987                                                                                                                       \n",
       "841                                             5,2072                                                                                                                       \n",
       "842                                             5,0798                                                                                                                       \n",
       "843                                             5,0001                                                                                                                       \n",
       "844                                             5,0953                                                                                                                       \n",
       "\n",
       "     Unnamed: 2  \n",
       "0           NaN  \n",
       "1           NaN  \n",
       "2           NaN  \n",
       "3           NaN  \n",
       "4           NaN  \n",
       "..          ...  \n",
       "840         NaN  \n",
       "841         NaN  \n",
       "842         NaN  \n",
       "843         NaN  \n",
       "844         NaN  \n",
       "\n",
       "[845 rows x 3 columns]"
      ]
     },
     "execution_count": 243,
     "metadata": {},
     "output_type": "execute_result"
    }
   ],
   "source": [
    "cambio"
   ]
  },
  {
   "cell_type": "code",
   "execution_count": 244,
   "id": "e327d934",
   "metadata": {},
   "outputs": [],
   "source": [
    "cambio = cambio.drop(\"Unnamed: 2\", axis = 1)"
   ]
  },
  {
   "cell_type": "code",
   "execution_count": 245,
   "id": "68bbd8df",
   "metadata": {},
   "outputs": [],
   "source": [
    "cambio = cambio.rename(columns={cambio.columns[1]: 'Cambio'})"
   ]
  },
  {
   "cell_type": "code",
   "execution_count": 246,
   "id": "b6e7c64e",
   "metadata": {},
   "outputs": [
    {
     "data": {
      "text/html": [
       "<div>\n",
       "<style scoped>\n",
       "    .dataframe tbody tr th:only-of-type {\n",
       "        vertical-align: middle;\n",
       "    }\n",
       "\n",
       "    .dataframe tbody tr th {\n",
       "        vertical-align: top;\n",
       "    }\n",
       "\n",
       "    .dataframe thead th {\n",
       "        text-align: right;\n",
       "    }\n",
       "</style>\n",
       "<table border=\"1\" class=\"dataframe\">\n",
       "  <thead>\n",
       "    <tr style=\"text-align: right;\">\n",
       "      <th></th>\n",
       "      <th>Data</th>\n",
       "      <th>Cambio</th>\n",
       "    </tr>\n",
       "  </thead>\n",
       "  <tbody>\n",
       "    <tr>\n",
       "      <th>0</th>\n",
       "      <td>1953-01-01</td>\n",
       "      <td>6,68363636363636E-15</td>\n",
       "    </tr>\n",
       "    <tr>\n",
       "      <th>1</th>\n",
       "      <td>1953-02-01</td>\n",
       "      <td>1,49090909090909E-14</td>\n",
       "    </tr>\n",
       "    <tr>\n",
       "      <th>2</th>\n",
       "      <td>1953-03-01</td>\n",
       "      <td>1,49090909090909E-14</td>\n",
       "    </tr>\n",
       "    <tr>\n",
       "      <th>3</th>\n",
       "      <td>1953-04-01</td>\n",
       "      <td>1,41818181818182E-14</td>\n",
       "    </tr>\n",
       "    <tr>\n",
       "      <th>4</th>\n",
       "      <td>1953-05-01</td>\n",
       "      <td>1,56363636363636E-14</td>\n",
       "    </tr>\n",
       "    <tr>\n",
       "      <th>...</th>\n",
       "      <td>...</td>\n",
       "      <td>...</td>\n",
       "    </tr>\n",
       "    <tr>\n",
       "      <th>840</th>\n",
       "      <td>2023-01-01</td>\n",
       "      <td>5,0987</td>\n",
       "    </tr>\n",
       "    <tr>\n",
       "      <th>841</th>\n",
       "      <td>2023-02-01</td>\n",
       "      <td>5,2072</td>\n",
       "    </tr>\n",
       "    <tr>\n",
       "      <th>842</th>\n",
       "      <td>2023-03-01</td>\n",
       "      <td>5,0798</td>\n",
       "    </tr>\n",
       "    <tr>\n",
       "      <th>843</th>\n",
       "      <td>2023-04-01</td>\n",
       "      <td>5,0001</td>\n",
       "    </tr>\n",
       "    <tr>\n",
       "      <th>844</th>\n",
       "      <td>2023-05-01</td>\n",
       "      <td>5,0953</td>\n",
       "    </tr>\n",
       "  </tbody>\n",
       "</table>\n",
       "<p>845 rows × 2 columns</p>\n",
       "</div>"
      ],
      "text/plain": [
       "          Data                Cambio\n",
       "0   1953-01-01  6,68363636363636E-15\n",
       "1   1953-02-01  1,49090909090909E-14\n",
       "2   1953-03-01  1,49090909090909E-14\n",
       "3   1953-04-01  1,41818181818182E-14\n",
       "4   1953-05-01  1,56363636363636E-14\n",
       "..         ...                   ...\n",
       "840 2023-01-01                5,0987\n",
       "841 2023-02-01                5,2072\n",
       "842 2023-03-01                5,0798\n",
       "843 2023-04-01                5,0001\n",
       "844 2023-05-01                5,0953\n",
       "\n",
       "[845 rows x 2 columns]"
      ]
     },
     "execution_count": 246,
     "metadata": {},
     "output_type": "execute_result"
    }
   ],
   "source": [
    "cambio"
   ]
  },
  {
   "cell_type": "code",
   "execution_count": 247,
   "id": "4ae6ace6",
   "metadata": {},
   "outputs": [
    {
     "data": {
      "text/plain": [
       "count       845\n",
       "unique      703\n",
       "top       8E-13\n",
       "freq         15\n",
       "Name: Cambio, dtype: object"
      ]
     },
     "execution_count": 247,
     "metadata": {},
     "output_type": "execute_result"
    }
   ],
   "source": [
    "cambio['Cambio'].describe()"
   ]
  },
  {
   "cell_type": "code",
   "execution_count": 250,
   "id": "5c3e0f4f",
   "metadata": {},
   "outputs": [],
   "source": [
    "import datetime\n",
    "data_inicio = datetime.datetime(1995, 1, 1)\n",
    "data_final = datetime.datetime(2022, 1, 1)\n",
    "\n",
    "cambio_filtrado = cambio[(data_inicio <= cambio[\"Data\"]) &  (data_final > cambio[\"Data\"])]"
   ]
  },
  {
   "cell_type": "code",
   "execution_count": 251,
   "id": "bfb266b3",
   "metadata": {},
   "outputs": [
    {
     "name": "stderr",
     "output_type": "stream",
     "text": [
      "C:\\Users\\luizv\\AppData\\Local\\Temp/ipykernel_40844/2825468921.py:1: SettingWithCopyWarning: \n",
      "A value is trying to be set on a copy of a slice from a DataFrame.\n",
      "Try using .loc[row_indexer,col_indexer] = value instead\n",
      "\n",
      "See the caveats in the documentation: https://pandas.pydata.org/pandas-docs/stable/user_guide/indexing.html#returning-a-view-versus-a-copy\n",
      "  cambio_filtrado['Data'] = pd.to_datetime(cambio_filtrado['Data'], format='%Y-%m').dt.strftime('%Y-%m')\n"
     ]
    }
   ],
   "source": [
    "cambio_filtrado['Data'] = pd.to_datetime(cambio_filtrado['Data'], format='%Y-%m').dt.strftime('%Y-%m')"
   ]
  },
  {
   "cell_type": "code",
   "execution_count": 252,
   "id": "973b9d5f",
   "metadata": {},
   "outputs": [
    {
     "data": {
      "text/html": [
       "<div>\n",
       "<style scoped>\n",
       "    .dataframe tbody tr th:only-of-type {\n",
       "        vertical-align: middle;\n",
       "    }\n",
       "\n",
       "    .dataframe tbody tr th {\n",
       "        vertical-align: top;\n",
       "    }\n",
       "\n",
       "    .dataframe thead th {\n",
       "        text-align: right;\n",
       "    }\n",
       "</style>\n",
       "<table border=\"1\" class=\"dataframe\">\n",
       "  <thead>\n",
       "    <tr style=\"text-align: right;\">\n",
       "      <th></th>\n",
       "      <th>Data</th>\n",
       "      <th>Cambio</th>\n",
       "    </tr>\n",
       "  </thead>\n",
       "  <tbody>\n",
       "    <tr>\n",
       "      <th>504</th>\n",
       "      <td>1995-01</td>\n",
       "      <td>0,84</td>\n",
       "    </tr>\n",
       "    <tr>\n",
       "      <th>505</th>\n",
       "      <td>1995-02</td>\n",
       "      <td>0,8495</td>\n",
       "    </tr>\n",
       "    <tr>\n",
       "      <th>506</th>\n",
       "      <td>1995-03</td>\n",
       "      <td>0,894</td>\n",
       "    </tr>\n",
       "    <tr>\n",
       "      <th>507</th>\n",
       "      <td>1995-04</td>\n",
       "      <td>0,911</td>\n",
       "    </tr>\n",
       "    <tr>\n",
       "      <th>508</th>\n",
       "      <td>1995-05</td>\n",
       "      <td>0,904</td>\n",
       "    </tr>\n",
       "    <tr>\n",
       "      <th>...</th>\n",
       "      <td>...</td>\n",
       "      <td>...</td>\n",
       "    </tr>\n",
       "    <tr>\n",
       "      <th>823</th>\n",
       "      <td>2021-08</td>\n",
       "      <td>5,1427</td>\n",
       "    </tr>\n",
       "    <tr>\n",
       "      <th>824</th>\n",
       "      <td>2021-09</td>\n",
       "      <td>5,4388</td>\n",
       "    </tr>\n",
       "    <tr>\n",
       "      <th>825</th>\n",
       "      <td>2021-10</td>\n",
       "      <td>5,6424</td>\n",
       "    </tr>\n",
       "    <tr>\n",
       "      <th>826</th>\n",
       "      <td>2021-11</td>\n",
       "      <td>5,6193</td>\n",
       "    </tr>\n",
       "    <tr>\n",
       "      <th>827</th>\n",
       "      <td>2021-12</td>\n",
       "      <td>5,5799</td>\n",
       "    </tr>\n",
       "  </tbody>\n",
       "</table>\n",
       "<p>324 rows × 2 columns</p>\n",
       "</div>"
      ],
      "text/plain": [
       "        Data  Cambio\n",
       "504  1995-01    0,84\n",
       "505  1995-02  0,8495\n",
       "506  1995-03   0,894\n",
       "507  1995-04   0,911\n",
       "508  1995-05   0,904\n",
       "..       ...     ...\n",
       "823  2021-08  5,1427\n",
       "824  2021-09  5,4388\n",
       "825  2021-10  5,6424\n",
       "826  2021-11  5,6193\n",
       "827  2021-12  5,5799\n",
       "\n",
       "[324 rows x 2 columns]"
      ]
     },
     "execution_count": 252,
     "metadata": {},
     "output_type": "execute_result"
    }
   ],
   "source": [
    "cambio_filtrado"
   ]
  },
  {
   "cell_type": "code",
   "execution_count": 264,
   "id": "13eac398",
   "metadata": {},
   "outputs": [
    {
     "data": {
      "text/plain": [
       "Data      object\n",
       "Cambio    object\n",
       "dtype: object"
      ]
     },
     "execution_count": 264,
     "metadata": {},
     "output_type": "execute_result"
    }
   ],
   "source": [
    "cambio_filtrado.dtypes"
   ]
  },
  {
   "cell_type": "code",
   "execution_count": 269,
   "id": "482590b7",
   "metadata": {},
   "outputs": [
    {
     "name": "stderr",
     "output_type": "stream",
     "text": [
      "C:\\Users\\luizv\\AppData\\Local\\Temp/ipykernel_40844/2452852971.py:1: SettingWithCopyWarning: \n",
      "A value is trying to be set on a copy of a slice from a DataFrame.\n",
      "Try using .loc[row_indexer,col_indexer] = value instead\n",
      "\n",
      "See the caveats in the documentation: https://pandas.pydata.org/pandas-docs/stable/user_guide/indexing.html#returning-a-view-versus-a-copy\n",
      "  cambio_filtrado['Cambio'] = cambio_filtrado['Cambio'].apply(lambda x: float(x.replace(\".\",\"\").replace(\",\",\".\")))\n"
     ]
    }
   ],
   "source": [
    "cambio_filtrado['Cambio'] = cambio_filtrado['Cambio'].apply(lambda x: float(x.replace(\".\",\"\").replace(\",\",\".\")))"
   ]
  },
  {
   "cell_type": "code",
   "execution_count": 270,
   "id": "116b284e",
   "metadata": {},
   "outputs": [
    {
     "data": {
      "text/plain": [
       "504    0.8400\n",
       "505    0.8495\n",
       "506    0.8940\n",
       "507    0.9110\n",
       "508    0.9040\n",
       "        ...  \n",
       "823    5.1427\n",
       "824    5.4388\n",
       "825    5.6424\n",
       "826    5.6193\n",
       "827    5.5799\n",
       "Name: Cambio, Length: 324, dtype: float64"
      ]
     },
     "execution_count": 270,
     "metadata": {},
     "output_type": "execute_result"
    }
   ],
   "source": [
    "cambio_filtrado['Cambio'].astype(float)"
   ]
  },
  {
   "cell_type": "code",
   "execution_count": 271,
   "id": "3e62b89e",
   "metadata": {},
   "outputs": [
    {
     "data": {
      "text/html": [
       "<div>\n",
       "<style scoped>\n",
       "    .dataframe tbody tr th:only-of-type {\n",
       "        vertical-align: middle;\n",
       "    }\n",
       "\n",
       "    .dataframe tbody tr th {\n",
       "        vertical-align: top;\n",
       "    }\n",
       "\n",
       "    .dataframe thead th {\n",
       "        text-align: right;\n",
       "    }\n",
       "</style>\n",
       "<table border=\"1\" class=\"dataframe\">\n",
       "  <thead>\n",
       "    <tr style=\"text-align: right;\">\n",
       "      <th></th>\n",
       "      <th>Data</th>\n",
       "      <th>Cambio</th>\n",
       "    </tr>\n",
       "  </thead>\n",
       "  <tbody>\n",
       "    <tr>\n",
       "      <th>504</th>\n",
       "      <td>1995-01</td>\n",
       "      <td>0.8400</td>\n",
       "    </tr>\n",
       "    <tr>\n",
       "      <th>505</th>\n",
       "      <td>1995-02</td>\n",
       "      <td>0.8495</td>\n",
       "    </tr>\n",
       "    <tr>\n",
       "      <th>506</th>\n",
       "      <td>1995-03</td>\n",
       "      <td>0.8940</td>\n",
       "    </tr>\n",
       "    <tr>\n",
       "      <th>507</th>\n",
       "      <td>1995-04</td>\n",
       "      <td>0.9110</td>\n",
       "    </tr>\n",
       "    <tr>\n",
       "      <th>508</th>\n",
       "      <td>1995-05</td>\n",
       "      <td>0.9040</td>\n",
       "    </tr>\n",
       "    <tr>\n",
       "      <th>...</th>\n",
       "      <td>...</td>\n",
       "      <td>...</td>\n",
       "    </tr>\n",
       "    <tr>\n",
       "      <th>823</th>\n",
       "      <td>2021-08</td>\n",
       "      <td>5.1427</td>\n",
       "    </tr>\n",
       "    <tr>\n",
       "      <th>824</th>\n",
       "      <td>2021-09</td>\n",
       "      <td>5.4388</td>\n",
       "    </tr>\n",
       "    <tr>\n",
       "      <th>825</th>\n",
       "      <td>2021-10</td>\n",
       "      <td>5.6424</td>\n",
       "    </tr>\n",
       "    <tr>\n",
       "      <th>826</th>\n",
       "      <td>2021-11</td>\n",
       "      <td>5.6193</td>\n",
       "    </tr>\n",
       "    <tr>\n",
       "      <th>827</th>\n",
       "      <td>2021-12</td>\n",
       "      <td>5.5799</td>\n",
       "    </tr>\n",
       "  </tbody>\n",
       "</table>\n",
       "<p>324 rows × 2 columns</p>\n",
       "</div>"
      ],
      "text/plain": [
       "        Data  Cambio\n",
       "504  1995-01  0.8400\n",
       "505  1995-02  0.8495\n",
       "506  1995-03  0.8940\n",
       "507  1995-04  0.9110\n",
       "508  1995-05  0.9040\n",
       "..       ...     ...\n",
       "823  2021-08  5.1427\n",
       "824  2021-09  5.4388\n",
       "825  2021-10  5.6424\n",
       "826  2021-11  5.6193\n",
       "827  2021-12  5.5799\n",
       "\n",
       "[324 rows x 2 columns]"
      ]
     },
     "execution_count": 271,
     "metadata": {},
     "output_type": "execute_result"
    }
   ],
   "source": [
    "cambio_filtrado"
   ]
  },
  {
   "cell_type": "code",
   "execution_count": 292,
   "id": "7b44bab3",
   "metadata": {},
   "outputs": [
    {
     "ename": "KeyError",
     "evalue": "\"None of ['Data'] are in the columns\"",
     "output_type": "error",
     "traceback": [
      "\u001b[1;31m---------------------------------------------------------------------------\u001b[0m",
      "\u001b[1;31mKeyError\u001b[0m                                  Traceback (most recent call last)",
      "\u001b[1;32m~\\AppData\\Local\\Temp/ipykernel_40844/26979229.py\u001b[0m in \u001b[0;36m<module>\u001b[1;34m\u001b[0m\n\u001b[1;32m----> 1\u001b[1;33m \u001b[0mcambio_filtrado\u001b[0m \u001b[1;33m=\u001b[0m \u001b[0mcambio_filtrado\u001b[0m\u001b[1;33m.\u001b[0m\u001b[0mset_index\u001b[0m\u001b[1;33m(\u001b[0m\u001b[1;34m'Data'\u001b[0m\u001b[1;33m)\u001b[0m\u001b[1;33m\u001b[0m\u001b[1;33m\u001b[0m\u001b[0m\n\u001b[0m\u001b[0;32m      2\u001b[0m \u001b[0mcambio_filtrado\u001b[0m\u001b[1;33m\u001b[0m\u001b[1;33m\u001b[0m\u001b[0m\n",
      "\u001b[1;32m~\\anaconda3\\lib\\site-packages\\pandas\\util\\_decorators.py\u001b[0m in \u001b[0;36mwrapper\u001b[1;34m(*args, **kwargs)\u001b[0m\n\u001b[0;32m    309\u001b[0m                     \u001b[0mstacklevel\u001b[0m\u001b[1;33m=\u001b[0m\u001b[0mstacklevel\u001b[0m\u001b[1;33m,\u001b[0m\u001b[1;33m\u001b[0m\u001b[1;33m\u001b[0m\u001b[0m\n\u001b[0;32m    310\u001b[0m                 )\n\u001b[1;32m--> 311\u001b[1;33m             \u001b[1;32mreturn\u001b[0m \u001b[0mfunc\u001b[0m\u001b[1;33m(\u001b[0m\u001b[1;33m*\u001b[0m\u001b[0margs\u001b[0m\u001b[1;33m,\u001b[0m \u001b[1;33m**\u001b[0m\u001b[0mkwargs\u001b[0m\u001b[1;33m)\u001b[0m\u001b[1;33m\u001b[0m\u001b[1;33m\u001b[0m\u001b[0m\n\u001b[0m\u001b[0;32m    312\u001b[0m \u001b[1;33m\u001b[0m\u001b[0m\n\u001b[0;32m    313\u001b[0m         \u001b[1;32mreturn\u001b[0m \u001b[0mwrapper\u001b[0m\u001b[1;33m\u001b[0m\u001b[1;33m\u001b[0m\u001b[0m\n",
      "\u001b[1;32m~\\anaconda3\\lib\\site-packages\\pandas\\core\\frame.py\u001b[0m in \u001b[0;36mset_index\u001b[1;34m(self, keys, drop, append, inplace, verify_integrity)\u001b[0m\n\u001b[0;32m   5449\u001b[0m \u001b[1;33m\u001b[0m\u001b[0m\n\u001b[0;32m   5450\u001b[0m         \u001b[1;32mif\u001b[0m \u001b[0mmissing\u001b[0m\u001b[1;33m:\u001b[0m\u001b[1;33m\u001b[0m\u001b[1;33m\u001b[0m\u001b[0m\n\u001b[1;32m-> 5451\u001b[1;33m             \u001b[1;32mraise\u001b[0m \u001b[0mKeyError\u001b[0m\u001b[1;33m(\u001b[0m\u001b[1;34mf\"None of {missing} are in the columns\"\u001b[0m\u001b[1;33m)\u001b[0m\u001b[1;33m\u001b[0m\u001b[1;33m\u001b[0m\u001b[0m\n\u001b[0m\u001b[0;32m   5452\u001b[0m \u001b[1;33m\u001b[0m\u001b[0m\n\u001b[0;32m   5453\u001b[0m         \u001b[1;32mif\u001b[0m \u001b[0minplace\u001b[0m\u001b[1;33m:\u001b[0m\u001b[1;33m\u001b[0m\u001b[1;33m\u001b[0m\u001b[0m\n",
      "\u001b[1;31mKeyError\u001b[0m: \"None of ['Data'] are in the columns\""
     ]
    }
   ],
   "source": [
    "cambio_filtrado = cambio_filtrado.set_index('Data')\n"
   ]
  },
  {
   "cell_type": "code",
   "execution_count": 293,
   "id": "037723e5",
   "metadata": {},
   "outputs": [
    {
     "data": {
      "text/html": [
       "<div>\n",
       "<style scoped>\n",
       "    .dataframe tbody tr th:only-of-type {\n",
       "        vertical-align: middle;\n",
       "    }\n",
       "\n",
       "    .dataframe tbody tr th {\n",
       "        vertical-align: top;\n",
       "    }\n",
       "\n",
       "    .dataframe thead th {\n",
       "        text-align: right;\n",
       "    }\n",
       "</style>\n",
       "<table border=\"1\" class=\"dataframe\">\n",
       "  <thead>\n",
       "    <tr style=\"text-align: right;\">\n",
       "      <th></th>\n",
       "      <th>Cambio</th>\n",
       "    </tr>\n",
       "    <tr>\n",
       "      <th>Data</th>\n",
       "      <th></th>\n",
       "    </tr>\n",
       "  </thead>\n",
       "  <tbody>\n",
       "    <tr>\n",
       "      <th>1995-01</th>\n",
       "      <td>0.8400</td>\n",
       "    </tr>\n",
       "    <tr>\n",
       "      <th>1995-02</th>\n",
       "      <td>0.8495</td>\n",
       "    </tr>\n",
       "    <tr>\n",
       "      <th>1995-03</th>\n",
       "      <td>0.8940</td>\n",
       "    </tr>\n",
       "    <tr>\n",
       "      <th>1995-04</th>\n",
       "      <td>0.9110</td>\n",
       "    </tr>\n",
       "    <tr>\n",
       "      <th>1995-05</th>\n",
       "      <td>0.9040</td>\n",
       "    </tr>\n",
       "    <tr>\n",
       "      <th>...</th>\n",
       "      <td>...</td>\n",
       "    </tr>\n",
       "    <tr>\n",
       "      <th>2021-08</th>\n",
       "      <td>5.1427</td>\n",
       "    </tr>\n",
       "    <tr>\n",
       "      <th>2021-09</th>\n",
       "      <td>5.4388</td>\n",
       "    </tr>\n",
       "    <tr>\n",
       "      <th>2021-10</th>\n",
       "      <td>5.6424</td>\n",
       "    </tr>\n",
       "    <tr>\n",
       "      <th>2021-11</th>\n",
       "      <td>5.6193</td>\n",
       "    </tr>\n",
       "    <tr>\n",
       "      <th>2021-12</th>\n",
       "      <td>5.5799</td>\n",
       "    </tr>\n",
       "  </tbody>\n",
       "</table>\n",
       "<p>324 rows × 1 columns</p>\n",
       "</div>"
      ],
      "text/plain": [
       "         Cambio\n",
       "Data           \n",
       "1995-01  0.8400\n",
       "1995-02  0.8495\n",
       "1995-03  0.8940\n",
       "1995-04  0.9110\n",
       "1995-05  0.9040\n",
       "...         ...\n",
       "2021-08  5.1427\n",
       "2021-09  5.4388\n",
       "2021-10  5.6424\n",
       "2021-11  5.6193\n",
       "2021-12  5.5799\n",
       "\n",
       "[324 rows x 1 columns]"
      ]
     },
     "execution_count": 293,
     "metadata": {},
     "output_type": "execute_result"
    }
   ],
   "source": [
    "cambio_filtrado"
   ]
  },
  {
   "cell_type": "code",
   "execution_count": 303,
   "id": "7fa633d5",
   "metadata": {
    "scrolled": true
   },
   "outputs": [
    {
     "data": {
      "image/png": "[encoded data removed]",
      "text/plain": [
       "<Figure size 1800x720 with 1 Axes>"
      ]
     },
     "metadata": {
      "needs_background": "light"
     },
     "output_type": "display_data"
    }
   ],
   "source": [
    "fig, axs = plt.subplots(figsize=(25,10))\n",
    "cambio_filtrado['Cambio'].plot(ax=axs)\n",
    "axs.set_xlabel('Data')\n",
    "plt.show()"
   ]
  },
  {
   "attachments": {},
   "cell_type": "markdown",
   "id": "77d3cfaa",
   "metadata": {},
   "source": [
    "## Teste da Raiz Unitária para a Taxa de Cambio #"
   ]
  },
  {
   "cell_type": "code",
   "execution_count": 275,
   "id": "71709710",
   "metadata": {},
   "outputs": [
    {
     "name": "stdout",
     "output_type": "stream",
     "text": [
      "Results of Dickey-Fuller Test:\n",
      "Test Statistic                  -0.051346\n",
      "p-value                          0.954074\n",
      "#Lags Used                       0.000000\n",
      "Number of Observations Used    323.000000\n",
      "Critical Value (1%)             -3.450759\n",
      "Critical Value (5%)             -2.870530\n",
      "Critical Value (10%)            -2.571560\n",
      "dtype: float64\n"
     ]
    }
   ],
   "source": [
    "adf_test(cambio_filtrado[\"Cambio\"])"
   ]
  },
  {
   "attachments": {},
   "cell_type": "markdown",
   "id": "22674884",
   "metadata": {},
   "source": [
    "### Para o Teste ADF, o valor da estatística de teste ficou em -0,05, fora da região crítica. Nesse caso, falhamos em rejeitar a hipótese nula que, para o teste ADF é de existir 1 raíz unitária. Sendo assim, há evidências de uma raíz unitária na série de câmbio. ###"
   ]
  },
  {
   "cell_type": "code",
   "execution_count": 276,
   "id": "f2fcca68",
   "metadata": {},
   "outputs": [
    {
     "name": "stdout",
     "output_type": "stream",
     "text": [
      "Results of KPSS Test:\n",
      "Test Statistic            1.612772\n",
      "p-value                   0.010000\n",
      "Lags Used                11.000000\n",
      "Critical Value (10%)      0.347000\n",
      "Critical Value (5%)       0.463000\n",
      "Critical Value (2.5%)     0.574000\n",
      "Critical Value (1%)       0.739000\n",
      "dtype: float64\n"
     ]
    },
    {
     "name": "stderr",
     "output_type": "stream",
     "text": [
      "C:\\Users\\luizv\\anaconda3\\lib\\site-packages\\statsmodels\\tsa\\stattools.py:1906: InterpolationWarning: The test statistic is outside of the range of p-values available in the\n",
      "look-up table. The actual p-value is smaller than the p-value returned.\n",
      "\n",
      "  warnings.warn(\n"
     ]
    }
   ],
   "source": [
    "kpss_test(cambio_filtrado['Cambio'])"
   ]
  },
  {
   "attachments": {},
   "cell_type": "markdown",
   "id": "08e4ca32",
   "metadata": {},
   "source": [
    "### Para o teste KPSS, dado que a hipótese nula é de não possuir uma raíz unitária e para a estatística do teste de 1.61, rejeitamos a hipótese nula para todos os valores críticos e, assim, podemos concluir que a série é não estacionária ###"
   ]
  },
  {
   "cell_type": "code",
   "execution_count": 518,
   "id": "c29fea19",
   "metadata": {},
   "outputs": [
    {
     "data": {
      "image/png": "[encoded data removed]",
      "text/plain": [
       "<Figure size 432x288 with 1 Axes>"
      ]
     },
     "metadata": {
      "needs_background": "light"
     },
     "output_type": "display_data"
    },
    {
     "data": {
      "image/png": "[encoded data removed]",
      "text/plain": [
       "<Figure size 432x288 with 1 Axes>"
      ]
     },
     "metadata": {
      "needs_background": "light"
     },
     "output_type": "display_data"
    }
   ],
   "source": [
    "pacf_cambio = plot_pacf(cambio_filtrado['Cambio'])\n",
    "acf_cambio = plot_acf(cambio_filtrado['Cambio'])"
   ]
  },
  {
   "attachments": {},
   "cell_type": "markdown",
   "id": "6d73a95a",
   "metadata": {},
   "source": [
    "## 3. Taxa Selic ##\n"
   ]
  },
  {
   "cell_type": "code",
   "execution_count": 324,
   "id": "458cfc0b",
   "metadata": {},
   "outputs": [],
   "source": [
    "## Disponível em: https://www3.bcb.gov.br/sgspub/consultarvalores/consultarValoresSeries.do?method=getPagina ##"
   ]
  },
  {
   "cell_type": "code",
   "execution_count": 372,
   "id": "ae345159",
   "metadata": {},
   "outputs": [],
   "source": [
    "selic = pd.read_csv('taxa_selic.csv', sep = ';', index_col = 'Data')"
   ]
  },
  {
   "cell_type": "code",
   "execution_count": 373,
   "id": "c5b67306",
   "metadata": {},
   "outputs": [
    {
     "data": {
      "text/html": [
       "<div>\n",
       "<style scoped>\n",
       "    .dataframe tbody tr th:only-of-type {\n",
       "        vertical-align: middle;\n",
       "    }\n",
       "\n",
       "    .dataframe tbody tr th {\n",
       "        vertical-align: top;\n",
       "    }\n",
       "\n",
       "    .dataframe thead th {\n",
       "        text-align: right;\n",
       "    }\n",
       "</style>\n",
       "<table border=\"1\" class=\"dataframe\">\n",
       "  <thead>\n",
       "    <tr style=\"text-align: right;\">\n",
       "      <th></th>\n",
       "      <th>Taxa de juros - Over / Selic - (% a.a.) - Banco Central do Brasil, Sistema Gerenciador de Séries Temporais (Bacen Outras/SGS) - GM366_TJOVER366</th>\n",
       "      <th>Unnamed: 2</th>\n",
       "    </tr>\n",
       "    <tr>\n",
       "      <th>Data</th>\n",
       "      <th></th>\n",
       "      <th></th>\n",
       "    </tr>\n",
       "  </thead>\n",
       "  <tbody>\n",
       "    <tr>\n",
       "      <th>04/06/1986</th>\n",
       "      <td>17,8</td>\n",
       "      <td>NaN</td>\n",
       "    </tr>\n",
       "    <tr>\n",
       "      <th>05/06/1986</th>\n",
       "      <td>18,5</td>\n",
       "      <td>NaN</td>\n",
       "    </tr>\n",
       "    <tr>\n",
       "      <th>06/06/1986</th>\n",
       "      <td>18,3</td>\n",
       "      <td>NaN</td>\n",
       "    </tr>\n",
       "    <tr>\n",
       "      <th>07/06/1986</th>\n",
       "      <td>NaN</td>\n",
       "      <td>NaN</td>\n",
       "    </tr>\n",
       "    <tr>\n",
       "      <th>08/06/1986</th>\n",
       "      <td>NaN</td>\n",
       "      <td>NaN</td>\n",
       "    </tr>\n",
       "    <tr>\n",
       "      <th>...</th>\n",
       "      <td>...</td>\n",
       "      <td>...</td>\n",
       "    </tr>\n",
       "    <tr>\n",
       "      <th>19/06/2023</th>\n",
       "      <td>13,65</td>\n",
       "      <td>NaN</td>\n",
       "    </tr>\n",
       "    <tr>\n",
       "      <th>20/06/2023</th>\n",
       "      <td>13,65</td>\n",
       "      <td>NaN</td>\n",
       "    </tr>\n",
       "    <tr>\n",
       "      <th>21/06/2023</th>\n",
       "      <td>13,65</td>\n",
       "      <td>NaN</td>\n",
       "    </tr>\n",
       "    <tr>\n",
       "      <th>22/06/2023</th>\n",
       "      <td>13,65</td>\n",
       "      <td>NaN</td>\n",
       "    </tr>\n",
       "    <tr>\n",
       "      <th>23/06/2023</th>\n",
       "      <td>13,65</td>\n",
       "      <td>NaN</td>\n",
       "    </tr>\n",
       "  </tbody>\n",
       "</table>\n",
       "<p>13534 rows × 2 columns</p>\n",
       "</div>"
      ],
      "text/plain": [
       "           Taxa de juros - Over / Selic - (% a.a.) - Banco Central do Brasil, Sistema Gerenciador de Séries Temporais (Bacen Outras/SGS) - GM366_TJOVER366  \\\n",
       "Data                                                                                                                                                         \n",
       "04/06/1986                                               17,8                                                                                                \n",
       "05/06/1986                                               18,5                                                                                                \n",
       "06/06/1986                                               18,3                                                                                                \n",
       "07/06/1986                                                NaN                                                                                                \n",
       "08/06/1986                                                NaN                                                                                                \n",
       "...                                                       ...                                                                                                \n",
       "19/06/2023                                              13,65                                                                                                \n",
       "20/06/2023                                              13,65                                                                                                \n",
       "21/06/2023                                              13,65                                                                                                \n",
       "22/06/2023                                              13,65                                                                                                \n",
       "23/06/2023                                              13,65                                                                                                \n",
       "\n",
       "            Unnamed: 2  \n",
       "Data                    \n",
       "04/06/1986         NaN  \n",
       "05/06/1986         NaN  \n",
       "06/06/1986         NaN  \n",
       "07/06/1986         NaN  \n",
       "08/06/1986         NaN  \n",
       "...                ...  \n",
       "19/06/2023         NaN  \n",
       "20/06/2023         NaN  \n",
       "21/06/2023         NaN  \n",
       "22/06/2023         NaN  \n",
       "23/06/2023         NaN  \n",
       "\n",
       "[13534 rows x 2 columns]"
      ]
     },
     "execution_count": 373,
     "metadata": {},
     "output_type": "execute_result"
    }
   ],
   "source": [
    "selic"
   ]
  },
  {
   "cell_type": "code",
   "execution_count": 374,
   "id": "233fd5ab",
   "metadata": {},
   "outputs": [],
   "source": [
    "selic = selic.rename(columns={'Taxa de juros - Over / Selic - (% a.a.) - Banco Central do Brasil, Sistema Gerenciador de Séries Temporais (Bacen Outras/SGS) - GM366_TJOVER366':'Selic'})"
   ]
  },
  {
   "cell_type": "code",
   "execution_count": 375,
   "id": "35a94046",
   "metadata": {},
   "outputs": [],
   "source": [
    "selic = selic.drop('Unnamed: 2', axis = 1)"
   ]
  },
  {
   "cell_type": "code",
   "execution_count": 376,
   "id": "af4b23d9",
   "metadata": {},
   "outputs": [
    {
     "data": {
      "text/html": [
       "<div>\n",
       "<style scoped>\n",
       "    .dataframe tbody tr th:only-of-type {\n",
       "        vertical-align: middle;\n",
       "    }\n",
       "\n",
       "    .dataframe tbody tr th {\n",
       "        vertical-align: top;\n",
       "    }\n",
       "\n",
       "    .dataframe thead th {\n",
       "        text-align: right;\n",
       "    }\n",
       "</style>\n",
       "<table border=\"1\" class=\"dataframe\">\n",
       "  <thead>\n",
       "    <tr style=\"text-align: right;\">\n",
       "      <th></th>\n",
       "      <th>Selic</th>\n",
       "    </tr>\n",
       "    <tr>\n",
       "      <th>Data</th>\n",
       "      <th></th>\n",
       "    </tr>\n",
       "  </thead>\n",
       "  <tbody>\n",
       "    <tr>\n",
       "      <th>04/06/1986</th>\n",
       "      <td>17,8</td>\n",
       "    </tr>\n",
       "    <tr>\n",
       "      <th>05/06/1986</th>\n",
       "      <td>18,5</td>\n",
       "    </tr>\n",
       "    <tr>\n",
       "      <th>06/06/1986</th>\n",
       "      <td>18,3</td>\n",
       "    </tr>\n",
       "    <tr>\n",
       "      <th>07/06/1986</th>\n",
       "      <td>NaN</td>\n",
       "    </tr>\n",
       "    <tr>\n",
       "      <th>08/06/1986</th>\n",
       "      <td>NaN</td>\n",
       "    </tr>\n",
       "    <tr>\n",
       "      <th>...</th>\n",
       "      <td>...</td>\n",
       "    </tr>\n",
       "    <tr>\n",
       "      <th>19/06/2023</th>\n",
       "      <td>13,65</td>\n",
       "    </tr>\n",
       "    <tr>\n",
       "      <th>20/06/2023</th>\n",
       "      <td>13,65</td>\n",
       "    </tr>\n",
       "    <tr>\n",
       "      <th>21/06/2023</th>\n",
       "      <td>13,65</td>\n",
       "    </tr>\n",
       "    <tr>\n",
       "      <th>22/06/2023</th>\n",
       "      <td>13,65</td>\n",
       "    </tr>\n",
       "    <tr>\n",
       "      <th>23/06/2023</th>\n",
       "      <td>13,65</td>\n",
       "    </tr>\n",
       "  </tbody>\n",
       "</table>\n",
       "<p>13534 rows × 1 columns</p>\n",
       "</div>"
      ],
      "text/plain": [
       "            Selic\n",
       "Data             \n",
       "04/06/1986   17,8\n",
       "05/06/1986   18,5\n",
       "06/06/1986   18,3\n",
       "07/06/1986    NaN\n",
       "08/06/1986    NaN\n",
       "...           ...\n",
       "19/06/2023  13,65\n",
       "20/06/2023  13,65\n",
       "21/06/2023  13,65\n",
       "22/06/2023  13,65\n",
       "23/06/2023  13,65\n",
       "\n",
       "[13534 rows x 1 columns]"
      ]
     },
     "execution_count": 376,
     "metadata": {},
     "output_type": "execute_result"
    }
   ],
   "source": [
    "selic"
   ]
  },
  {
   "cell_type": "code",
   "execution_count": 382,
   "id": "5020eda2",
   "metadata": {},
   "outputs": [
    {
     "data": {
      "text/plain": [
       "Selic    object\n",
       "dtype: object"
      ]
     },
     "execution_count": 382,
     "metadata": {},
     "output_type": "execute_result"
    }
   ],
   "source": [
    "selic.dtypes"
   ]
  },
  {
   "cell_type": "code",
   "execution_count": 383,
   "id": "4742b4c8",
   "metadata": {},
   "outputs": [],
   "source": [
    "selic[\"Selic\"] = selic[\"Selic\"].astype(str)\n",
    "selic['Selic'] = selic['Selic'].apply(lambda x: str(x.replace(\".\",\"\").replace(\",\",\".\")))"
   ]
  },
  {
   "cell_type": "code",
   "execution_count": 386,
   "id": "c944562b",
   "metadata": {},
   "outputs": [
    {
     "data": {
      "text/plain": [
       "Selic    object\n",
       "dtype: object"
      ]
     },
     "execution_count": 386,
     "metadata": {},
     "output_type": "execute_result"
    }
   ],
   "source": [
    "selic\n",
    "selic.dtypes"
   ]
  },
  {
   "cell_type": "code",
   "execution_count": 389,
   "id": "91e2d899",
   "metadata": {},
   "outputs": [
    {
     "data": {
      "text/plain": [
       "Selic    float64\n",
       "dtype: object"
      ]
     },
     "execution_count": 389,
     "metadata": {},
     "output_type": "execute_result"
    }
   ],
   "source": [
    "selic[\"Selic\"] = selic[\"Selic\"].astype(float)\n",
    "selic.dtypes"
   ]
  },
  {
   "cell_type": "code",
   "execution_count": 396,
   "id": "8fd6d401",
   "metadata": {},
   "outputs": [],
   "source": [
    "selic.reset_index(inplace=True)"
   ]
  },
  {
   "cell_type": "code",
   "execution_count": 397,
   "id": "e523b95e",
   "metadata": {},
   "outputs": [
    {
     "data": {
      "text/html": [
       "<div>\n",
       "<style scoped>\n",
       "    .dataframe tbody tr th:only-of-type {\n",
       "        vertical-align: middle;\n",
       "    }\n",
       "\n",
       "    .dataframe tbody tr th {\n",
       "        vertical-align: top;\n",
       "    }\n",
       "\n",
       "    .dataframe thead th {\n",
       "        text-align: right;\n",
       "    }\n",
       "</style>\n",
       "<table border=\"1\" class=\"dataframe\">\n",
       "  <thead>\n",
       "    <tr style=\"text-align: right;\">\n",
       "      <th></th>\n",
       "      <th>Data</th>\n",
       "      <th>Selic</th>\n",
       "    </tr>\n",
       "  </thead>\n",
       "  <tbody>\n",
       "    <tr>\n",
       "      <th>0</th>\n",
       "      <td>04/06/1986</td>\n",
       "      <td>17.80</td>\n",
       "    </tr>\n",
       "    <tr>\n",
       "      <th>1</th>\n",
       "      <td>05/06/1986</td>\n",
       "      <td>18.50</td>\n",
       "    </tr>\n",
       "    <tr>\n",
       "      <th>2</th>\n",
       "      <td>06/06/1986</td>\n",
       "      <td>18.30</td>\n",
       "    </tr>\n",
       "    <tr>\n",
       "      <th>3</th>\n",
       "      <td>07/06/1986</td>\n",
       "      <td>NaN</td>\n",
       "    </tr>\n",
       "    <tr>\n",
       "      <th>4</th>\n",
       "      <td>08/06/1986</td>\n",
       "      <td>NaN</td>\n",
       "    </tr>\n",
       "    <tr>\n",
       "      <th>...</th>\n",
       "      <td>...</td>\n",
       "      <td>...</td>\n",
       "    </tr>\n",
       "    <tr>\n",
       "      <th>13529</th>\n",
       "      <td>19/06/2023</td>\n",
       "      <td>13.65</td>\n",
       "    </tr>\n",
       "    <tr>\n",
       "      <th>13530</th>\n",
       "      <td>20/06/2023</td>\n",
       "      <td>13.65</td>\n",
       "    </tr>\n",
       "    <tr>\n",
       "      <th>13531</th>\n",
       "      <td>21/06/2023</td>\n",
       "      <td>13.65</td>\n",
       "    </tr>\n",
       "    <tr>\n",
       "      <th>13532</th>\n",
       "      <td>22/06/2023</td>\n",
       "      <td>13.65</td>\n",
       "    </tr>\n",
       "    <tr>\n",
       "      <th>13533</th>\n",
       "      <td>23/06/2023</td>\n",
       "      <td>13.65</td>\n",
       "    </tr>\n",
       "  </tbody>\n",
       "</table>\n",
       "<p>13534 rows × 2 columns</p>\n",
       "</div>"
      ],
      "text/plain": [
       "             Data  Selic\n",
       "0      04/06/1986  17.80\n",
       "1      05/06/1986  18.50\n",
       "2      06/06/1986  18.30\n",
       "3      07/06/1986    NaN\n",
       "4      08/06/1986    NaN\n",
       "...           ...    ...\n",
       "13529  19/06/2023  13.65\n",
       "13530  20/06/2023  13.65\n",
       "13531  21/06/2023  13.65\n",
       "13532  22/06/2023  13.65\n",
       "13533  23/06/2023  13.65\n",
       "\n",
       "[13534 rows x 2 columns]"
      ]
     },
     "execution_count": 397,
     "metadata": {},
     "output_type": "execute_result"
    }
   ],
   "source": [
    "selic"
   ]
  },
  {
   "cell_type": "code",
   "execution_count": 400,
   "id": "2ead43e3",
   "metadata": {},
   "outputs": [
    {
     "data": {
      "text/plain": [
       "Data      object\n",
       "Selic    float64\n",
       "dtype: object"
      ]
     },
     "execution_count": 400,
     "metadata": {},
     "output_type": "execute_result"
    }
   ],
   "source": [
    "selic.dtypes"
   ]
  },
  {
   "cell_type": "code",
   "execution_count": 403,
   "id": "336e9031",
   "metadata": {},
   "outputs": [],
   "source": [
    "selic['Data'] = pd.to_datetime(selic['Data'], format='%d/%m/%Y')"
   ]
  },
  {
   "cell_type": "code",
   "execution_count": 404,
   "id": "7b10e169",
   "metadata": {},
   "outputs": [],
   "source": [
    "import datetime\n",
    "data_inicio = datetime.datetime(1995, 1, 1)\n",
    "data_final = datetime.datetime(2022, 1, 1)\n",
    "\n",
    "selic_filtrado = selic[(data_inicio <= selic[\"Data\"]) &  (data_final > selic[\"Data\"])]"
   ]
  },
  {
   "cell_type": "code",
   "execution_count": 405,
   "id": "284bc905",
   "metadata": {},
   "outputs": [
    {
     "data": {
      "text/html": [
       "<div>\n",
       "<style scoped>\n",
       "    .dataframe tbody tr th:only-of-type {\n",
       "        vertical-align: middle;\n",
       "    }\n",
       "\n",
       "    .dataframe tbody tr th {\n",
       "        vertical-align: top;\n",
       "    }\n",
       "\n",
       "    .dataframe thead th {\n",
       "        text-align: right;\n",
       "    }\n",
       "</style>\n",
       "<table border=\"1\" class=\"dataframe\">\n",
       "  <thead>\n",
       "    <tr style=\"text-align: right;\">\n",
       "      <th></th>\n",
       "      <th>Data</th>\n",
       "      <th>Selic</th>\n",
       "    </tr>\n",
       "  </thead>\n",
       "  <tbody>\n",
       "    <tr>\n",
       "      <th>3133</th>\n",
       "      <td>1995-01-01</td>\n",
       "      <td>NaN</td>\n",
       "    </tr>\n",
       "    <tr>\n",
       "      <th>3134</th>\n",
       "      <td>1995-01-02</td>\n",
       "      <td>47.37</td>\n",
       "    </tr>\n",
       "    <tr>\n",
       "      <th>3135</th>\n",
       "      <td>1995-01-03</td>\n",
       "      <td>47.12</td>\n",
       "    </tr>\n",
       "    <tr>\n",
       "      <th>3136</th>\n",
       "      <td>1995-01-04</td>\n",
       "      <td>47.12</td>\n",
       "    </tr>\n",
       "    <tr>\n",
       "      <th>3137</th>\n",
       "      <td>1995-01-05</td>\n",
       "      <td>47.12</td>\n",
       "    </tr>\n",
       "    <tr>\n",
       "      <th>...</th>\n",
       "      <td>...</td>\n",
       "      <td>...</td>\n",
       "    </tr>\n",
       "    <tr>\n",
       "      <th>12990</th>\n",
       "      <td>2021-12-27</td>\n",
       "      <td>9.15</td>\n",
       "    </tr>\n",
       "    <tr>\n",
       "      <th>12991</th>\n",
       "      <td>2021-12-28</td>\n",
       "      <td>9.15</td>\n",
       "    </tr>\n",
       "    <tr>\n",
       "      <th>12992</th>\n",
       "      <td>2021-12-29</td>\n",
       "      <td>9.15</td>\n",
       "    </tr>\n",
       "    <tr>\n",
       "      <th>12993</th>\n",
       "      <td>2021-12-30</td>\n",
       "      <td>9.15</td>\n",
       "    </tr>\n",
       "    <tr>\n",
       "      <th>12994</th>\n",
       "      <td>2021-12-31</td>\n",
       "      <td>9.15</td>\n",
       "    </tr>\n",
       "  </tbody>\n",
       "</table>\n",
       "<p>9862 rows × 2 columns</p>\n",
       "</div>"
      ],
      "text/plain": [
       "            Data  Selic\n",
       "3133  1995-01-01    NaN\n",
       "3134  1995-01-02  47.37\n",
       "3135  1995-01-03  47.12\n",
       "3136  1995-01-04  47.12\n",
       "3137  1995-01-05  47.12\n",
       "...          ...    ...\n",
       "12990 2021-12-27   9.15\n",
       "12991 2021-12-28   9.15\n",
       "12992 2021-12-29   9.15\n",
       "12993 2021-12-30   9.15\n",
       "12994 2021-12-31   9.15\n",
       "\n",
       "[9862 rows x 2 columns]"
      ]
     },
     "execution_count": 405,
     "metadata": {},
     "output_type": "execute_result"
    }
   ],
   "source": [
    "selic_filtrado"
   ]
  },
  {
   "cell_type": "code",
   "execution_count": 406,
   "id": "8857a33b",
   "metadata": {},
   "outputs": [
    {
     "data": {
      "text/html": [
       "<div>\n",
       "<style scoped>\n",
       "    .dataframe tbody tr th:only-of-type {\n",
       "        vertical-align: middle;\n",
       "    }\n",
       "\n",
       "    .dataframe tbody tr th {\n",
       "        vertical-align: top;\n",
       "    }\n",
       "\n",
       "    .dataframe thead th {\n",
       "        text-align: right;\n",
       "    }\n",
       "</style>\n",
       "<table border=\"1\" class=\"dataframe\">\n",
       "  <thead>\n",
       "    <tr style=\"text-align: right;\">\n",
       "      <th></th>\n",
       "      <th>Selic</th>\n",
       "    </tr>\n",
       "    <tr>\n",
       "      <th>Data</th>\n",
       "      <th></th>\n",
       "    </tr>\n",
       "  </thead>\n",
       "  <tbody>\n",
       "    <tr>\n",
       "      <th>1995-01-01</th>\n",
       "      <td>NaN</td>\n",
       "    </tr>\n",
       "    <tr>\n",
       "      <th>1995-01-02</th>\n",
       "      <td>47.37</td>\n",
       "    </tr>\n",
       "    <tr>\n",
       "      <th>1995-01-03</th>\n",
       "      <td>47.12</td>\n",
       "    </tr>\n",
       "    <tr>\n",
       "      <th>1995-01-04</th>\n",
       "      <td>47.12</td>\n",
       "    </tr>\n",
       "    <tr>\n",
       "      <th>1995-01-05</th>\n",
       "      <td>47.12</td>\n",
       "    </tr>\n",
       "    <tr>\n",
       "      <th>...</th>\n",
       "      <td>...</td>\n",
       "    </tr>\n",
       "    <tr>\n",
       "      <th>2021-12-27</th>\n",
       "      <td>9.15</td>\n",
       "    </tr>\n",
       "    <tr>\n",
       "      <th>2021-12-28</th>\n",
       "      <td>9.15</td>\n",
       "    </tr>\n",
       "    <tr>\n",
       "      <th>2021-12-29</th>\n",
       "      <td>9.15</td>\n",
       "    </tr>\n",
       "    <tr>\n",
       "      <th>2021-12-30</th>\n",
       "      <td>9.15</td>\n",
       "    </tr>\n",
       "    <tr>\n",
       "      <th>2021-12-31</th>\n",
       "      <td>9.15</td>\n",
       "    </tr>\n",
       "  </tbody>\n",
       "</table>\n",
       "<p>9862 rows × 1 columns</p>\n",
       "</div>"
      ],
      "text/plain": [
       "            Selic\n",
       "Data             \n",
       "1995-01-01    NaN\n",
       "1995-01-02  47.37\n",
       "1995-01-03  47.12\n",
       "1995-01-04  47.12\n",
       "1995-01-05  47.12\n",
       "...           ...\n",
       "2021-12-27   9.15\n",
       "2021-12-28   9.15\n",
       "2021-12-29   9.15\n",
       "2021-12-30   9.15\n",
       "2021-12-31   9.15\n",
       "\n",
       "[9862 rows x 1 columns]"
      ]
     },
     "execution_count": 406,
     "metadata": {},
     "output_type": "execute_result"
    }
   ],
   "source": [
    "selic_filtrado.set_index('Data')"
   ]
  },
  {
   "attachments": {},
   "cell_type": "markdown",
   "id": "9a3d8008",
   "metadata": {},
   "source": [
    "## 4. IBOVESPA ##"
   ]
  },
  {
   "cell_type": "code",
   "execution_count": 408,
   "id": "596ba2ef",
   "metadata": {},
   "outputs": [],
   "source": [
    "### Disponível em: https://br.investing.com/indices/bovespa-historical-data ###"
   ]
  },
  {
   "cell_type": "code",
   "execution_count": 460,
   "id": "4c5a0906",
   "metadata": {},
   "outputs": [],
   "source": [
    "ibov = pd.read_csv('Ibovespa.csv', sep = ',', encoding = 'utf-8')"
   ]
  },
  {
   "cell_type": "code",
   "execution_count": 461,
   "id": "72b6d986",
   "metadata": {},
   "outputs": [
    {
     "data": {
      "text/html": [
       "<div>\n",
       "<style scoped>\n",
       "    .dataframe tbody tr th:only-of-type {\n",
       "        vertical-align: middle;\n",
       "    }\n",
       "\n",
       "    .dataframe tbody tr th {\n",
       "        vertical-align: top;\n",
       "    }\n",
       "\n",
       "    .dataframe thead th {\n",
       "        text-align: right;\n",
       "    }\n",
       "</style>\n",
       "<table border=\"1\" class=\"dataframe\">\n",
       "  <thead>\n",
       "    <tr style=\"text-align: right;\">\n",
       "      <th></th>\n",
       "      <th>Data</th>\n",
       "      <th>Último</th>\n",
       "      <th>Abertura</th>\n",
       "      <th>Máxima</th>\n",
       "      <th>Mínima</th>\n",
       "      <th>Vol.</th>\n",
       "      <th>Var%</th>\n",
       "    </tr>\n",
       "  </thead>\n",
       "  <tbody>\n",
       "    <tr>\n",
       "      <th>0</th>\n",
       "      <td>01.12.2022</td>\n",
       "      <td>109.735</td>\n",
       "      <td>112.479</td>\n",
       "      <td>113.761</td>\n",
       "      <td>101.632</td>\n",
       "      <td>307,11M</td>\n",
       "      <td>-2,45%</td>\n",
       "    </tr>\n",
       "    <tr>\n",
       "      <th>1</th>\n",
       "      <td>01.11.2022</td>\n",
       "      <td>112.486</td>\n",
       "      <td>116.037</td>\n",
       "      <td>120.039</td>\n",
       "      <td>107.245</td>\n",
       "      <td>339,62M</td>\n",
       "      <td>-3,06%</td>\n",
       "    </tr>\n",
       "    <tr>\n",
       "      <th>2</th>\n",
       "      <td>01.10.2022</td>\n",
       "      <td>116.037</td>\n",
       "      <td>110.048</td>\n",
       "      <td>120.752</td>\n",
       "      <td>110.048</td>\n",
       "      <td>301,26M</td>\n",
       "      <td>5,45%</td>\n",
       "    </tr>\n",
       "    <tr>\n",
       "      <th>3</th>\n",
       "      <td>01.09.2022</td>\n",
       "      <td>110.037</td>\n",
       "      <td>109.524</td>\n",
       "      <td>114.392</td>\n",
       "      <td>106.244</td>\n",
       "      <td>288,74M</td>\n",
       "      <td>0,47%</td>\n",
       "    </tr>\n",
       "    <tr>\n",
       "      <th>4</th>\n",
       "      <td>01.08.2022</td>\n",
       "      <td>109.523</td>\n",
       "      <td>103.165</td>\n",
       "      <td>114.376</td>\n",
       "      <td>101.694</td>\n",
       "      <td>297,13M</td>\n",
       "      <td>6,16%</td>\n",
       "    </tr>\n",
       "    <tr>\n",
       "      <th>...</th>\n",
       "      <td>...</td>\n",
       "      <td>...</td>\n",
       "      <td>...</td>\n",
       "      <td>...</td>\n",
       "      <td>...</td>\n",
       "      <td>...</td>\n",
       "      <td>...</td>\n",
       "    </tr>\n",
       "    <tr>\n",
       "      <th>331</th>\n",
       "      <td>01.05.1995</td>\n",
       "      <td>3.721</td>\n",
       "      <td>3.814</td>\n",
       "      <td>4.185</td>\n",
       "      <td>3.689</td>\n",
       "      <td>234,26B</td>\n",
       "      <td>-2,44%</td>\n",
       "    </tr>\n",
       "    <tr>\n",
       "      <th>332</th>\n",
       "      <td>01.04.1995</td>\n",
       "      <td>3.814</td>\n",
       "      <td>2.979</td>\n",
       "      <td>3.924</td>\n",
       "      <td>2.867</td>\n",
       "      <td>210,99B</td>\n",
       "      <td>28,02%</td>\n",
       "    </tr>\n",
       "    <tr>\n",
       "      <th>333</th>\n",
       "      <td>01.03.1995</td>\n",
       "      <td>2.979</td>\n",
       "      <td>3.271</td>\n",
       "      <td>3.495</td>\n",
       "      <td>2.110</td>\n",
       "      <td>242,62B</td>\n",
       "      <td>-8,92%</td>\n",
       "    </tr>\n",
       "    <tr>\n",
       "      <th>334</th>\n",
       "      <td>01.02.1995</td>\n",
       "      <td>3.271</td>\n",
       "      <td>3.885</td>\n",
       "      <td>4.067</td>\n",
       "      <td>2.762</td>\n",
       "      <td>179,37B</td>\n",
       "      <td>-15,81%</td>\n",
       "    </tr>\n",
       "    <tr>\n",
       "      <th>335</th>\n",
       "      <td>01.01.1995</td>\n",
       "      <td>3.885</td>\n",
       "      <td>4.354</td>\n",
       "      <td>4.398</td>\n",
       "      <td>3.109</td>\n",
       "      <td>195,74B</td>\n",
       "      <td>-10,77%</td>\n",
       "    </tr>\n",
       "  </tbody>\n",
       "</table>\n",
       "<p>336 rows × 7 columns</p>\n",
       "</div>"
      ],
      "text/plain": [
       "           Data   Último  Abertura   Máxima   Mínima     Vol.     Var%\n",
       "0    01.12.2022  109.735   112.479  113.761  101.632  307,11M   -2,45%\n",
       "1    01.11.2022  112.486   116.037  120.039  107.245  339,62M   -3,06%\n",
       "2    01.10.2022  116.037   110.048  120.752  110.048  301,26M    5,45%\n",
       "3    01.09.2022  110.037   109.524  114.392  106.244  288,74M    0,47%\n",
       "4    01.08.2022  109.523   103.165  114.376  101.694  297,13M    6,16%\n",
       "..          ...      ...       ...      ...      ...      ...      ...\n",
       "331  01.05.1995    3.721     3.814    4.185    3.689  234,26B   -2,44%\n",
       "332  01.04.1995    3.814     2.979    3.924    2.867  210,99B   28,02%\n",
       "333  01.03.1995    2.979     3.271    3.495    2.110  242,62B   -8,92%\n",
       "334  01.02.1995    3.271     3.885    4.067    2.762  179,37B  -15,81%\n",
       "335  01.01.1995    3.885     4.354    4.398    3.109  195,74B  -10,77%\n",
       "\n",
       "[336 rows x 7 columns]"
      ]
     },
     "execution_count": 461,
     "metadata": {},
     "output_type": "execute_result"
    }
   ],
   "source": [
    "ibov"
   ]
  },
  {
   "cell_type": "code",
   "execution_count": 462,
   "id": "a75bc784",
   "metadata": {},
   "outputs": [],
   "source": [
    "ibov = ibov.drop(['Último', 'Máxima', 'Mínima', 'Vol.', 'Var%'],axis = 1)"
   ]
  },
  {
   "cell_type": "code",
   "execution_count": 463,
   "id": "638a5f8b",
   "metadata": {},
   "outputs": [
    {
     "data": {
      "text/html": [
       "<div>\n",
       "<style scoped>\n",
       "    .dataframe tbody tr th:only-of-type {\n",
       "        vertical-align: middle;\n",
       "    }\n",
       "\n",
       "    .dataframe tbody tr th {\n",
       "        vertical-align: top;\n",
       "    }\n",
       "\n",
       "    .dataframe thead th {\n",
       "        text-align: right;\n",
       "    }\n",
       "</style>\n",
       "<table border=\"1\" class=\"dataframe\">\n",
       "  <thead>\n",
       "    <tr style=\"text-align: right;\">\n",
       "      <th></th>\n",
       "      <th>Data</th>\n",
       "      <th>Abertura</th>\n",
       "    </tr>\n",
       "  </thead>\n",
       "  <tbody>\n",
       "    <tr>\n",
       "      <th>0</th>\n",
       "      <td>01.12.2022</td>\n",
       "      <td>112.479</td>\n",
       "    </tr>\n",
       "    <tr>\n",
       "      <th>1</th>\n",
       "      <td>01.11.2022</td>\n",
       "      <td>116.037</td>\n",
       "    </tr>\n",
       "    <tr>\n",
       "      <th>2</th>\n",
       "      <td>01.10.2022</td>\n",
       "      <td>110.048</td>\n",
       "    </tr>\n",
       "    <tr>\n",
       "      <th>3</th>\n",
       "      <td>01.09.2022</td>\n",
       "      <td>109.524</td>\n",
       "    </tr>\n",
       "    <tr>\n",
       "      <th>4</th>\n",
       "      <td>01.08.2022</td>\n",
       "      <td>103.165</td>\n",
       "    </tr>\n",
       "    <tr>\n",
       "      <th>...</th>\n",
       "      <td>...</td>\n",
       "      <td>...</td>\n",
       "    </tr>\n",
       "    <tr>\n",
       "      <th>331</th>\n",
       "      <td>01.05.1995</td>\n",
       "      <td>3.814</td>\n",
       "    </tr>\n",
       "    <tr>\n",
       "      <th>332</th>\n",
       "      <td>01.04.1995</td>\n",
       "      <td>2.979</td>\n",
       "    </tr>\n",
       "    <tr>\n",
       "      <th>333</th>\n",
       "      <td>01.03.1995</td>\n",
       "      <td>3.271</td>\n",
       "    </tr>\n",
       "    <tr>\n",
       "      <th>334</th>\n",
       "      <td>01.02.1995</td>\n",
       "      <td>3.885</td>\n",
       "    </tr>\n",
       "    <tr>\n",
       "      <th>335</th>\n",
       "      <td>01.01.1995</td>\n",
       "      <td>4.354</td>\n",
       "    </tr>\n",
       "  </tbody>\n",
       "</table>\n",
       "<p>336 rows × 2 columns</p>\n",
       "</div>"
      ],
      "text/plain": [
       "           Data  Abertura\n",
       "0    01.12.2022   112.479\n",
       "1    01.11.2022   116.037\n",
       "2    01.10.2022   110.048\n",
       "3    01.09.2022   109.524\n",
       "4    01.08.2022   103.165\n",
       "..          ...       ...\n",
       "331  01.05.1995     3.814\n",
       "332  01.04.1995     2.979\n",
       "333  01.03.1995     3.271\n",
       "334  01.02.1995     3.885\n",
       "335  01.01.1995     4.354\n",
       "\n",
       "[336 rows x 2 columns]"
      ]
     },
     "execution_count": 463,
     "metadata": {},
     "output_type": "execute_result"
    }
   ],
   "source": [
    "ibov"
   ]
  },
  {
   "cell_type": "code",
   "execution_count": 464,
   "id": "4c18a6a6",
   "metadata": {},
   "outputs": [
    {
     "data": {
      "text/plain": [
       "Data         object\n",
       "Abertura    float64\n",
       "dtype: object"
      ]
     },
     "execution_count": 464,
     "metadata": {},
     "output_type": "execute_result"
    }
   ],
   "source": [
    "ibov.dtypes"
   ]
  },
  {
   "cell_type": "code",
   "execution_count": 465,
   "id": "4be650fe",
   "metadata": {},
   "outputs": [],
   "source": [
    "ibov['Data'] = pd.to_datetime(ibov['Data'], format='%d.%m.%Y')"
   ]
  },
  {
   "cell_type": "code",
   "execution_count": 466,
   "id": "a5c42951",
   "metadata": {},
   "outputs": [
    {
     "data": {
      "text/plain": [
       "Data        datetime64[ns]\n",
       "Abertura           float64\n",
       "dtype: object"
      ]
     },
     "execution_count": 466,
     "metadata": {},
     "output_type": "execute_result"
    }
   ],
   "source": [
    "ibov.dtypes"
   ]
  },
  {
   "cell_type": "code",
   "execution_count": 467,
   "id": "44b1b975",
   "metadata": {},
   "outputs": [],
   "source": [
    "ibov = ibov.set_index('Data')"
   ]
  },
  {
   "cell_type": "code",
   "execution_count": 468,
   "id": "70d27c54",
   "metadata": {
    "scrolled": false
   },
   "outputs": [
    {
     "data": {
      "text/html": [
       "<div>\n",
       "<style scoped>\n",
       "    .dataframe tbody tr th:only-of-type {\n",
       "        vertical-align: middle;\n",
       "    }\n",
       "\n",
       "    .dataframe tbody tr th {\n",
       "        vertical-align: top;\n",
       "    }\n",
       "\n",
       "    .dataframe thead th {\n",
       "        text-align: right;\n",
       "    }\n",
       "</style>\n",
       "<table border=\"1\" class=\"dataframe\">\n",
       "  <thead>\n",
       "    <tr style=\"text-align: right;\">\n",
       "      <th></th>\n",
       "      <th>Abertura</th>\n",
       "    </tr>\n",
       "    <tr>\n",
       "      <th>Data</th>\n",
       "      <th></th>\n",
       "    </tr>\n",
       "  </thead>\n",
       "  <tbody>\n",
       "    <tr>\n",
       "      <th>2022-12-01</th>\n",
       "      <td>112.479</td>\n",
       "    </tr>\n",
       "    <tr>\n",
       "      <th>2022-11-01</th>\n",
       "      <td>116.037</td>\n",
       "    </tr>\n",
       "    <tr>\n",
       "      <th>2022-10-01</th>\n",
       "      <td>110.048</td>\n",
       "    </tr>\n",
       "    <tr>\n",
       "      <th>2022-09-01</th>\n",
       "      <td>109.524</td>\n",
       "    </tr>\n",
       "    <tr>\n",
       "      <th>2022-08-01</th>\n",
       "      <td>103.165</td>\n",
       "    </tr>\n",
       "    <tr>\n",
       "      <th>...</th>\n",
       "      <td>...</td>\n",
       "    </tr>\n",
       "    <tr>\n",
       "      <th>1995-05-01</th>\n",
       "      <td>3.814</td>\n",
       "    </tr>\n",
       "    <tr>\n",
       "      <th>1995-04-01</th>\n",
       "      <td>2.979</td>\n",
       "    </tr>\n",
       "    <tr>\n",
       "      <th>1995-03-01</th>\n",
       "      <td>3.271</td>\n",
       "    </tr>\n",
       "    <tr>\n",
       "      <th>1995-02-01</th>\n",
       "      <td>3.885</td>\n",
       "    </tr>\n",
       "    <tr>\n",
       "      <th>1995-01-01</th>\n",
       "      <td>4.354</td>\n",
       "    </tr>\n",
       "  </tbody>\n",
       "</table>\n",
       "<p>336 rows × 1 columns</p>\n",
       "</div>"
      ],
      "text/plain": [
       "            Abertura\n",
       "Data                \n",
       "2022-12-01   112.479\n",
       "2022-11-01   116.037\n",
       "2022-10-01   110.048\n",
       "2022-09-01   109.524\n",
       "2022-08-01   103.165\n",
       "...              ...\n",
       "1995-05-01     3.814\n",
       "1995-04-01     2.979\n",
       "1995-03-01     3.271\n",
       "1995-02-01     3.885\n",
       "1995-01-01     4.354\n",
       "\n",
       "[336 rows x 1 columns]"
      ]
     },
     "execution_count": 468,
     "metadata": {},
     "output_type": "execute_result"
    }
   ],
   "source": [
    "ibov"
   ]
  },
  {
   "cell_type": "code",
   "execution_count": 469,
   "id": "6d376010",
   "metadata": {},
   "outputs": [
    {
     "data": {
      "image/png": "[encoded data removed]",
      "text/plain": [
       "<Figure size 1800x720 with 1 Axes>"
      ]
     },
     "metadata": {
      "needs_background": "light"
     },
     "output_type": "display_data"
    }
   ],
   "source": [
    "fig, axs = plt.subplots(figsize=(25,10))\n",
    "ibov['Abertura'].plot(ax=axs)\n",
    "axs.set_xlabel('Data')\n",
    "plt.show()"
   ]
  },
  {
   "attachments": {},
   "cell_type": "markdown",
   "id": "88c05df9",
   "metadata": {},
   "source": [
    "### Testes de Raíz Unitária ###"
   ]
  },
  {
   "cell_type": "code",
   "execution_count": 471,
   "id": "93000d07",
   "metadata": {},
   "outputs": [
    {
     "name": "stdout",
     "output_type": "stream",
     "text": [
      "Results of Dickey-Fuller Test:\n",
      "Test Statistic                  -2.471854\n",
      "p-value                          0.122474\n",
      "#Lags Used                      17.000000\n",
      "Number of Observations Used    318.000000\n",
      "Critical Value (1%)             -3.451082\n",
      "Critical Value (5%)             -2.870672\n",
      "Critical Value (10%)            -2.571636\n",
      "dtype: float64\n"
     ]
    }
   ],
   "source": [
    "adf_test(ibov[\"Abertura\"])"
   ]
  },
  {
   "attachments": {},
   "cell_type": "markdown",
   "id": "d9164fd0",
   "metadata": {},
   "source": [
    "### Para o teste ADF, o valor da estatística do teste é de -2.47, o que nos deixa fora da região crítica para todos os valores. Sendo assim, falhamos em rejeitar a hipótese nula, o que indica uma raíz unitária na série. ###"
   ]
  },
  {
   "cell_type": "code",
   "execution_count": 472,
   "id": "7932bc4e",
   "metadata": {},
   "outputs": [
    {
     "name": "stdout",
     "output_type": "stream",
     "text": [
      "Results of KPSS Test:\n",
      "Test Statistic            2.546452\n",
      "p-value                   0.010000\n",
      "Lags Used                11.000000\n",
      "Critical Value (10%)      0.347000\n",
      "Critical Value (5%)       0.463000\n",
      "Critical Value (2.5%)     0.574000\n",
      "Critical Value (1%)       0.739000\n",
      "dtype: float64\n"
     ]
    },
    {
     "name": "stderr",
     "output_type": "stream",
     "text": [
      "C:\\Users\\luizv\\anaconda3\\lib\\site-packages\\statsmodels\\tsa\\stattools.py:1906: InterpolationWarning: The test statistic is outside of the range of p-values available in the\n",
      "look-up table. The actual p-value is smaller than the p-value returned.\n",
      "\n",
      "  warnings.warn(\n"
     ]
    }
   ],
   "source": [
    "kpss_test(ibov['Abertura'])"
   ]
  },
  {
   "attachments": {},
   "cell_type": "markdown",
   "id": "8dde452d",
   "metadata": {},
   "source": [
    "### Para o teste KPSS, com o valor da estatística do teste de 2.54, dado que está dentro da região crítica para todas as significâncias, rejeitamos a hipótese nula, que é de não haver raíz unitária ###"
   ]
  },
  {
   "cell_type": "code",
   "execution_count": 516,
   "id": "c0540827",
   "metadata": {},
   "outputs": [
    {
     "data": {
      "image/png": "[encoded data removed]",
      "text/plain": [
       "<Figure size 432x288 with 1 Axes>"
      ]
     },
     "metadata": {
      "needs_background": "light"
     },
     "output_type": "display_data"
    },
    {
     "data": {
      "image/png": "[encoded data removed]",
      "text/plain": [
       "<Figure size 432x288 with 1 Axes>"
      ]
     },
     "metadata": {
      "needs_background": "light"
     },
     "output_type": "display_data"
    }
   ],
   "source": [
    "pacf_ibov = plot_pacf(ibov['Abertura'])\n",
    "acf_ibov = plot_acf(ibov['Abertura'])"
   ]
  },
  {
   "attachments": {},
   "cell_type": "markdown",
   "id": "0ee30c41",
   "metadata": {},
   "source": [
    "## 5. EMBI - Risco Brasil ##"
   ]
  },
  {
   "cell_type": "code",
   "execution_count": 473,
   "id": "31e61f54",
   "metadata": {},
   "outputs": [],
   "source": [
    "### Disponível em: http://www.ipeadata.gov.br/Default.aspx ###"
   ]
  },
  {
   "cell_type": "code",
   "execution_count": 483,
   "id": "85317eb1",
   "metadata": {},
   "outputs": [],
   "source": [
    "embi = pd.read_csv('embi.csv', sep = ';', encoding = 'utf-8')"
   ]
  },
  {
   "cell_type": "code",
   "execution_count": 484,
   "id": "d8ec450c",
   "metadata": {},
   "outputs": [
    {
     "data": {
      "text/html": [
       "<div>\n",
       "<style scoped>\n",
       "    .dataframe tbody tr th:only-of-type {\n",
       "        vertical-align: middle;\n",
       "    }\n",
       "\n",
       "    .dataframe tbody tr th {\n",
       "        vertical-align: top;\n",
       "    }\n",
       "\n",
       "    .dataframe thead th {\n",
       "        text-align: right;\n",
       "    }\n",
       "</style>\n",
       "<table border=\"1\" class=\"dataframe\">\n",
       "  <thead>\n",
       "    <tr style=\"text-align: right;\">\n",
       "      <th></th>\n",
       "      <th>Data</th>\n",
       "      <th>EMBI + Risco-Brasil - - - JP Morgan - JPM366_EMBI366</th>\n",
       "      <th>Unnamed: 2</th>\n",
       "    </tr>\n",
       "  </thead>\n",
       "  <tbody>\n",
       "    <tr>\n",
       "      <th>0</th>\n",
       "      <td>29/04/1994</td>\n",
       "      <td>1120.0</td>\n",
       "      <td>NaN</td>\n",
       "    </tr>\n",
       "    <tr>\n",
       "      <th>1</th>\n",
       "      <td>30/04/1994</td>\n",
       "      <td>NaN</td>\n",
       "      <td>NaN</td>\n",
       "    </tr>\n",
       "    <tr>\n",
       "      <th>2</th>\n",
       "      <td>01/05/1994</td>\n",
       "      <td>NaN</td>\n",
       "      <td>NaN</td>\n",
       "    </tr>\n",
       "    <tr>\n",
       "      <th>3</th>\n",
       "      <td>02/05/1994</td>\n",
       "      <td>1131.0</td>\n",
       "      <td>NaN</td>\n",
       "    </tr>\n",
       "    <tr>\n",
       "      <th>4</th>\n",
       "      <td>03/05/1994</td>\n",
       "      <td>1081.0</td>\n",
       "      <td>NaN</td>\n",
       "    </tr>\n",
       "    <tr>\n",
       "      <th>...</th>\n",
       "      <td>...</td>\n",
       "      <td>...</td>\n",
       "      <td>...</td>\n",
       "    </tr>\n",
       "    <tr>\n",
       "      <th>10642</th>\n",
       "      <td>18/06/2023</td>\n",
       "      <td>NaN</td>\n",
       "      <td>NaN</td>\n",
       "    </tr>\n",
       "    <tr>\n",
       "      <th>10643</th>\n",
       "      <td>19/06/2023</td>\n",
       "      <td>NaN</td>\n",
       "      <td>NaN</td>\n",
       "    </tr>\n",
       "    <tr>\n",
       "      <th>10644</th>\n",
       "      <td>20/06/2023</td>\n",
       "      <td>231.0</td>\n",
       "      <td>NaN</td>\n",
       "    </tr>\n",
       "    <tr>\n",
       "      <th>10645</th>\n",
       "      <td>21/06/2023</td>\n",
       "      <td>231.0</td>\n",
       "      <td>NaN</td>\n",
       "    </tr>\n",
       "    <tr>\n",
       "      <th>10646</th>\n",
       "      <td>22/06/2023</td>\n",
       "      <td>228.0</td>\n",
       "      <td>NaN</td>\n",
       "    </tr>\n",
       "  </tbody>\n",
       "</table>\n",
       "<p>10647 rows × 3 columns</p>\n",
       "</div>"
      ],
      "text/plain": [
       "             Data  EMBI + Risco-Brasil - - - JP Morgan - JPM366_EMBI366  \\\n",
       "0      29/04/1994                                             1120.0      \n",
       "1      30/04/1994                                                NaN      \n",
       "2      01/05/1994                                                NaN      \n",
       "3      02/05/1994                                             1131.0      \n",
       "4      03/05/1994                                             1081.0      \n",
       "...           ...                                                ...      \n",
       "10642  18/06/2023                                                NaN      \n",
       "10643  19/06/2023                                                NaN      \n",
       "10644  20/06/2023                                              231.0      \n",
       "10645  21/06/2023                                              231.0      \n",
       "10646  22/06/2023                                              228.0      \n",
       "\n",
       "       Unnamed: 2  \n",
       "0             NaN  \n",
       "1             NaN  \n",
       "2             NaN  \n",
       "3             NaN  \n",
       "4             NaN  \n",
       "...           ...  \n",
       "10642         NaN  \n",
       "10643         NaN  \n",
       "10644         NaN  \n",
       "10645         NaN  \n",
       "10646         NaN  \n",
       "\n",
       "[10647 rows x 3 columns]"
      ]
     },
     "execution_count": 484,
     "metadata": {},
     "output_type": "execute_result"
    }
   ],
   "source": [
    "embi"
   ]
  },
  {
   "cell_type": "code",
   "execution_count": 485,
   "id": "c190dc44",
   "metadata": {},
   "outputs": [],
   "source": [
    "embi = embi.drop('Unnamed: 2', axis = 1)"
   ]
  },
  {
   "cell_type": "code",
   "execution_count": 486,
   "id": "9e0f94cf",
   "metadata": {},
   "outputs": [
    {
     "data": {
      "text/html": [
       "<div>\n",
       "<style scoped>\n",
       "    .dataframe tbody tr th:only-of-type {\n",
       "        vertical-align: middle;\n",
       "    }\n",
       "\n",
       "    .dataframe tbody tr th {\n",
       "        vertical-align: top;\n",
       "    }\n",
       "\n",
       "    .dataframe thead th {\n",
       "        text-align: right;\n",
       "    }\n",
       "</style>\n",
       "<table border=\"1\" class=\"dataframe\">\n",
       "  <thead>\n",
       "    <tr style=\"text-align: right;\">\n",
       "      <th></th>\n",
       "      <th>Data</th>\n",
       "      <th>EMBI + Risco-Brasil - - - JP Morgan - JPM366_EMBI366</th>\n",
       "    </tr>\n",
       "  </thead>\n",
       "  <tbody>\n",
       "    <tr>\n",
       "      <th>0</th>\n",
       "      <td>29/04/1994</td>\n",
       "      <td>1120.0</td>\n",
       "    </tr>\n",
       "    <tr>\n",
       "      <th>1</th>\n",
       "      <td>30/04/1994</td>\n",
       "      <td>NaN</td>\n",
       "    </tr>\n",
       "    <tr>\n",
       "      <th>2</th>\n",
       "      <td>01/05/1994</td>\n",
       "      <td>NaN</td>\n",
       "    </tr>\n",
       "    <tr>\n",
       "      <th>3</th>\n",
       "      <td>02/05/1994</td>\n",
       "      <td>1131.0</td>\n",
       "    </tr>\n",
       "    <tr>\n",
       "      <th>4</th>\n",
       "      <td>03/05/1994</td>\n",
       "      <td>1081.0</td>\n",
       "    </tr>\n",
       "    <tr>\n",
       "      <th>...</th>\n",
       "      <td>...</td>\n",
       "      <td>...</td>\n",
       "    </tr>\n",
       "    <tr>\n",
       "      <th>10642</th>\n",
       "      <td>18/06/2023</td>\n",
       "      <td>NaN</td>\n",
       "    </tr>\n",
       "    <tr>\n",
       "      <th>10643</th>\n",
       "      <td>19/06/2023</td>\n",
       "      <td>NaN</td>\n",
       "    </tr>\n",
       "    <tr>\n",
       "      <th>10644</th>\n",
       "      <td>20/06/2023</td>\n",
       "      <td>231.0</td>\n",
       "    </tr>\n",
       "    <tr>\n",
       "      <th>10645</th>\n",
       "      <td>21/06/2023</td>\n",
       "      <td>231.0</td>\n",
       "    </tr>\n",
       "    <tr>\n",
       "      <th>10646</th>\n",
       "      <td>22/06/2023</td>\n",
       "      <td>228.0</td>\n",
       "    </tr>\n",
       "  </tbody>\n",
       "</table>\n",
       "<p>10647 rows × 2 columns</p>\n",
       "</div>"
      ],
      "text/plain": [
       "             Data  EMBI + Risco-Brasil - - - JP Morgan - JPM366_EMBI366\n",
       "0      29/04/1994                                             1120.0   \n",
       "1      30/04/1994                                                NaN   \n",
       "2      01/05/1994                                                NaN   \n",
       "3      02/05/1994                                             1131.0   \n",
       "4      03/05/1994                                             1081.0   \n",
       "...           ...                                                ...   \n",
       "10642  18/06/2023                                                NaN   \n",
       "10643  19/06/2023                                                NaN   \n",
       "10644  20/06/2023                                              231.0   \n",
       "10645  21/06/2023                                              231.0   \n",
       "10646  22/06/2023                                              228.0   \n",
       "\n",
       "[10647 rows x 2 columns]"
      ]
     },
     "execution_count": 486,
     "metadata": {},
     "output_type": "execute_result"
    }
   ],
   "source": [
    "embi"
   ]
  },
  {
   "cell_type": "code",
   "execution_count": 487,
   "id": "1329a1cb",
   "metadata": {},
   "outputs": [],
   "source": [
    "embi = embi.rename(columns={'EMBI + Risco-Brasil - - - JP Morgan - JPM366_EMBI366': 'Embi'})"
   ]
  },
  {
   "cell_type": "code",
   "execution_count": 488,
   "id": "04c97008",
   "metadata": {},
   "outputs": [
    {
     "data": {
      "text/html": [
       "<div>\n",
       "<style scoped>\n",
       "    .dataframe tbody tr th:only-of-type {\n",
       "        vertical-align: middle;\n",
       "    }\n",
       "\n",
       "    .dataframe tbody tr th {\n",
       "        vertical-align: top;\n",
       "    }\n",
       "\n",
       "    .dataframe thead th {\n",
       "        text-align: right;\n",
       "    }\n",
       "</style>\n",
       "<table border=\"1\" class=\"dataframe\">\n",
       "  <thead>\n",
       "    <tr style=\"text-align: right;\">\n",
       "      <th></th>\n",
       "      <th>Data</th>\n",
       "      <th>Embi</th>\n",
       "    </tr>\n",
       "  </thead>\n",
       "  <tbody>\n",
       "    <tr>\n",
       "      <th>0</th>\n",
       "      <td>29/04/1994</td>\n",
       "      <td>1120.0</td>\n",
       "    </tr>\n",
       "    <tr>\n",
       "      <th>1</th>\n",
       "      <td>30/04/1994</td>\n",
       "      <td>NaN</td>\n",
       "    </tr>\n",
       "    <tr>\n",
       "      <th>2</th>\n",
       "      <td>01/05/1994</td>\n",
       "      <td>NaN</td>\n",
       "    </tr>\n",
       "    <tr>\n",
       "      <th>3</th>\n",
       "      <td>02/05/1994</td>\n",
       "      <td>1131.0</td>\n",
       "    </tr>\n",
       "    <tr>\n",
       "      <th>4</th>\n",
       "      <td>03/05/1994</td>\n",
       "      <td>1081.0</td>\n",
       "    </tr>\n",
       "    <tr>\n",
       "      <th>...</th>\n",
       "      <td>...</td>\n",
       "      <td>...</td>\n",
       "    </tr>\n",
       "    <tr>\n",
       "      <th>10642</th>\n",
       "      <td>18/06/2023</td>\n",
       "      <td>NaN</td>\n",
       "    </tr>\n",
       "    <tr>\n",
       "      <th>10643</th>\n",
       "      <td>19/06/2023</td>\n",
       "      <td>NaN</td>\n",
       "    </tr>\n",
       "    <tr>\n",
       "      <th>10644</th>\n",
       "      <td>20/06/2023</td>\n",
       "      <td>231.0</td>\n",
       "    </tr>\n",
       "    <tr>\n",
       "      <th>10645</th>\n",
       "      <td>21/06/2023</td>\n",
       "      <td>231.0</td>\n",
       "    </tr>\n",
       "    <tr>\n",
       "      <th>10646</th>\n",
       "      <td>22/06/2023</td>\n",
       "      <td>228.0</td>\n",
       "    </tr>\n",
       "  </tbody>\n",
       "</table>\n",
       "<p>10647 rows × 2 columns</p>\n",
       "</div>"
      ],
      "text/plain": [
       "             Data    Embi\n",
       "0      29/04/1994  1120.0\n",
       "1      30/04/1994     NaN\n",
       "2      01/05/1994     NaN\n",
       "3      02/05/1994  1131.0\n",
       "4      03/05/1994  1081.0\n",
       "...           ...     ...\n",
       "10642  18/06/2023     NaN\n",
       "10643  19/06/2023     NaN\n",
       "10644  20/06/2023   231.0\n",
       "10645  21/06/2023   231.0\n",
       "10646  22/06/2023   228.0\n",
       "\n",
       "[10647 rows x 2 columns]"
      ]
     },
     "execution_count": 488,
     "metadata": {},
     "output_type": "execute_result"
    }
   ],
   "source": [
    "embi"
   ]
  },
  {
   "cell_type": "code",
   "execution_count": 489,
   "id": "efe3388f",
   "metadata": {},
   "outputs": [
    {
     "name": "stdout",
     "output_type": "stream",
     "text": [
      "<class 'pandas.core.frame.DataFrame'>\n",
      "RangeIndex: 10647 entries, 0 to 10646\n",
      "Data columns (total 2 columns):\n",
      " #   Column  Non-Null Count  Dtype  \n",
      "---  ------  --------------  -----  \n",
      " 0   Data    10647 non-null  object \n",
      " 1   Embi    7481 non-null   float64\n",
      "dtypes: float64(1), object(1)\n",
      "memory usage: 166.5+ KB\n"
     ]
    }
   ],
   "source": [
    "embi.info()"
   ]
  },
  {
   "cell_type": "code",
   "execution_count": 490,
   "id": "b3906c71",
   "metadata": {},
   "outputs": [],
   "source": [
    "embi = embi.dropna(inplace = False, axis = 0)"
   ]
  },
  {
   "cell_type": "code",
   "execution_count": 491,
   "id": "ab3438be",
   "metadata": {},
   "outputs": [
    {
     "data": {
      "text/html": [
       "<div>\n",
       "<style scoped>\n",
       "    .dataframe tbody tr th:only-of-type {\n",
       "        vertical-align: middle;\n",
       "    }\n",
       "\n",
       "    .dataframe tbody tr th {\n",
       "        vertical-align: top;\n",
       "    }\n",
       "\n",
       "    .dataframe thead th {\n",
       "        text-align: right;\n",
       "    }\n",
       "</style>\n",
       "<table border=\"1\" class=\"dataframe\">\n",
       "  <thead>\n",
       "    <tr style=\"text-align: right;\">\n",
       "      <th></th>\n",
       "      <th>Data</th>\n",
       "      <th>Embi</th>\n",
       "    </tr>\n",
       "  </thead>\n",
       "  <tbody>\n",
       "    <tr>\n",
       "      <th>0</th>\n",
       "      <td>29/04/1994</td>\n",
       "      <td>1120.0</td>\n",
       "    </tr>\n",
       "    <tr>\n",
       "      <th>3</th>\n",
       "      <td>02/05/1994</td>\n",
       "      <td>1131.0</td>\n",
       "    </tr>\n",
       "    <tr>\n",
       "      <th>4</th>\n",
       "      <td>03/05/1994</td>\n",
       "      <td>1081.0</td>\n",
       "    </tr>\n",
       "    <tr>\n",
       "      <th>5</th>\n",
       "      <td>04/05/1994</td>\n",
       "      <td>1083.0</td>\n",
       "    </tr>\n",
       "    <tr>\n",
       "      <th>6</th>\n",
       "      <td>05/05/1994</td>\n",
       "      <td>1105.0</td>\n",
       "    </tr>\n",
       "    <tr>\n",
       "      <th>...</th>\n",
       "      <td>...</td>\n",
       "      <td>...</td>\n",
       "    </tr>\n",
       "    <tr>\n",
       "      <th>10639</th>\n",
       "      <td>15/06/2023</td>\n",
       "      <td>230.0</td>\n",
       "    </tr>\n",
       "    <tr>\n",
       "      <th>10640</th>\n",
       "      <td>16/06/2023</td>\n",
       "      <td>228.0</td>\n",
       "    </tr>\n",
       "    <tr>\n",
       "      <th>10644</th>\n",
       "      <td>20/06/2023</td>\n",
       "      <td>231.0</td>\n",
       "    </tr>\n",
       "    <tr>\n",
       "      <th>10645</th>\n",
       "      <td>21/06/2023</td>\n",
       "      <td>231.0</td>\n",
       "    </tr>\n",
       "    <tr>\n",
       "      <th>10646</th>\n",
       "      <td>22/06/2023</td>\n",
       "      <td>228.0</td>\n",
       "    </tr>\n",
       "  </tbody>\n",
       "</table>\n",
       "<p>7481 rows × 2 columns</p>\n",
       "</div>"
      ],
      "text/plain": [
       "             Data    Embi\n",
       "0      29/04/1994  1120.0\n",
       "3      02/05/1994  1131.0\n",
       "4      03/05/1994  1081.0\n",
       "5      04/05/1994  1083.0\n",
       "6      05/05/1994  1105.0\n",
       "...           ...     ...\n",
       "10639  15/06/2023   230.0\n",
       "10640  16/06/2023   228.0\n",
       "10644  20/06/2023   231.0\n",
       "10645  21/06/2023   231.0\n",
       "10646  22/06/2023   228.0\n",
       "\n",
       "[7481 rows x 2 columns]"
      ]
     },
     "execution_count": 491,
     "metadata": {},
     "output_type": "execute_result"
    }
   ],
   "source": [
    "embi"
   ]
  },
  {
   "cell_type": "code",
   "execution_count": 492,
   "id": "81bd46bf",
   "metadata": {},
   "outputs": [
    {
     "data": {
      "text/plain": [
       "Data     object\n",
       "Embi    float64\n",
       "dtype: object"
      ]
     },
     "execution_count": 492,
     "metadata": {},
     "output_type": "execute_result"
    }
   ],
   "source": [
    "embi.dtypes"
   ]
  },
  {
   "cell_type": "code",
   "execution_count": 494,
   "id": "9d5cf76e",
   "metadata": {},
   "outputs": [
    {
     "name": "stderr",
     "output_type": "stream",
     "text": [
      "C:\\Users\\luizv\\AppData\\Local\\Temp/ipykernel_40844/2535128852.py:1: SettingWithCopyWarning: \n",
      "A value is trying to be set on a copy of a slice from a DataFrame.\n",
      "Try using .loc[row_indexer,col_indexer] = value instead\n",
      "\n",
      "See the caveats in the documentation: https://pandas.pydata.org/pandas-docs/stable/user_guide/indexing.html#returning-a-view-versus-a-copy\n",
      "  embi['Data'] = pd.to_datetime(embi['Data'], format='%d/%m/%Y')\n"
     ]
    }
   ],
   "source": [
    "embi['Data'] = pd.to_datetime(embi['Data'], format='%d/%m/%Y')"
   ]
  },
  {
   "cell_type": "code",
   "execution_count": 495,
   "id": "bc7db7b9",
   "metadata": {},
   "outputs": [
    {
     "data": {
      "text/html": [
       "<div>\n",
       "<style scoped>\n",
       "    .dataframe tbody tr th:only-of-type {\n",
       "        vertical-align: middle;\n",
       "    }\n",
       "\n",
       "    .dataframe tbody tr th {\n",
       "        vertical-align: top;\n",
       "    }\n",
       "\n",
       "    .dataframe thead th {\n",
       "        text-align: right;\n",
       "    }\n",
       "</style>\n",
       "<table border=\"1\" class=\"dataframe\">\n",
       "  <thead>\n",
       "    <tr style=\"text-align: right;\">\n",
       "      <th></th>\n",
       "      <th>Data</th>\n",
       "      <th>Embi</th>\n",
       "    </tr>\n",
       "  </thead>\n",
       "  <tbody>\n",
       "    <tr>\n",
       "      <th>0</th>\n",
       "      <td>1994-04-29</td>\n",
       "      <td>1120.0</td>\n",
       "    </tr>\n",
       "    <tr>\n",
       "      <th>3</th>\n",
       "      <td>1994-05-02</td>\n",
       "      <td>1131.0</td>\n",
       "    </tr>\n",
       "    <tr>\n",
       "      <th>4</th>\n",
       "      <td>1994-05-03</td>\n",
       "      <td>1081.0</td>\n",
       "    </tr>\n",
       "    <tr>\n",
       "      <th>5</th>\n",
       "      <td>1994-05-04</td>\n",
       "      <td>1083.0</td>\n",
       "    </tr>\n",
       "    <tr>\n",
       "      <th>6</th>\n",
       "      <td>1994-05-05</td>\n",
       "      <td>1105.0</td>\n",
       "    </tr>\n",
       "    <tr>\n",
       "      <th>...</th>\n",
       "      <td>...</td>\n",
       "      <td>...</td>\n",
       "    </tr>\n",
       "    <tr>\n",
       "      <th>10639</th>\n",
       "      <td>2023-06-15</td>\n",
       "      <td>230.0</td>\n",
       "    </tr>\n",
       "    <tr>\n",
       "      <th>10640</th>\n",
       "      <td>2023-06-16</td>\n",
       "      <td>228.0</td>\n",
       "    </tr>\n",
       "    <tr>\n",
       "      <th>10644</th>\n",
       "      <td>2023-06-20</td>\n",
       "      <td>231.0</td>\n",
       "    </tr>\n",
       "    <tr>\n",
       "      <th>10645</th>\n",
       "      <td>2023-06-21</td>\n",
       "      <td>231.0</td>\n",
       "    </tr>\n",
       "    <tr>\n",
       "      <th>10646</th>\n",
       "      <td>2023-06-22</td>\n",
       "      <td>228.0</td>\n",
       "    </tr>\n",
       "  </tbody>\n",
       "</table>\n",
       "<p>7481 rows × 2 columns</p>\n",
       "</div>"
      ],
      "text/plain": [
       "            Data    Embi\n",
       "0     1994-04-29  1120.0\n",
       "3     1994-05-02  1131.0\n",
       "4     1994-05-03  1081.0\n",
       "5     1994-05-04  1083.0\n",
       "6     1994-05-05  1105.0\n",
       "...          ...     ...\n",
       "10639 2023-06-15   230.0\n",
       "10640 2023-06-16   228.0\n",
       "10644 2023-06-20   231.0\n",
       "10645 2023-06-21   231.0\n",
       "10646 2023-06-22   228.0\n",
       "\n",
       "[7481 rows x 2 columns]"
      ]
     },
     "execution_count": 495,
     "metadata": {},
     "output_type": "execute_result"
    }
   ],
   "source": [
    "embi"
   ]
  },
  {
   "cell_type": "code",
   "execution_count": 496,
   "id": "3b6847b6",
   "metadata": {},
   "outputs": [],
   "source": [
    "embi = embi.set_index('Data')"
   ]
  },
  {
   "cell_type": "code",
   "execution_count": 497,
   "id": "8afed2ab",
   "metadata": {},
   "outputs": [
    {
     "data": {
      "text/html": [
       "<div>\n",
       "<style scoped>\n",
       "    .dataframe tbody tr th:only-of-type {\n",
       "        vertical-align: middle;\n",
       "    }\n",
       "\n",
       "    .dataframe tbody tr th {\n",
       "        vertical-align: top;\n",
       "    }\n",
       "\n",
       "    .dataframe thead th {\n",
       "        text-align: right;\n",
       "    }\n",
       "</style>\n",
       "<table border=\"1\" class=\"dataframe\">\n",
       "  <thead>\n",
       "    <tr style=\"text-align: right;\">\n",
       "      <th></th>\n",
       "      <th>Embi</th>\n",
       "    </tr>\n",
       "    <tr>\n",
       "      <th>Data</th>\n",
       "      <th></th>\n",
       "    </tr>\n",
       "  </thead>\n",
       "  <tbody>\n",
       "    <tr>\n",
       "      <th>1994-04-29</th>\n",
       "      <td>1120.0</td>\n",
       "    </tr>\n",
       "    <tr>\n",
       "      <th>1994-05-02</th>\n",
       "      <td>1131.0</td>\n",
       "    </tr>\n",
       "    <tr>\n",
       "      <th>1994-05-03</th>\n",
       "      <td>1081.0</td>\n",
       "    </tr>\n",
       "    <tr>\n",
       "      <th>1994-05-04</th>\n",
       "      <td>1083.0</td>\n",
       "    </tr>\n",
       "    <tr>\n",
       "      <th>1994-05-05</th>\n",
       "      <td>1105.0</td>\n",
       "    </tr>\n",
       "    <tr>\n",
       "      <th>...</th>\n",
       "      <td>...</td>\n",
       "    </tr>\n",
       "    <tr>\n",
       "      <th>2023-06-15</th>\n",
       "      <td>230.0</td>\n",
       "    </tr>\n",
       "    <tr>\n",
       "      <th>2023-06-16</th>\n",
       "      <td>228.0</td>\n",
       "    </tr>\n",
       "    <tr>\n",
       "      <th>2023-06-20</th>\n",
       "      <td>231.0</td>\n",
       "    </tr>\n",
       "    <tr>\n",
       "      <th>2023-06-21</th>\n",
       "      <td>231.0</td>\n",
       "    </tr>\n",
       "    <tr>\n",
       "      <th>2023-06-22</th>\n",
       "      <td>228.0</td>\n",
       "    </tr>\n",
       "  </tbody>\n",
       "</table>\n",
       "<p>7481 rows × 1 columns</p>\n",
       "</div>"
      ],
      "text/plain": [
       "              Embi\n",
       "Data              \n",
       "1994-04-29  1120.0\n",
       "1994-05-02  1131.0\n",
       "1994-05-03  1081.0\n",
       "1994-05-04  1083.0\n",
       "1994-05-05  1105.0\n",
       "...            ...\n",
       "2023-06-15   230.0\n",
       "2023-06-16   228.0\n",
       "2023-06-20   231.0\n",
       "2023-06-21   231.0\n",
       "2023-06-22   228.0\n",
       "\n",
       "[7481 rows x 1 columns]"
      ]
     },
     "execution_count": 497,
     "metadata": {},
     "output_type": "execute_result"
    }
   ],
   "source": [
    "embi"
   ]
  },
  {
   "cell_type": "code",
   "execution_count": 504,
   "id": "eefecb68",
   "metadata": {},
   "outputs": [
    {
     "data": {
      "image/png": "[encoded data removed]",
      "text/plain": [
       "<Figure size 2160x720 with 1 Axes>"
      ]
     },
     "metadata": {
      "needs_background": "light"
     },
     "output_type": "display_data"
    }
   ],
   "source": [
    "fig, axs = plt.subplots(figsize=(30,10))\n",
    "embi['Embi'].plot(ax=axs)\n",
    "axs.set_xlabel('Data')\n",
    "plt.show()"
   ]
  },
  {
   "cell_type": "code",
   "execution_count": 500,
   "id": "1792c0ec",
   "metadata": {},
   "outputs": [
    {
     "name": "stdout",
     "output_type": "stream",
     "text": [
      "Results of Dickey-Fuller Test:\n",
      "Test Statistic                   -3.022005\n",
      "p-value                           0.032890\n",
      "#Lags Used                       36.000000\n",
      "Number of Observations Used    7444.000000\n",
      "Critical Value (1%)              -3.431229\n",
      "Critical Value (5%)              -2.861928\n",
      "Critical Value (10%)             -2.566977\n",
      "dtype: float64\n"
     ]
    }
   ],
   "source": [
    "adf_test(embi[\"Embi\"])"
   ]
  },
  {
   "attachments": {},
   "cell_type": "markdown",
   "id": "1df56dca",
   "metadata": {},
   "source": [
    "### Para o teste ADF, para os valores críticos a níveis de 10 e 5%, rejeitamos a hipotese nula de uma raíz unitária e, para 1% falhamos em rejeitar a hipótese nula, indicando a existência de uma raíz unitária ###"
   ]
  },
  {
   "cell_type": "code",
   "execution_count": 502,
   "id": "988c4f1e",
   "metadata": {},
   "outputs": [
    {
     "name": "stdout",
     "output_type": "stream",
     "text": [
      "Results of KPSS Test:\n",
      "Test Statistic            6.894638\n",
      "p-value                   0.010000\n",
      "Lags Used                53.000000\n",
      "Critical Value (10%)      0.347000\n",
      "Critical Value (5%)       0.463000\n",
      "Critical Value (2.5%)     0.574000\n",
      "Critical Value (1%)       0.739000\n",
      "dtype: float64\n"
     ]
    },
    {
     "name": "stderr",
     "output_type": "stream",
     "text": [
      "C:\\Users\\luizv\\anaconda3\\lib\\site-packages\\statsmodels\\tsa\\stattools.py:1906: InterpolationWarning: The test statistic is outside of the range of p-values available in the\n",
      "look-up table. The actual p-value is smaller than the p-value returned.\n",
      "\n",
      "  warnings.warn(\n"
     ]
    }
   ],
   "source": [
    "kpss_test(embi['Embi'])"
   ]
  },
  {
   "attachments": {},
   "cell_type": "markdown",
   "id": "0f6ac6ba",
   "metadata": {},
   "source": [
    "### Para o teste KPSS, rejeitamos a hipótese nula da série ser estacionária, indicando a existência de uma raíz unitária ###"
   ]
  },
  {
   "cell_type": "code",
   "execution_count": 513,
   "id": "dabee310",
   "metadata": {},
   "outputs": [
    {
     "data": {
      "image/png": "[encoded data removed]",
      "text/plain": [
       "<Figure size 432x288 with 1 Axes>"
      ]
     },
     "metadata": {
      "needs_background": "light"
     },
     "output_type": "display_data"
    },
    {
     "data": {
      "image/png": "[encoded data removed]",
      "text/plain": [
       "<Figure size 432x288 with 1 Axes>"
      ]
     },
     "metadata": {
      "needs_background": "light"
     },
     "output_type": "display_data"
    }
   ],
   "source": [
    "pacf_embi = plot_pacf(embi['Embi'])\n",
    "acf_embi = plot_acf(embi['Embi'])"
   ]
  },
  {
   "cell_type": "code",
   "execution_count": null,
   "id": "3bc39147",
   "metadata": {},
   "outputs": [],
   "source": []
  }
 ],
 "metadata": {
  "kernelspec": {
   "display_name": "Python 3 (ipykernel)",
   "language": "python",
   "name": "python3"
  },
  "language_info": {
   "codemirror_mode": {
    "name": "ipython",
    "version": 3
   },
   "file_extension": ".py",
   "mimetype": "text/x-python",
   "name": "python",
   "nbconvert_exporter": "python",
   "pygments_lexer": "ipython3",
   "version": "3.9.7"
  }
 },
 "nbformat": 4,
 "nbformat_minor": 5
}
